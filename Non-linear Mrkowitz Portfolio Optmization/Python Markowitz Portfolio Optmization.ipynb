{
 "cells": [
  {
   "cell_type": "markdown",
   "metadata": {},
   "source": [
    "# <center>Markowitz com Python<center>\n",
    "    \n",
    "- Coleta de dados do Yahoo Finance\n",
    "- Problema de otimização\n",
    "- Plotagem da Fronteira de Pareto    "
   ]
  },
  {
   "cell_type": "markdown",
   "metadata": {},
   "source": [
    "# <center>Selecionando os ativos<center>"
   ]
  },
  {
   "cell_type": "code",
   "execution_count": 1,
   "metadata": {},
   "outputs": [],
   "source": [
    "import pandas as pd\n",
    "#ler arquivo com dados Ibovespa\n",
    "df_ibovespa = pd.read_csv('IBOVDia_22-11-23.csv', sep=';', encoding='latin-1',decimal=',')"
   ]
  },
  {
   "cell_type": "code",
   "execution_count": 2,
   "metadata": {},
   "outputs": [
    {
     "data": {
      "text/html": [
       "<div>\n",
       "<style scoped>\n",
       "    .dataframe tbody tr th:only-of-type {\n",
       "        vertical-align: middle;\n",
       "    }\n",
       "\n",
       "    .dataframe tbody tr th {\n",
       "        vertical-align: top;\n",
       "    }\n",
       "\n",
       "    .dataframe thead th {\n",
       "        text-align: right;\n",
       "    }\n",
       "</style>\n",
       "<table border=\"1\" class=\"dataframe\">\n",
       "  <thead>\n",
       "    <tr style=\"text-align: right;\">\n",
       "      <th></th>\n",
       "      <th>Código</th>\n",
       "      <th>Ação</th>\n",
       "      <th>Tipo</th>\n",
       "      <th>Qtde. Teórica</th>\n",
       "      <th>Part. (%)</th>\n",
       "    </tr>\n",
       "  </thead>\n",
       "  <tbody>\n",
       "    <tr>\n",
       "      <th>0</th>\n",
       "      <td>RRRP3</td>\n",
       "      <td>3R PETROLEUM</td>\n",
       "      <td>ON      NM</td>\n",
       "      <td>235.661.666</td>\n",
       "      <td>0.356</td>\n",
       "    </tr>\n",
       "    <tr>\n",
       "      <th>1</th>\n",
       "      <td>ALOS3</td>\n",
       "      <td>ALLOS</td>\n",
       "      <td>ON      NM</td>\n",
       "      <td>532.616.595</td>\n",
       "      <td>0.618</td>\n",
       "    </tr>\n",
       "    <tr>\n",
       "      <th>2</th>\n",
       "      <td>ALPA4</td>\n",
       "      <td>ALPARGATAS</td>\n",
       "      <td>PN      N1</td>\n",
       "      <td>208.965.950</td>\n",
       "      <td>0.091</td>\n",
       "    </tr>\n",
       "  </tbody>\n",
       "</table>\n",
       "</div>"
      ],
      "text/plain": [
       "  Código          Ação        Tipo Qtde. Teórica  Part. (%)\n",
       "0  RRRP3  3R PETROLEUM  ON      NM   235.661.666      0.356\n",
       "1  ALOS3         ALLOS  ON      NM   532.616.595      0.618\n",
       "2  ALPA4    ALPARGATAS  PN      N1   208.965.950      0.091"
      ]
     },
     "execution_count": 2,
     "metadata": {},
     "output_type": "execute_result"
    }
   ],
   "source": [
    "df_ibovespa.head(3)"
   ]
  },
  {
   "cell_type": "code",
   "execution_count": 3,
   "metadata": {},
   "outputs": [],
   "source": [
    "df_ibovespa.sort_values(by=['Código'], inplace = True)"
   ]
  },
  {
   "cell_type": "markdown",
   "metadata": {},
   "source": [
    "# <center> Série histórica de retornos <center>"
   ]
  },
  {
   "cell_type": "code",
   "execution_count": 4,
   "metadata": {},
   "outputs": [],
   "source": [
    "ativos = df_ibovespa['Código'].values+'.SA'"
   ]
  },
  {
   "cell_type": "code",
   "execution_count": 5,
   "metadata": {},
   "outputs": [
    {
     "data": {
      "text/plain": [
       "array(['ABEV3.SA', 'ALOS3.SA', 'ALPA4.SA', 'ARZZ3.SA', 'ASAI3.SA',\n",
       "       'AZUL4.SA', 'B3SA3.SA', 'BBAS3.SA', 'BBDC3.SA', 'BBDC4.SA',\n",
       "       'BBSE3.SA', 'BEEF3.SA', 'BHIA3.SA', 'BPAC11.SA', 'BRAP4.SA',\n",
       "       'BRFS3.SA', 'BRKM5.SA', 'CCRO3.SA', 'CIEL3.SA', 'CMIG4.SA',\n",
       "       'CMIN3.SA', 'COGN3.SA', 'CPFE3.SA', 'CPLE6.SA', 'CRFB3.SA',\n",
       "       'CSAN3.SA', 'CSNA3.SA', 'CVCB3.SA', 'CYRE3.SA', 'DXCO3.SA',\n",
       "       'EGIE3.SA', 'ELET3.SA', 'ELET6.SA', 'EMBR3.SA', 'ENEV3.SA',\n",
       "       'ENGI11.SA', 'EQTL3.SA', 'EZTC3.SA', 'FLRY3.SA', 'GGBR4.SA',\n",
       "       'GOAU4.SA', 'GOLL4.SA', 'HAPV3.SA', 'HYPE3.SA', 'IGTI11.SA',\n",
       "       'IRBR3.SA', 'ITSA4.SA', 'ITUB4.SA', 'JBSS3.SA', 'KLBN11.SA',\n",
       "       'LREN3.SA', 'LWSA3.SA', 'MGLU3.SA', 'MRFG3.SA', 'MRVE3.SA',\n",
       "       'MULT3.SA', 'NTCO3.SA', 'PCAR3.SA', 'PETR3.SA', 'PETR4.SA',\n",
       "       'PETZ3.SA', 'PRIO3.SA', 'RADL3.SA', 'RAIL3.SA', 'RAIZ4.SA',\n",
       "       'RDOR3.SA', 'RECV3.SA', 'RENT3.SA', 'RRRP3.SA', 'SANB11.SA',\n",
       "       'SBSP3.SA', 'SLCE3.SA', 'SMTO3.SA', 'SOMA3.SA', 'SUZB3.SA',\n",
       "       'TAEE11.SA', 'TIMS3.SA', 'TOTS3.SA', 'UGPA3.SA', 'USIM5.SA',\n",
       "       'VALE3.SA', 'VAMO3.SA', 'VBBR3.SA', 'VIVT3.SA', 'WEGE3.SA',\n",
       "       'YDUQ3.SA'], dtype=object)"
      ]
     },
     "execution_count": 5,
     "metadata": {},
     "output_type": "execute_result"
    }
   ],
   "source": [
    "ativos"
   ]
  },
  {
   "cell_type": "markdown",
   "metadata": {},
   "source": [
    "ativos = ['ABEV3.SA', 'ALPA4.SA', 'AMER3.SA', 'ARZZ3.SA', 'ASAI3.SA',\n",
    "       'AZUL4.SA', 'B3SA3.SA', 'BBAS3.SA', 'BBDC3.SA', 'BBDC4.SA',\n",
    "       'BBSE3.SA', 'BEEF3.SA', 'BPAC11.SA', 'BPAN4.SA', 'BRAP4.SA',\n",
    "       'BRFS3.SA', 'BRKM5.SA',  'CASH3.SA', 'CCRO3.SA',\n",
    "       'CIEL3.SA', 'CMIG4.SA', 'CMIN3.SA', 'COGN3.SA', 'CPFE3.SA',\n",
    "       'CPLE6.SA', 'CRFB3.SA', 'CSAN3.SA', 'CSNA3.SA', 'CVCB3.SA',\n",
    "       'CYRE3.SA', 'DXCO3.SA', 'ECOR3.SA', 'EGIE3.SA', 'ELET3.SA',\n",
    "       'ELET6.SA', 'EMBR3.SA',  'ENEV3.SA', 'ENGI11.SA',\n",
    "       'EQTL3.SA', 'EZTC3.SA', 'FLRY3.SA', 'GGBR4.SA', 'GOAU4.SA',\n",
    "       'GOLL4.SA', 'HAPV3.SA', 'HYPE3.SA', 'IGTI11.SA', 'IRBR3.SA',\n",
    "       'ITSA4.SA', 'ITUB4.SA', 'JBSS3.SA', 'KLBN11.SA', 'LREN3.SA',\n",
    "       'LWSA3.SA', 'MGLU3.SA', 'MRFG3.SA', 'MRVE3.SA', 'MULT3.SA',\n",
    "       'NTCO3.SA', 'PCAR3.SA', 'PETR3.SA', 'PETR4.SA', 'PETZ3.SA',\n",
    "       'POSI3.SA', 'PRIO3.SA', 'QUAL3.SA', 'RADL3.SA', 'RAIL3.SA',\n",
    "       'RAIZ4.SA', 'RDOR3.SA', 'RENT3.SA', 'RRRP3.SA', 'SANB11.SA',\n",
    "       'SBSP3.SA', 'SLCE3.SA', 'SMTO3.SA', 'SOMA3.SA', \n",
    "       'SUZB3.SA', 'TAEE11.SA', 'TIMS3.SA', 'TOTS3.SA', 'UGPA3.SA',\n",
    "       'USIM5.SA', 'VALE3.SA', 'VBBR3.SA', 'VIVT3.SA',\n",
    "       'WEGE3.SA', 'YDUQ3.SA']"
   ]
  },
  {
   "cell_type": "code",
   "execution_count": 6,
   "metadata": {},
   "outputs": [],
   "source": [
    "data_inicial = '2023-09-28'\n",
    "data_final = '2023-10-28'"
   ]
  },
  {
   "cell_type": "code",
   "execution_count": 7,
   "metadata": {},
   "outputs": [
    {
     "name": "stdout",
     "output_type": "stream",
     "text": [
      "[*********************100%%**********************]  86 of 86 completed\n"
     ]
    }
   ],
   "source": [
    "import yfinance as yf\n",
    "preco_ativos = yf.download(tickers=ativos.tolist(), start=data_inicial, end=data_final, rounding=True)['Adj Close']\n",
    "retornos = preco_ativos.pct_change()\n",
    "retornos.columns = retornos.columns.str.rstrip('.SA')  \n",
    "retornos = retornos.dropna()"
   ]
  },
  {
   "cell_type": "markdown",
   "metadata": {},
   "source": [
    "# <center>Modelagem da otimização<center>\n",
    "    \n",
    "$$\\mathrm{\\min} \\,\\,\\, x^TCov\\,\\, x\\,\\,\\,\\,\\mathrm{\\max} \\,\\,\\, \\mu^Tx$$\n",
    "\n",
    "<center>sujeito a<center>\n",
    "\n",
    "$$\\displaystyle\\sum_{i=1}^n x_i=1$$\n",
    "\n",
    "$$x_i\\geq0, i=1,\\cdots,n$$\n",
    "    \n",
    "$$x_i\\leq1, i=1,\\cdots,n$$    \n",
    "    \n",
    "## <center>Otimização ponderada <center>\n",
    "\n",
    "$$\\mathrm{\\min} \\,\\,\\, \\alpha x^TCov\\,\\, x - (1-\\alpha) \\mu^Tx$$\n",
    "\n",
    "<center>sujeito a<center>\n",
    "\n",
    "$$[1,\\cdots,1]_{1\\times n}x=1$$\n",
    "\n",
    "$$0\\leq x_i\\leq 1, i=1,\\cdots,n$$\n",
    "    \n",
    "    \n",
    "## <center>Código em Python<center>   \n",
    "    \n",
    "https://docs.scipy.org/doc/scipy/reference/generated/scipy.optimize.minimize.html"
   ]
  },
  {
   "cell_type": "markdown",
   "metadata": {},
   "source": [
    "## <center>Parâmetros<center>"
   ]
  },
  {
   "cell_type": "code",
   "execution_count": 8,
   "metadata": {},
   "outputs": [],
   "source": [
    "import numpy as np\n",
    "QTD_ASSETS = len(ativos)\n",
    "TAM_TRAIN = 200\n",
    "QTD_PONTOS_FRONT = 20\n",
    "PONTOS_FRONT = np.linspace(0, 1, QTD_PONTOS_FRONT)\n",
    "TRAIN_RETURN = retornos[0:TAM_TRAIN-1]"
   ]
  },
  {
   "cell_type": "code",
   "execution_count": 9,
   "metadata": {},
   "outputs": [
    {
     "data": {
      "text/html": [
       "<div>\n",
       "<style scoped>\n",
       "    .dataframe tbody tr th:only-of-type {\n",
       "        vertical-align: middle;\n",
       "    }\n",
       "\n",
       "    .dataframe tbody tr th {\n",
       "        vertical-align: top;\n",
       "    }\n",
       "\n",
       "    .dataframe thead th {\n",
       "        text-align: right;\n",
       "    }\n",
       "</style>\n",
       "<table border=\"1\" class=\"dataframe\">\n",
       "  <thead>\n",
       "    <tr style=\"text-align: right;\">\n",
       "      <th></th>\n",
       "      <th>ABEV3</th>\n",
       "      <th>ALOS3</th>\n",
       "      <th>ALPA4</th>\n",
       "      <th>ARZZ3</th>\n",
       "      <th>ASAI3</th>\n",
       "      <th>AZUL4</th>\n",
       "      <th>B3SA3</th>\n",
       "      <th>BBAS3</th>\n",
       "      <th>BBDC3</th>\n",
       "      <th>BBDC4</th>\n",
       "      <th>...</th>\n",
       "      <th>TIMS3</th>\n",
       "      <th>TOTS3</th>\n",
       "      <th>UGPA3</th>\n",
       "      <th>USIM5</th>\n",
       "      <th>VALE3</th>\n",
       "      <th>VAMO3</th>\n",
       "      <th>VBBR3</th>\n",
       "      <th>VIVT3</th>\n",
       "      <th>WEGE3</th>\n",
       "      <th>YDUQ3</th>\n",
       "    </tr>\n",
       "    <tr>\n",
       "      <th>Date</th>\n",
       "      <th></th>\n",
       "      <th></th>\n",
       "      <th></th>\n",
       "      <th></th>\n",
       "      <th></th>\n",
       "      <th></th>\n",
       "      <th></th>\n",
       "      <th></th>\n",
       "      <th></th>\n",
       "      <th></th>\n",
       "      <th></th>\n",
       "      <th></th>\n",
       "      <th></th>\n",
       "      <th></th>\n",
       "      <th></th>\n",
       "      <th></th>\n",
       "      <th></th>\n",
       "      <th></th>\n",
       "      <th></th>\n",
       "      <th></th>\n",
       "      <th></th>\n",
       "    </tr>\n",
       "  </thead>\n",
       "  <tbody>\n",
       "    <tr>\n",
       "      <th>2023-10-19</th>\n",
       "      <td>-0.000798</td>\n",
       "      <td>-0.001364</td>\n",
       "      <td>0.005487</td>\n",
       "      <td>-0.014036</td>\n",
       "      <td>0.015712</td>\n",
       "      <td>-0.008514</td>\n",
       "      <td>-0.011680</td>\n",
       "      <td>0.007752</td>\n",
       "      <td>0.006395</td>\n",
       "      <td>0.004881</td>\n",
       "      <td>...</td>\n",
       "      <td>0.001299</td>\n",
       "      <td>0.003070</td>\n",
       "      <td>-0.001012</td>\n",
       "      <td>-0.012945</td>\n",
       "      <td>-0.014370</td>\n",
       "      <td>-0.013580</td>\n",
       "      <td>0.012579</td>\n",
       "      <td>-0.001311</td>\n",
       "      <td>-0.010207</td>\n",
       "      <td>0.007563</td>\n",
       "    </tr>\n",
       "    <tr>\n",
       "      <th>2023-10-20</th>\n",
       "      <td>-0.002396</td>\n",
       "      <td>0.002732</td>\n",
       "      <td>-0.016371</td>\n",
       "      <td>0.003993</td>\n",
       "      <td>0.008189</td>\n",
       "      <td>-0.035129</td>\n",
       "      <td>0.013636</td>\n",
       "      <td>-0.003239</td>\n",
       "      <td>-0.012708</td>\n",
       "      <td>-0.018737</td>\n",
       "      <td>...</td>\n",
       "      <td>-0.014916</td>\n",
       "      <td>-0.015685</td>\n",
       "      <td>0.003546</td>\n",
       "      <td>-0.024590</td>\n",
       "      <td>-0.027120</td>\n",
       "      <td>0.005006</td>\n",
       "      <td>0.012940</td>\n",
       "      <td>-0.014007</td>\n",
       "      <td>-0.003830</td>\n",
       "      <td>-0.019303</td>\n",
       "    </tr>\n",
       "    <tr>\n",
       "      <th>2023-10-23</th>\n",
       "      <td>-0.000801</td>\n",
       "      <td>0.038147</td>\n",
       "      <td>0.031900</td>\n",
       "      <td>0.020405</td>\n",
       "      <td>0.039711</td>\n",
       "      <td>0.046117</td>\n",
       "      <td>0.014350</td>\n",
       "      <td>-0.001422</td>\n",
       "      <td>0.000805</td>\n",
       "      <td>0.001414</td>\n",
       "      <td>...</td>\n",
       "      <td>-0.001317</td>\n",
       "      <td>0.000777</td>\n",
       "      <td>-0.004038</td>\n",
       "      <td>-0.003361</td>\n",
       "      <td>-0.001772</td>\n",
       "      <td>0.012453</td>\n",
       "      <td>0.004088</td>\n",
       "      <td>-0.001332</td>\n",
       "      <td>0.002662</td>\n",
       "      <td>0.008201</td>\n",
       "    </tr>\n",
       "    <tr>\n",
       "      <th>2023-10-24</th>\n",
       "      <td>0.003205</td>\n",
       "      <td>0.020560</td>\n",
       "      <td>0.052419</td>\n",
       "      <td>0.006779</td>\n",
       "      <td>-0.012153</td>\n",
       "      <td>0.020882</td>\n",
       "      <td>0.025641</td>\n",
       "      <td>-0.004678</td>\n",
       "      <td>0.002412</td>\n",
       "      <td>0.000000</td>\n",
       "      <td>...</td>\n",
       "      <td>0.005274</td>\n",
       "      <td>-0.005825</td>\n",
       "      <td>0.008616</td>\n",
       "      <td>0.006745</td>\n",
       "      <td>0.022760</td>\n",
       "      <td>-0.013530</td>\n",
       "      <td>0.012723</td>\n",
       "      <td>0.018449</td>\n",
       "      <td>0.032743</td>\n",
       "      <td>0.005965</td>\n",
       "    </tr>\n",
       "    <tr>\n",
       "      <th>2023-10-25</th>\n",
       "      <td>-0.006390</td>\n",
       "      <td>-0.007715</td>\n",
       "      <td>-0.005109</td>\n",
       "      <td>-0.023060</td>\n",
       "      <td>-0.030756</td>\n",
       "      <td>-0.026515</td>\n",
       "      <td>-0.005172</td>\n",
       "      <td>0.000204</td>\n",
       "      <td>-0.006415</td>\n",
       "      <td>-0.002825</td>\n",
       "      <td>...</td>\n",
       "      <td>-0.003934</td>\n",
       "      <td>-0.003906</td>\n",
       "      <td>0.013568</td>\n",
       "      <td>-0.016750</td>\n",
       "      <td>-0.000947</td>\n",
       "      <td>-0.042394</td>\n",
       "      <td>0.003518</td>\n",
       "      <td>-0.007202</td>\n",
       "      <td>-0.101114</td>\n",
       "      <td>-0.014016</td>\n",
       "    </tr>\n",
       "    <tr>\n",
       "      <th>2023-10-26</th>\n",
       "      <td>0.015273</td>\n",
       "      <td>0.019438</td>\n",
       "      <td>0.029525</td>\n",
       "      <td>0.033425</td>\n",
       "      <td>0.060743</td>\n",
       "      <td>0.039689</td>\n",
       "      <td>0.016464</td>\n",
       "      <td>0.020838</td>\n",
       "      <td>0.023406</td>\n",
       "      <td>0.025496</td>\n",
       "      <td>...</td>\n",
       "      <td>0.011850</td>\n",
       "      <td>0.035294</td>\n",
       "      <td>0.041150</td>\n",
       "      <td>0.018739</td>\n",
       "      <td>0.021485</td>\n",
       "      <td>0.045573</td>\n",
       "      <td>0.035553</td>\n",
       "      <td>0.012091</td>\n",
       "      <td>0.037814</td>\n",
       "      <td>0.026791</td>\n",
       "    </tr>\n",
       "    <tr>\n",
       "      <th>2023-10-27</th>\n",
       "      <td>-0.026920</td>\n",
       "      <td>-0.019915</td>\n",
       "      <td>-0.029925</td>\n",
       "      <td>-0.037679</td>\n",
       "      <td>-0.048718</td>\n",
       "      <td>-0.042665</td>\n",
       "      <td>-0.045183</td>\n",
       "      <td>-0.025415</td>\n",
       "      <td>-0.016562</td>\n",
       "      <td>-0.010359</td>\n",
       "      <td>...</td>\n",
       "      <td>-0.027326</td>\n",
       "      <td>-0.031818</td>\n",
       "      <td>-0.025238</td>\n",
       "      <td>0.041806</td>\n",
       "      <td>0.034797</td>\n",
       "      <td>-0.043587</td>\n",
       "      <td>-0.029014</td>\n",
       "      <td>-0.028454</td>\n",
       "      <td>-0.031537</td>\n",
       "      <td>-0.020234</td>\n",
       "    </tr>\n",
       "  </tbody>\n",
       "</table>\n",
       "<p>7 rows × 86 columns</p>\n",
       "</div>"
      ],
      "text/plain": [
       "               ABEV3     ALOS3     ALPA4     ARZZ3     ASAI3     AZUL4  \\\n",
       "Date                                                                     \n",
       "2023-10-19 -0.000798 -0.001364  0.005487 -0.014036  0.015712 -0.008514   \n",
       "2023-10-20 -0.002396  0.002732 -0.016371  0.003993  0.008189 -0.035129   \n",
       "2023-10-23 -0.000801  0.038147  0.031900  0.020405  0.039711  0.046117   \n",
       "2023-10-24  0.003205  0.020560  0.052419  0.006779 -0.012153  0.020882   \n",
       "2023-10-25 -0.006390 -0.007715 -0.005109 -0.023060 -0.030756 -0.026515   \n",
       "2023-10-26  0.015273  0.019438  0.029525  0.033425  0.060743  0.039689   \n",
       "2023-10-27 -0.026920 -0.019915 -0.029925 -0.037679 -0.048718 -0.042665   \n",
       "\n",
       "               B3SA3     BBAS3     BBDC3     BBDC4  ...     TIMS3     TOTS3  \\\n",
       "Date                                                ...                       \n",
       "2023-10-19 -0.011680  0.007752  0.006395  0.004881  ...  0.001299  0.003070   \n",
       "2023-10-20  0.013636 -0.003239 -0.012708 -0.018737  ... -0.014916 -0.015685   \n",
       "2023-10-23  0.014350 -0.001422  0.000805  0.001414  ... -0.001317  0.000777   \n",
       "2023-10-24  0.025641 -0.004678  0.002412  0.000000  ...  0.005274 -0.005825   \n",
       "2023-10-25 -0.005172  0.000204 -0.006415 -0.002825  ... -0.003934 -0.003906   \n",
       "2023-10-26  0.016464  0.020838  0.023406  0.025496  ...  0.011850  0.035294   \n",
       "2023-10-27 -0.045183 -0.025415 -0.016562 -0.010359  ... -0.027326 -0.031818   \n",
       "\n",
       "               UGPA3     USIM5     VALE3     VAMO3     VBBR3     VIVT3  \\\n",
       "Date                                                                     \n",
       "2023-10-19 -0.001012 -0.012945 -0.014370 -0.013580  0.012579 -0.001311   \n",
       "2023-10-20  0.003546 -0.024590 -0.027120  0.005006  0.012940 -0.014007   \n",
       "2023-10-23 -0.004038 -0.003361 -0.001772  0.012453  0.004088 -0.001332   \n",
       "2023-10-24  0.008616  0.006745  0.022760 -0.013530  0.012723  0.018449   \n",
       "2023-10-25  0.013568 -0.016750 -0.000947 -0.042394  0.003518 -0.007202   \n",
       "2023-10-26  0.041150  0.018739  0.021485  0.045573  0.035553  0.012091   \n",
       "2023-10-27 -0.025238  0.041806  0.034797 -0.043587 -0.029014 -0.028454   \n",
       "\n",
       "               WEGE3     YDUQ3  \n",
       "Date                            \n",
       "2023-10-19 -0.010207  0.007563  \n",
       "2023-10-20 -0.003830 -0.019303  \n",
       "2023-10-23  0.002662  0.008201  \n",
       "2023-10-24  0.032743  0.005965  \n",
       "2023-10-25 -0.101114 -0.014016  \n",
       "2023-10-26  0.037814  0.026791  \n",
       "2023-10-27 -0.031537 -0.020234  \n",
       "\n",
       "[7 rows x 86 columns]"
      ]
     },
     "execution_count": 9,
     "metadata": {},
     "output_type": "execute_result"
    }
   ],
   "source": [
    "TRAIN_RETURN"
   ]
  },
  {
   "cell_type": "markdown",
   "metadata": {},
   "source": [
    "### <center>Verificando se a matriz de covariância é Definida Positiva<center>"
   ]
  },
  {
   "cell_type": "code",
   "execution_count": 10,
   "metadata": {},
   "outputs": [],
   "source": [
    "def is_pos_def(A):\n",
    "    M = np.matrix(A)\n",
    "    return np.all(np.linalg.eigvals(M) > 0)"
   ]
  },
  {
   "cell_type": "code",
   "execution_count": 11,
   "metadata": {},
   "outputs": [
    {
     "data": {
      "text/plain": [
       "False"
      ]
     },
     "execution_count": 11,
     "metadata": {},
     "output_type": "execute_result"
    }
   ],
   "source": [
    "is_pos_def(TRAIN_RETURN.cov())"
   ]
  },
  {
   "cell_type": "markdown",
   "metadata": {},
   "source": [
    "## <center>Preparando para o Python<center>\n",
    "    \n",
    "- Bounds: $lb \\leq x \\leq ub$\n",
    "    \n",
    "https://docs.scipy.org/doc/scipy/reference/generated/scipy.optimize.Bounds.html    "
   ]
  },
  {
   "cell_type": "code",
   "execution_count": 12,
   "metadata": {},
   "outputs": [],
   "source": [
    "from scipy.optimize import Bounds\n",
    "bounds = Bounds(np.zeros(QTD_ASSETS), np.ones(QTD_ASSETS))"
   ]
  },
  {
   "cell_type": "markdown",
   "metadata": {},
   "source": [
    "## <center>Restrições de desigualdade (linear)<center>\n",
    " \n",
    "$$lb \\leq A\\cdot x \\leq ub$$    \n",
    "    \n",
    "https://docs.scipy.org/doc/scipy/reference/generated/scipy.optimize.LinearConstraint.html#scipy.optimize.LinearConstraint    \n",
    "- Note que temos uma restrição de igualdade: $A\\cdot x = 1$    \n",
    "    \n",
    "- É possível tratar uma restrição de igualdade como uma restrição de desigualdade? Sim\n",
    "\n",
    "- Note que $$A\\cdot x=1 \\,\\,\\,\\Leftrightarrow\\,\\,\\, 1\\leq A\\cdot x\\leq 1$$   \n",
    "    "
   ]
  },
  {
   "cell_type": "code",
   "execution_count": 13,
   "metadata": {},
   "outputs": [],
   "source": [
    "from scipy.optimize import LinearConstraint\n",
    "A = [QTD_ASSETS*[1]]\n",
    "linear_constraint = LinearConstraint(A,[1], [1])"
   ]
  },
  {
   "cell_type": "markdown",
   "metadata": {},
   "source": [
    "## <center>Solução inicial<center>"
   ]
  },
  {
   "cell_type": "code",
   "execution_count": 14,
   "metadata": {},
   "outputs": [],
   "source": [
    "U0 = 1/QTD_ASSETS*np.ones(QTD_ASSETS)"
   ]
  },
  {
   "cell_type": "markdown",
   "metadata": {},
   "source": [
    "## <center>Funções objetivo<center>"
   ]
  },
  {
   "cell_type": "code",
   "execution_count": 15,
   "metadata": {},
   "outputs": [],
   "source": [
    "def get_portfolio_return(U):\n",
    "    return TRAIN_RETURN.mean().values.dot(U)\n",
    "\n",
    "def get_portfolio_risk(U):\n",
    "    return (U.dot(TRAIN_RETURN.cov())).dot(U)"
   ]
  },
  {
   "cell_type": "markdown",
   "metadata": {},
   "source": [
    "## <center>Algoritmo de otimização<center>"
   ]
  },
  {
   "cell_type": "code",
   "execution_count": 16,
   "metadata": {},
   "outputs": [],
   "source": [
    "from scipy.optimize import minimize\n",
    "def get_optimize(aux_ponto_front):\n",
    "    \n",
    "    def objective_function(U,ponto_front=aux_ponto_front):\n",
    "        portfolio_risk = get_portfolio_risk(U)\n",
    "        portfolio_return = get_portfolio_return(U)\n",
    "        return ponto_front*portfolio_risk-(1-ponto_front)*portfolio_return\n",
    "    \n",
    "    Umin = minimize(objective_function, U0, method='SLSQP',  bounds=bounds, constraints=linear_constraint)    \n",
    "    \n",
    "    return Umin.x"
   ]
  },
  {
   "cell_type": "markdown",
   "metadata": {},
   "source": [
    "## <center>Construção da Fronteira de Pareto<center>"
   ]
  },
  {
   "cell_type": "code",
   "execution_count": 17,
   "metadata": {},
   "outputs": [],
   "source": [
    "def get_pareto_front():\n",
    "    carteiras_front = []\n",
    "    for ponto_front in PONTOS_FRONT:\n",
    "        carteira = get_optimize(ponto_front)\n",
    "        carteiras_front.append(carteira)\n",
    "    retorno = np.zeros(QTD_PONTOS_FRONT)\n",
    "    risco = np.zeros(QTD_PONTOS_FRONT)\n",
    "    for i in range(QTD_PONTOS_FRONT):\n",
    "        retorno[i] = get_portfolio_return(carteiras_front[i])\n",
    "        risco[i] = get_portfolio_risk(carteiras_front[i])\n",
    "    return retorno,risco,carteiras_front    "
   ]
  },
  {
   "cell_type": "code",
   "execution_count": 18,
   "metadata": {},
   "outputs": [],
   "source": [
    "retorno, risco,carteiras_front = get_pareto_front()"
   ]
  },
  {
   "cell_type": "markdown",
   "metadata": {},
   "source": [
    "# <center>Gráfico - Fronteira de Pareto<center>"
   ]
  },
  {
   "cell_type": "code",
   "execution_count": 19,
   "metadata": {},
   "outputs": [
    {
     "name": "stderr",
     "output_type": "stream",
     "text": [
      "No artists with labels found to put in legend.  Note that artists whose label start with an underscore are ignored when legend() is called with no argument.\n"
     ]
    },
    {
     "data": {
      "image/png": "[encoded data removed]",
      "text/plain": [
       "<Figure size 1200x600 with 1 Axes>"
      ]
     },
     "metadata": {},
     "output_type": "display_data"
    }
   ],
   "source": [
    "import matplotlib.pyplot as plt\n",
    "plt.figure(figsize = (12,6))\n",
    "plt.scatter(risco,retorno,marker='.',s=500,c=\"m\")\n",
    "plt.xlabel('Risco', fontsize=20)\n",
    "plt.ylabel('Retorno', fontsize=20)\n",
    "legend = plt.legend(loc='lower right', shadow=True, fontsize=20, ncol = 2)\n",
    "#plt.axis([0.00022, 0.00023, 0.0024, 0.0065]) # [xmin, xmax, ymin, ymax]\n",
    "plt.show()"
   ]
  },
  {
   "cell_type": "markdown",
   "metadata": {},
   "source": [
    "# <center>Comparando com o Ibovespa<center>"
   ]
  },
  {
   "cell_type": "code",
   "execution_count": 20,
   "metadata": {},
   "outputs": [],
   "source": [
    "ibovespa_composition = df_ibovespa['Part. (%)']/100"
   ]
  },
  {
   "cell_type": "code",
   "execution_count": 21,
   "metadata": {},
   "outputs": [
    {
     "data": {
      "text/plain": [
       "array([0.02718, 0.00618, 0.00091, 0.00175, 0.00794, 0.00258, 0.03365,\n",
       "       0.03309, 0.00946, 0.0365 , 0.00986, 0.00084, 0.00063, 0.01729,\n",
       "       0.00293, 0.01093, 0.00243, 0.00598, 0.00191, 0.00832, 0.0036 ,\n",
       "       0.00251, 0.00314, 0.00714, 0.00265, 0.00968, 0.00433, 0.00063,\n",
       "       0.00245, 0.001  , 0.0051 , 0.03641, 0.00546, 0.00667, 0.00924,\n",
       "       0.00684, 0.01717, 0.00072, 0.0027 , 0.01204, 0.00328, 0.00081,\n",
       "       0.00925, 0.00643, 0.00218, 0.00166, 0.02378, 0.06784, 0.01113,\n",
       "       0.0075 , 0.0063 , 0.00121, 0.00281, 0.00114, 0.00173, 0.0033 ,\n",
       "       0.00606, 0.00027, 0.04488, 0.07401, 0.00063, 0.01763, 0.01643,\n",
       "       0.01284, 0.002  , 0.01377, 0.00251, 0.02356, 0.00356, 0.00484,\n",
       "       0.01017, 0.00177, 0.00219, 0.00151, 0.01666, 0.00365, 0.00623,\n",
       "       0.00781, 0.01239, 0.00184, 0.1542 , 0.00189, 0.01106, 0.00987,\n",
       "       0.02295, 0.00263])"
      ]
     },
     "execution_count": 21,
     "metadata": {},
     "output_type": "execute_result"
    }
   ],
   "source": [
    "ibovespa_composition.values"
   ]
  },
  {
   "cell_type": "code",
   "execution_count": 22,
   "metadata": {},
   "outputs": [],
   "source": [
    "ibovespa_risk = get_portfolio_risk(ibovespa_composition.values)\n",
    "ibovespa_return = get_portfolio_return(ibovespa_composition.values)"
   ]
  },
  {
   "cell_type": "code",
   "execution_count": 24,
   "metadata": {},
   "outputs": [
    {
     "name": "stderr",
     "output_type": "stream",
     "text": [
      "No artists with labels found to put in legend.  Note that artists whose label start with an underscore are ignored when legend() is called with no argument.\n"
     ]
    },
    {
     "data": {
      "image/png": "[encoded data removed]",
      "text/plain": [
       "<Figure size 1200x600 with 1 Axes>"
      ]
     },
     "metadata": {},
     "output_type": "display_data"
    }
   ],
   "source": [
    "plt.figure(figsize = (12,6))\n",
    "plt.scatter(risco,retorno,marker='.',s=500,c=\"m\")\n",
    "plt.scatter(ibovespa_risk,ibovespa_return,marker='.',s=800,c=\"b\")\n",
    "plt.xlabel('Risco', fontsize=20)\n",
    "plt.ylabel('Retorno', fontsize=20)\n",
    "legend = plt.legend(loc='lower right', shadow=True, fontsize=20, ncol = 2)\n",
    "plt.yticks(fontsize=15)\n",
    "plt.xticks(fontsize=15)\n",
    "#plt.axis([0.00022, 0.00023, 0.0024, 0.0065]) # [xmin, xmax, ymin, ymax]\n",
    "plt.show()"
   ]
  },
  {
   "cell_type": "markdown",
   "metadata": {},
   "source": [
    "# <center>Otimizando o Índice de Sharpe<center>\n",
    "    \n",
    "$$ IS = \\dfrac{R_p-R_f}{\\sigma_p}$$\n",
    "    \n",
    "- $R_p$: Retorno do portfólio\n",
    "- $R_f$: Retorno do ativo livre de risco\n",
    "- $\\sigma_p$: Desvio padrão do portfólio    "
   ]
  },
  {
   "cell_type": "code",
   "execution_count": 25,
   "metadata": {},
   "outputs": [],
   "source": [
    "# Obtém informações do ativo livre de risco\n",
    "def consulta_bc(codigo_bcb):\n",
    "    url = 'http://api.bcb.gov.br/dados/serie/bcdata.sgs.{}/dados?formato=json'.format(codigo_bcb)\n",
    "    df = pd.read_json(url)\n",
    "    df['data'] = pd.to_datetime(df['data'], dayfirst=True)\n",
    "    df.set_index('data', inplace=True)\n",
    "    return df\n",
    "\n",
    "selic = consulta_bc(432) #puxa base histórica\n",
    "selic = selic/100"
   ]
  },
  {
   "cell_type": "code",
   "execution_count": 26,
   "metadata": {},
   "outputs": [
    {
     "data": {
      "text/html": [
       "<div>\n",
       "<style scoped>\n",
       "    .dataframe tbody tr th:only-of-type {\n",
       "        vertical-align: middle;\n",
       "    }\n",
       "\n",
       "    .dataframe tbody tr th {\n",
       "        vertical-align: top;\n",
       "    }\n",
       "\n",
       "    .dataframe thead th {\n",
       "        text-align: right;\n",
       "    }\n",
       "</style>\n",
       "<table border=\"1\" class=\"dataframe\">\n",
       "  <thead>\n",
       "    <tr style=\"text-align: right;\">\n",
       "      <th></th>\n",
       "      <th>valor</th>\n",
       "    </tr>\n",
       "    <tr>\n",
       "      <th>data</th>\n",
       "      <th></th>\n",
       "    </tr>\n",
       "  </thead>\n",
       "  <tbody>\n",
       "    <tr>\n",
       "      <th>1999-03-05</th>\n",
       "      <td>0.4500</td>\n",
       "    </tr>\n",
       "    <tr>\n",
       "      <th>1999-03-06</th>\n",
       "      <td>0.4500</td>\n",
       "    </tr>\n",
       "    <tr>\n",
       "      <th>1999-03-07</th>\n",
       "      <td>0.4500</td>\n",
       "    </tr>\n",
       "    <tr>\n",
       "      <th>1999-03-08</th>\n",
       "      <td>0.4500</td>\n",
       "    </tr>\n",
       "    <tr>\n",
       "      <th>1999-03-09</th>\n",
       "      <td>0.4500</td>\n",
       "    </tr>\n",
       "    <tr>\n",
       "      <th>...</th>\n",
       "      <td>...</td>\n",
       "    </tr>\n",
       "    <tr>\n",
       "      <th>2023-12-09</th>\n",
       "      <td>0.1225</td>\n",
       "    </tr>\n",
       "    <tr>\n",
       "      <th>2023-12-10</th>\n",
       "      <td>0.1225</td>\n",
       "    </tr>\n",
       "    <tr>\n",
       "      <th>2023-12-11</th>\n",
       "      <td>0.1225</td>\n",
       "    </tr>\n",
       "    <tr>\n",
       "      <th>2023-12-12</th>\n",
       "      <td>0.1225</td>\n",
       "    </tr>\n",
       "    <tr>\n",
       "      <th>2023-12-13</th>\n",
       "      <td>0.1225</td>\n",
       "    </tr>\n",
       "  </tbody>\n",
       "</table>\n",
       "<p>9050 rows × 1 columns</p>\n",
       "</div>"
      ],
      "text/plain": [
       "             valor\n",
       "data              \n",
       "1999-03-05  0.4500\n",
       "1999-03-06  0.4500\n",
       "1999-03-07  0.4500\n",
       "1999-03-08  0.4500\n",
       "1999-03-09  0.4500\n",
       "...            ...\n",
       "2023-12-09  0.1225\n",
       "2023-12-10  0.1225\n",
       "2023-12-11  0.1225\n",
       "2023-12-12  0.1225\n",
       "2023-12-13  0.1225\n",
       "\n",
       "[9050 rows x 1 columns]"
      ]
     },
     "execution_count": 26,
     "metadata": {},
     "output_type": "execute_result"
    }
   ],
   "source": [
    "selic"
   ]
  },
  {
   "cell_type": "code",
   "execution_count": 27,
   "metadata": {},
   "outputs": [],
   "source": [
    "selic = selic.loc[data_inicial:data_final] #utiliza apenas as datas do dataframe"
   ]
  },
  {
   "cell_type": "code",
   "execution_count": 28,
   "metadata": {},
   "outputs": [
    {
     "data": {
      "text/html": [
       "<div>\n",
       "<style scoped>\n",
       "    .dataframe tbody tr th:only-of-type {\n",
       "        vertical-align: middle;\n",
       "    }\n",
       "\n",
       "    .dataframe tbody tr th {\n",
       "        vertical-align: top;\n",
       "    }\n",
       "\n",
       "    .dataframe thead th {\n",
       "        text-align: right;\n",
       "    }\n",
       "</style>\n",
       "<table border=\"1\" class=\"dataframe\">\n",
       "  <thead>\n",
       "    <tr style=\"text-align: right;\">\n",
       "      <th></th>\n",
       "      <th>valor</th>\n",
       "    </tr>\n",
       "    <tr>\n",
       "      <th>data</th>\n",
       "      <th></th>\n",
       "    </tr>\n",
       "  </thead>\n",
       "  <tbody>\n",
       "    <tr>\n",
       "      <th>2023-09-28</th>\n",
       "      <td>0.1275</td>\n",
       "    </tr>\n",
       "    <tr>\n",
       "      <th>2023-09-29</th>\n",
       "      <td>0.1275</td>\n",
       "    </tr>\n",
       "    <tr>\n",
       "      <th>2023-09-30</th>\n",
       "      <td>0.1275</td>\n",
       "    </tr>\n",
       "    <tr>\n",
       "      <th>2023-10-01</th>\n",
       "      <td>0.1275</td>\n",
       "    </tr>\n",
       "    <tr>\n",
       "      <th>2023-10-02</th>\n",
       "      <td>0.1275</td>\n",
       "    </tr>\n",
       "    <tr>\n",
       "      <th>2023-10-03</th>\n",
       "      <td>0.1275</td>\n",
       "    </tr>\n",
       "    <tr>\n",
       "      <th>2023-10-04</th>\n",
       "      <td>0.1275</td>\n",
       "    </tr>\n",
       "    <tr>\n",
       "      <th>2023-10-05</th>\n",
       "      <td>0.1275</td>\n",
       "    </tr>\n",
       "    <tr>\n",
       "      <th>2023-10-06</th>\n",
       "      <td>0.1275</td>\n",
       "    </tr>\n",
       "    <tr>\n",
       "      <th>2023-10-07</th>\n",
       "      <td>0.1275</td>\n",
       "    </tr>\n",
       "    <tr>\n",
       "      <th>2023-10-08</th>\n",
       "      <td>0.1275</td>\n",
       "    </tr>\n",
       "    <tr>\n",
       "      <th>2023-10-09</th>\n",
       "      <td>0.1275</td>\n",
       "    </tr>\n",
       "    <tr>\n",
       "      <th>2023-10-10</th>\n",
       "      <td>0.1275</td>\n",
       "    </tr>\n",
       "    <tr>\n",
       "      <th>2023-10-11</th>\n",
       "      <td>0.1275</td>\n",
       "    </tr>\n",
       "    <tr>\n",
       "      <th>2023-10-12</th>\n",
       "      <td>0.1275</td>\n",
       "    </tr>\n",
       "    <tr>\n",
       "      <th>2023-10-13</th>\n",
       "      <td>0.1275</td>\n",
       "    </tr>\n",
       "    <tr>\n",
       "      <th>2023-10-14</th>\n",
       "      <td>0.1275</td>\n",
       "    </tr>\n",
       "    <tr>\n",
       "      <th>2023-10-15</th>\n",
       "      <td>0.1275</td>\n",
       "    </tr>\n",
       "    <tr>\n",
       "      <th>2023-10-16</th>\n",
       "      <td>0.1275</td>\n",
       "    </tr>\n",
       "    <tr>\n",
       "      <th>2023-10-17</th>\n",
       "      <td>0.1275</td>\n",
       "    </tr>\n",
       "    <tr>\n",
       "      <th>2023-10-18</th>\n",
       "      <td>0.1275</td>\n",
       "    </tr>\n",
       "    <tr>\n",
       "      <th>2023-10-19</th>\n",
       "      <td>0.1275</td>\n",
       "    </tr>\n",
       "    <tr>\n",
       "      <th>2023-10-20</th>\n",
       "      <td>0.1275</td>\n",
       "    </tr>\n",
       "    <tr>\n",
       "      <th>2023-10-21</th>\n",
       "      <td>0.1275</td>\n",
       "    </tr>\n",
       "    <tr>\n",
       "      <th>2023-10-22</th>\n",
       "      <td>0.1275</td>\n",
       "    </tr>\n",
       "    <tr>\n",
       "      <th>2023-10-23</th>\n",
       "      <td>0.1275</td>\n",
       "    </tr>\n",
       "    <tr>\n",
       "      <th>2023-10-24</th>\n",
       "      <td>0.1275</td>\n",
       "    </tr>\n",
       "    <tr>\n",
       "      <th>2023-10-25</th>\n",
       "      <td>0.1275</td>\n",
       "    </tr>\n",
       "    <tr>\n",
       "      <th>2023-10-26</th>\n",
       "      <td>0.1275</td>\n",
       "    </tr>\n",
       "    <tr>\n",
       "      <th>2023-10-27</th>\n",
       "      <td>0.1275</td>\n",
       "    </tr>\n",
       "    <tr>\n",
       "      <th>2023-10-28</th>\n",
       "      <td>0.1275</td>\n",
       "    </tr>\n",
       "  </tbody>\n",
       "</table>\n",
       "</div>"
      ],
      "text/plain": [
       "             valor\n",
       "data              \n",
       "2023-09-28  0.1275\n",
       "2023-09-29  0.1275\n",
       "2023-09-30  0.1275\n",
       "2023-10-01  0.1275\n",
       "2023-10-02  0.1275\n",
       "2023-10-03  0.1275\n",
       "2023-10-04  0.1275\n",
       "2023-10-05  0.1275\n",
       "2023-10-06  0.1275\n",
       "2023-10-07  0.1275\n",
       "2023-10-08  0.1275\n",
       "2023-10-09  0.1275\n",
       "2023-10-10  0.1275\n",
       "2023-10-11  0.1275\n",
       "2023-10-12  0.1275\n",
       "2023-10-13  0.1275\n",
       "2023-10-14  0.1275\n",
       "2023-10-15  0.1275\n",
       "2023-10-16  0.1275\n",
       "2023-10-17  0.1275\n",
       "2023-10-18  0.1275\n",
       "2023-10-19  0.1275\n",
       "2023-10-20  0.1275\n",
       "2023-10-21  0.1275\n",
       "2023-10-22  0.1275\n",
       "2023-10-23  0.1275\n",
       "2023-10-24  0.1275\n",
       "2023-10-25  0.1275\n",
       "2023-10-26  0.1275\n",
       "2023-10-27  0.1275\n",
       "2023-10-28  0.1275"
      ]
     },
     "execution_count": 28,
     "metadata": {},
     "output_type": "execute_result"
    }
   ],
   "source": [
    "selic"
   ]
  },
  {
   "cell_type": "code",
   "execution_count": 29,
   "metadata": {},
   "outputs": [
    {
     "name": "stderr",
     "output_type": "stream",
     "text": [
      "C:\\Users\\toni\\AppData\\Local\\Temp\\ipykernel_19424\\1028064981.py:1: SettingWithCopyWarning: \n",
      "A value is trying to be set on a copy of a slice from a DataFrame\n",
      "\n",
      "See the caveats in the documentation: https://pandas.pydata.org/pandas-docs/stable/user_guide/indexing.html#returning-a-view-versus-a-copy\n",
      "  selic.rename({'valor': 'Selic'}, axis=1, inplace=True)\n"
     ]
    }
   ],
   "source": [
    "selic.rename({'valor': 'Selic'}, axis=1, inplace=True)"
   ]
  },
  {
   "cell_type": "code",
   "execution_count": 30,
   "metadata": {},
   "outputs": [],
   "source": [
    "RF = (1 + selic.mean().values[0])**(1/252)-1"
   ]
  },
  {
   "cell_type": "code",
   "execution_count": 31,
   "metadata": {},
   "outputs": [
    {
     "data": {
      "text/plain": [
       "0.0004763149590834015"
      ]
     },
     "execution_count": 31,
     "metadata": {},
     "output_type": "execute_result"
    }
   ],
   "source": [
    "RF"
   ]
  },
  {
   "cell_type": "code",
   "execution_count": 32,
   "metadata": {},
   "outputs": [],
   "source": [
    "def sharpe_function(U):\n",
    "    portfolio_risk = get_portfolio_risk(U)\n",
    "    portfolio_return = get_portfolio_return(U)\n",
    "    return -1*(portfolio_return-RF)/portfolio_risk\n",
    "\n",
    "Umin_sharpe = minimize(sharpe_function, U0, method='SLSQP',  bounds=bounds, constraints=linear_constraint)        "
   ]
  },
  {
   "cell_type": "code",
   "execution_count": 33,
   "metadata": {},
   "outputs": [],
   "source": [
    "sharpe_risk = get_portfolio_risk(Umin_sharpe.x)\n",
    "sharpe_return = get_portfolio_return(Umin_sharpe.x)"
   ]
  },
  {
   "cell_type": "code",
   "execution_count": 34,
   "metadata": {},
   "outputs": [
    {
     "data": {
      "text/plain": [
       "204.01518542139894"
      ]
     },
     "execution_count": 34,
     "metadata": {},
     "output_type": "execute_result"
    }
   ],
   "source": [
    "sharpe_function(Umin_sharpe.x)*(-1)"
   ]
  },
  {
   "cell_type": "code",
   "execution_count": 35,
   "metadata": {},
   "outputs": [
    {
     "data": {
      "text/plain": [
       "0.0037554388068846067"
      ]
     },
     "execution_count": 35,
     "metadata": {},
     "output_type": "execute_result"
    }
   ],
   "source": [
    "get_portfolio_return(Umin_sharpe.x)"
   ]
  },
  {
   "cell_type": "code",
   "execution_count": 36,
   "metadata": {},
   "outputs": [
    {
     "data": {
      "text/plain": [
       "0.0004763149590834015"
      ]
     },
     "execution_count": 36,
     "metadata": {},
     "output_type": "execute_result"
    }
   ],
   "source": [
    "RF"
   ]
  },
  {
   "cell_type": "code",
   "execution_count": 37,
   "metadata": {},
   "outputs": [
    {
     "data": {
      "text/plain": [
       "1.6072940065848947e-05"
      ]
     },
     "execution_count": 37,
     "metadata": {},
     "output_type": "execute_result"
    }
   ],
   "source": [
    "get_portfolio_risk(Umin_sharpe.x)"
   ]
  },
  {
   "cell_type": "code",
   "execution_count": 91,
   "metadata": {},
   "outputs": [
    {
     "data": {
      "image/png": "[encoded data removed]",
      "text/plain": [
       "<Figure size 1200x600 with 1 Axes>"
      ]
     },
     "metadata": {},
     "output_type": "display_data"
    }
   ],
   "source": [
    "plt.figure(figsize = (12,6))\n",
    "plt.scatter(risco,retorno,marker='*',s=500,c=\"m\",label='Markowitz')\n",
    "plt.scatter(ibovespa_risk,ibovespa_return,marker='*',s=800,c=\"b\",label='Ibovespa')\n",
    "plt.scatter(sharpe_risk,sharpe_return,marker='*',s=800,c=\"g\",label='Sharpe')\n",
    "plt.xlabel('Risco', fontsize=20)\n",
    "plt.ylabel('Retorno', fontsize=20)\n",
    "plt.title('Inclusão do Índice de Sharpe', fontsize=20)\n",
    "legend = plt.legend(loc='lower right', fontsize=15, ncol = 1)\n",
    "plt.yticks(fontsize=15)\n",
    "plt.xticks(fontsize=15)\n",
    "plt.show()"
   ]
  },
  {
   "cell_type": "markdown",
   "metadata": {},
   "source": [
    "# <center>Deixando tudo num DataFrame<center>"
   ]
  },
  {
   "cell_type": "code",
   "execution_count": null,
   "metadata": {},
   "outputs": [],
   "source": [
    "df_ibovespa['Código'].values"
   ]
  },
  {
   "cell_type": "code",
   "execution_count": null,
   "metadata": {},
   "outputs": [],
   "source": [
    "carteiras = ['Carteira'+str(i) for i in range(QTD_PONTOS_FRONT)]"
   ]
  },
  {
   "cell_type": "code",
   "execution_count": null,
   "metadata": {},
   "outputs": [],
   "source": [
    "df_carteiras = pd.DataFrame([], index = carteiras, columns = df_ibovespa['Código'].values)"
   ]
  },
  {
   "cell_type": "code",
   "execution_count": null,
   "metadata": {},
   "outputs": [],
   "source": [
    "for posicao, carteira in enumerate(carteiras):\n",
    "    df_carteiras.loc[carteira] = carteiras_front[posicao].round(2)"
   ]
  },
  {
   "cell_type": "markdown",
   "metadata": {},
   "source": [
    "# Salvando em Excel"
   ]
  },
  {
   "cell_type": "code",
   "execution_count": null,
   "metadata": {},
   "outputs": [],
   "source": [
    "import xlsxwriter\n",
    "writer_portfolio = pd.ExcelWriter('carteiras_otimas.xlsx', engine='xlsxwriter')\n",
    "df_carteiras.to_excel(writer_portfolio, index=True, sheet_name='carteiras_otimas')\n",
    "writer_portfolio.save()"
   ]
  }
 ],
 "metadata": {
  "kernelspec": {
   "display_name": "Python 3 (ipykernel)",
   "language": "python",
   "name": "python3"
  },
  "language_info": {
   "codemirror_mode": {
    "name": "ipython",
    "version": 3
   },
   "file_extension": ".py",
   "mimetype": "text/x-python",
   "name": "python",
   "nbconvert_exporter": "python",
   "pygments_lexer": "ipython3",
   "version": "3.8.18"
  }
 },
 "nbformat": 4,
 "nbformat_minor": 2
}
