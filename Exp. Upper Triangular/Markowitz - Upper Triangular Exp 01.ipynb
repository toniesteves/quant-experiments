{
 "cells": [
  {
   "cell_type": "code",
   "execution_count": 2,
   "metadata": {},
   "outputs": [],
   "source": [
    "import numpy as np"
   ]
  },
  {
   "cell_type": "code",
   "execution_count": 3,
   "metadata": {},
   "outputs": [],
   "source": [
    "# Covariance matrix\n",
    "covariance_matrix = np.array([[0.1, 0.02, 0.05, 0.03],\n",
    "                               [0.02, 0.1, 0.03, 0.04],\n",
    "                               [0.05, 0.03, 0.15, 0.07],\n",
    "                               [0.03, 0.04, 0.07, 0.2]])  "
   ]
  },
  {
   "cell_type": "code",
   "execution_count": 4,
   "metadata": {},
   "outputs": [
    {
     "data": {
      "text/plain": [
       "array([[0.1 , 0.02, 0.05, 0.03],\n",
       "       [0.  , 0.1 , 0.03, 0.04],\n",
       "       [0.  , 0.  , 0.15, 0.07],\n",
       "       [0.  , 0.  , 0.  , 0.2 ]])"
      ]
     },
     "execution_count": 4,
     "metadata": {},
     "output_type": "execute_result"
    }
   ],
   "source": [
    "# Extract upper triangular elements of covariance matrix\n",
    "upper_triangular_covariance = np.triu(covariance_matrix)\n",
    "\n",
    "upper_triangular_covariance"
   ]
  },
  {
   "cell_type": "markdown",
   "metadata": {},
   "source": [
    "#### Entire Cov. Matrix"
   ]
  },
  {
   "cell_type": "code",
   "execution_count": 8,
   "metadata": {},
   "outputs": [
    {
     "name": "stdout",
     "output_type": "stream",
     "text": [
      "Model Objective value   :0.05527256478999118\n",
      "Optimal Portfolio Weights:\n",
      "Asset 0: 38.61%\n",
      "Asset 1: 40.21%\n",
      "Asset 2: 11.35%\n",
      "Asset 3: 9.83%\n",
      "\n",
      "CPU times: total: 15.6 ms\n",
      "Wall time: 15 ms\n"
     ]
    }
   ],
   "source": [
    "%%time\n",
    "from docplex.mp.model import Model\n",
    "import numpy as np\n",
    "\n",
    "# Number of assets\n",
    "num_assets = len(returns)\n",
    "\n",
    "# Define the data - Expected returns of assets\n",
    "returns = np.array([0.1, 0.15, 0.08, 0.12])  \n",
    "\n",
    "# Covariance matrix\n",
    "covariance_matrix = np.array([[0.1, 0.02, 0.05, 0.03],\n",
    "                              [0.02, 0.1, 0.03, 0.04],\n",
    "                              [0.05, 0.03, 0.15, 0.07],\n",
    "                              [0.03, 0.04, 0.07, 0.2]])  # Covariance matrix\n",
    "\n",
    "# Create a model\n",
    "model = Model(name='Markowitz_Portfolio')\n",
    "\n",
    "# Define variables\n",
    "x = {i: model.continuous_var(name='x{}'.format(i)) for i in range(num_assets)}\n",
    "\n",
    "# Define objective function (minimize portfolio risk)\n",
    "objective = model.sum(covariance_matrix[i, j] * x[i] * x[j] for i in range(covariance_matrix.shape[0]) for j in range(covariance_matrix.shape[1]))\n",
    "\n",
    "model.minimize(objective)\n",
    "\n",
    "# Define constraints\n",
    "model.add_constraint(model.sum(x[i] for i in range(num_assets)) == 1)  # Total investment equals 100%\n",
    "model.add_constraints(x[i] >= 0 for i in range(num_assets))  # No short selling\n",
    "\n",
    "# Solve the model\n",
    "solution = model.solve()\n",
    "\n",
    "# Display results\n",
    "if solution:\n",
    "    optimal_portfolio = {i: solution.get_value(x[i]) for i in range(num_assets)}\n",
    "    print(f'Model Objective value   :{model.objective_value}')\n",
    "    print(\"Optimal Portfolio Weights:\")\n",
    "    for i in range(num_assets):\n",
    "        print(\"Asset {}: {:.2f}%\".format(i, optimal_portfolio[i] * 100))\n",
    "    print()\n",
    "else:\n",
    "    print(\"No solution found.\")\n"
   ]
  },
  {
   "cell_type": "markdown",
   "metadata": {},
   "source": [
    "#### Upper Triangular Cov. Matrix - np.triu()"
   ]
  },
  {
   "cell_type": "code",
   "execution_count": 9,
   "metadata": {},
   "outputs": [
    {
     "name": "stdout",
     "output_type": "stream",
     "text": [
      "Model Objective value   :0.044150607675018765\n",
      "Optimal Portfolio Weights:\n",
      "Asset 0: 34.37%\n",
      "Asset 1: 35.56%\n",
      "Asset 2: 17.13%\n",
      "Asset 3: 12.94%\n",
      "\n",
      "CPU times: total: 15.6 ms\n",
      "Wall time: 13 ms\n"
     ]
    }
   ],
   "source": [
    "%%time\n",
    "from docplex.mp.model import Model\n",
    "import numpy as np\n",
    "\n",
    "# Number of assets\n",
    "num_assets = len(returns)\n",
    "\n",
    "# Define the data - Expected returns of assets\n",
    "returns = np.array([0.1, 0.15, 0.08, 0.12])  \n",
    "\n",
    "# Covariance matrix\n",
    "covariance_matrix = np.array([[0.1, 0.02, 0.05, 0.03],\n",
    "                              [0.02, 0.1, 0.03, 0.04],\n",
    "                              [0.05, 0.03, 0.15, 0.07],\n",
    "                              [0.03, 0.04, 0.07, 0.2]])  # Covariance matrix\n",
    "\n",
    "\n",
    "# Extract upper triangular elements of covariance matrix\n",
    "upper_triangular_covariance = np.triu(covariance_matrix)\n",
    "\n",
    "# Create a model\n",
    "model = Model(name='Markowitz_Portfolio')\n",
    "\n",
    "# Define variables\n",
    "x = {i: model.continuous_var(name='x{}'.format(i)) for i in range(num_assets)}\n",
    "\n",
    "# Define objective function (minimize portfolio risk)\n",
    "objective = model.sum(upper_triangular_covariance[i, j] * x[i] * x[j] for i in range(covariance_matrix.shape[0]) for j in range(covariance_matrix.shape[1]))\n",
    "model.minimize(objective)\n",
    "\n",
    "# Define constraints\n",
    "model.add_constraint(model.sum(x[i] for i in range(num_assets)) == 1)  # Total investment equals 100%\n",
    "model.add_constraints(x[i] >= 0 for i in range(num_assets))  # No short selling\n",
    "\n",
    "# Solve the model\n",
    "solution = model.solve()\n",
    "\n",
    "# Display results\n",
    "if solution:\n",
    "    optimal_portfolio = {i: solution.get_value(x[i]) for i in range(num_assets)}\n",
    "    print(f'Model Objective value   :{model.objective_value}')\n",
    "    print(\"Optimal Portfolio Weights:\")\n",
    "    for i in range(num_assets):\n",
    "        print(\"Asset {}: {:.2f}%\".format(i, optimal_portfolio[i] * 100))\n",
    "    print()\n",
    "else:\n",
    "    print(\"No solution found.\")\n"
   ]
  },
  {
   "cell_type": "markdown",
   "metadata": {},
   "source": [
    "#### Upper Triangular Cov. Matrix"
   ]
  },
  {
   "cell_type": "code",
   "execution_count": 10,
   "metadata": {},
   "outputs": [
    {
     "name": "stdout",
     "output_type": "stream",
     "text": [
      "Model Objective value   :0.044150607675018765\n",
      "Optimal Portfolio Weights:\n",
      "Asset 0: 34.37%\n",
      "Asset 1: 35.56%\n",
      "Asset 2: 17.13%\n",
      "Asset 3: 12.94%\n",
      "\n",
      "CPU times: total: 15.6 ms\n",
      "Wall time: 13 ms\n"
     ]
    }
   ],
   "source": [
    "%%time\n",
    "from docplex.mp.model import Model\n",
    "import numpy as np\n",
    "\n",
    "# Number of assets\n",
    "num_assets = len(returns)\n",
    "\n",
    "# Define the data - Expected returns of assets\n",
    "returns = np.array([0.1, 0.15, 0.08, 0.12])  \n",
    "\n",
    "# Covariance matrix\n",
    "covariance_matrix = np.array([[0.1, 0.02, 0.05, 0.03],\n",
    "                              [0.02, 0.1, 0.03, 0.04],\n",
    "                              [0.05, 0.03, 0.15, 0.07],\n",
    "                              [0.03, 0.04, 0.07, 0.2]])  # Covariance matrix\n",
    "\n",
    "\n",
    "# Extract upper triangular elements of covariance matrix\n",
    "upper_triangular_covariance = np.triu(covariance_matrix)\n",
    "\n",
    "num_assets = len(returns)\n",
    "\n",
    "# Create a model\n",
    "model = Model(name='Markowitz_Portfolio')\n",
    "\n",
    "# Define variables\n",
    "x = {i: model.continuous_var(name='x{}'.format(i)) for i in range(num_assets)}\n",
    "\n",
    "# Define objective function (minimize portfolio risk)\n",
    "objective = model.sum(covariance_matrix[i, j] * x[i] * x[j] for i in range(covariance_matrix.shape[0]) for j in range(i, covariance_matrix.shape[1]))\n",
    "model.minimize(objective)\n",
    "\n",
    "# Define constraints\n",
    "model.add_constraint(model.sum(x[i] for i in range(num_assets)) == 1)  # Total investment equals 100%\n",
    "model.add_constraints(x[i] >= 0 for i in range(num_assets))  # No short selling\n",
    "\n",
    "# Solve the model\n",
    "solution = model.solve()\n",
    "\n",
    "# Display results\n",
    "if solution:\n",
    "    optimal_portfolio = {i: solution.get_value(x[i]) for i in range(num_assets)}\n",
    "    print(f'Model Objective value   :{model.objective_value}')\n",
    "    print(\"Optimal Portfolio Weights:\")\n",
    "    for i in range(num_assets):\n",
    "        print(\"Asset {}: {:.2f}%\".format(i, optimal_portfolio[i] * 100))\n",
    "    print()\n",
    "else:\n",
    "    print(\"No solution found.\")\n"
   ]
  },
  {
   "cell_type": "code",
   "execution_count": null,
   "metadata": {},
   "outputs": [],
   "source": []
  }
 ],
 "metadata": {
  "kernelspec": {
   "display_name": "ab-research",
   "language": "python",
   "name": "python3"
  },
  "language_info": {
   "codemirror_mode": {
    "name": "ipython",
    "version": 3
   },
   "file_extension": ".py",
   "mimetype": "text/x-python",
   "name": "python",
   "nbconvert_exporter": "python",
   "pygments_lexer": "ipython3",
   "version": "3.8.19"
  }
 },
 "nbformat": 4,
 "nbformat_minor": 2
}
