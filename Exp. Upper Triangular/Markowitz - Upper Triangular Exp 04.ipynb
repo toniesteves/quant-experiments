{
 "cells": [
  {
   "cell_type": "code",
   "execution_count": 10,
   "metadata": {},
   "outputs": [],
   "source": [
    "import numpy as np"
   ]
  },
  {
   "cell_type": "code",
   "execution_count": 11,
   "metadata": {},
   "outputs": [
    {
     "name": "stdout",
     "output_type": "stream",
     "text": [
      "[1, 2, 3]\n",
      "[5, 6]\n",
      "[9]\n"
     ]
    }
   ],
   "source": [
    "# Example matrix\n",
    "matrix = np.array([[1, 2, 3],\n",
    "                   [4, 5, 6],\n",
    "                   [7, 8, 9]])\n",
    "\n",
    "# Print upper triangular matrix using list comprehension\n",
    "upper_triangular = [[matrix[i, j] for j in range(i, matrix.shape[1])] for i in range(matrix.shape[0])]\n",
    "for row in upper_triangular:\n",
    "    print(row)\n"
   ]
  },
  {
   "cell_type": "code",
   "execution_count": 12,
   "metadata": {},
   "outputs": [
    {
     "name": "stdout",
     "output_type": "stream",
     "text": [
      "[0.5, 2, 3]\n",
      "[2.5, 6]\n",
      "[4.5]\n"
     ]
    }
   ],
   "source": [
    "# Sample matrix\n",
    "matrix = np.array([[1, 2, 3],\n",
    "                   [4, 5, 6],\n",
    "                   [7, 8, 9]])\n",
    "\n",
    "# Print upper triangular matrix with values in the main diagonal multiplied by 0.5\n",
    "upper_triangular = [[matrix[i, j] * 0.5 if i == j else matrix[i, j] for j in range(i, matrix.shape[1])] for i in range(matrix.shape[0])]\n",
    "\n",
    "for row in upper_triangular:\n",
    "    print(row)\n"
   ]
  },
  {
   "cell_type": "code",
   "execution_count": 13,
   "metadata": {},
   "outputs": [],
   "source": [
    "# Covariance matrix\n",
    "covariance_matrix = np.array([[0.1, 0.02, 0.05, 0.03],\n",
    "                               [0.02, 0.1, 0.03, 0.04],\n",
    "                               [0.05, 0.03, 0.15, 0.07],\n",
    "                               [0.03, 0.04, 0.07, 0.2]])  "
   ]
  },
  {
   "cell_type": "code",
   "execution_count": 14,
   "metadata": {},
   "outputs": [
    {
     "data": {
      "text/plain": [
       "array([[0.1 , 0.02, 0.05, 0.03],\n",
       "       [0.  , 0.1 , 0.03, 0.04],\n",
       "       [0.  , 0.  , 0.15, 0.07],\n",
       "       [0.  , 0.  , 0.  , 0.2 ]])"
      ]
     },
     "execution_count": 14,
     "metadata": {},
     "output_type": "execute_result"
    }
   ],
   "source": [
    "# Extract upper triangular elements of covariance matrix\n",
    "upper_triangular_covariance = np.triu(covariance_matrix)\n",
    "\n",
    "upper_triangular_covariance"
   ]
  },
  {
   "cell_type": "markdown",
   "metadata": {},
   "source": [
    "#### Entire Cov. Matrix"
   ]
  },
  {
   "cell_type": "code",
   "execution_count": 22,
   "metadata": {},
   "outputs": [
    {
     "name": "stdout",
     "output_type": "stream",
     "text": [
      "Model Objective value   :0.05527256478999118\n",
      "Optimal Portfolio Weights:\n",
      "Asset 0: 38.61%\n",
      "Asset 1: 40.21%\n",
      "Asset 2: 11.35%\n",
      "Asset 3: 9.83%\n",
      "\n",
      "CPU times: total: 0 ns\n",
      "Wall time: 12 ms\n"
     ]
    }
   ],
   "source": [
    "%%time\n",
    "from docplex.mp.model import Model\n",
    "import numpy as np\n",
    "\n",
    "# Define the data - Expected returns of assets\n",
    "returns = np.array([0.1, 0.15, 0.08, 0.12])  \n",
    "\n",
    "# Number of assets\n",
    "num_assets = len(returns)\n",
    "\n",
    "# Covariance matrix\n",
    "covariance_matrix = np.array([[0.1, 0.02, 0.05, 0.03],\n",
    "                              [0.02, 0.1, 0.03, 0.04],\n",
    "                              [0.05, 0.03, 0.15, 0.07],\n",
    "                              [0.03, 0.04, 0.07, 0.2]])  # Covariance matrix\n",
    "\n",
    "# Create a model\n",
    "model = Model(name='Markowitz_Portfolio')\n",
    "\n",
    "# Define variables\n",
    "x = {i: model.continuous_var(name='x{}'.format(i)) for i in range(num_assets)}\n",
    "\n",
    "# Define objective function (minimize portfolio risk)\n",
    "objective = model.sum(covariance_matrix[i, j] * x[i] * x[j] for i in range(covariance_matrix.shape[0]) for j in range(covariance_matrix.shape[1]))\n",
    "\n",
    "model.minimize(objective)\n",
    "\n",
    "# Define constraints\n",
    "model.add_constraint(model.sum(x[i] for i in range(num_assets)) == 1)  # Total investment equals 100%\n",
    "model.add_constraints(x[i] >= 0 for i in range(num_assets))  # No short selling\n",
    "\n",
    "# Solve the model\n",
    "solution = model.solve()\n",
    "\n",
    "# Display results\n",
    "if solution:\n",
    "    optimal_portfolio = {i: solution.get_value(x[i]) for i in range(num_assets)}\n",
    "    print(f'Model Objective value   :{model.objective_value}')\n",
    "    print(\"Optimal Portfolio Weights:\")\n",
    "    for i in range(num_assets):\n",
    "        print(\"Asset {}: {:.2f}%\".format(i, optimal_portfolio[i] * 100))\n",
    "    print()\n",
    "else:\n",
    "    print(\"No solution found.\")\n"
   ]
  },
  {
   "cell_type": "markdown",
   "metadata": {},
   "source": [
    "#### Upper Triangular Cov. Matrix"
   ]
  },
  {
   "cell_type": "code",
   "execution_count": 23,
   "metadata": {},
   "outputs": [
    {
     "name": "stdout",
     "output_type": "stream",
     "text": [
      "Model Objective value   :0.027636282394995642\n",
      "Optimal Portfolio Weights:\n",
      "Asset 0: 38.61%\n",
      "Asset 1: 40.21%\n",
      "Asset 2: 11.35%\n",
      "Asset 3: 9.83%\n",
      "\n",
      "CPU times: total: 15.6 ms\n",
      "Wall time: 13 ms\n"
     ]
    }
   ],
   "source": [
    "%%time\n",
    "from docplex.mp.model import Model\n",
    "import numpy as np\n",
    "\n",
    "# Number of assets\n",
    "num_assets = len(returns)\n",
    "\n",
    "# Define the data - Expected returns of assets\n",
    "returns = np.array([0.1, 0.15, 0.08, 0.12])  \n",
    "\n",
    "# Covariance matrix\n",
    "covariance_matrix = np.array([[0.1, 0.02, 0.05, 0.03],\n",
    "                              [0.02, 0.1, 0.03, 0.04],\n",
    "                              [0.05, 0.03, 0.15, 0.07],\n",
    "                              [0.03, 0.04, 0.07, 0.2]])  # Covariance matrix\n",
    "\n",
    "num_assets = len(returns)\n",
    "\n",
    "# Create a model\n",
    "model = Model(name='Markowitz_Portfolio')\n",
    "\n",
    "# Define variables\n",
    "x = {i: model.continuous_var(name='x{}'.format(i)) for i in range(num_assets)}\n",
    "\n",
    "# Define objective function (minimize portfolio risk)\n",
    "objective = model.sum(0.5 * covariance_matrix[i, j] * x[i] * x[j] if i==j else covariance_matrix[i, j] * x[i] * x[j] for i in range(covariance_matrix.shape[0]) for j in range(i, covariance_matrix.shape[1]))\n",
    "\n",
    "model.minimize(objective)\n",
    "\n",
    "# Define constraints\n",
    "model.add_constraint(model.sum(x[i] for i in range(num_assets)) == 1)  # Total investment equals 100%\n",
    "model.add_constraints(x[i] >= 0 for i in range(num_assets))  # No short selling\n",
    "\n",
    "# Solve the model\n",
    "solution = model.solve()\n",
    "\n",
    "# Display results\n",
    "if solution:\n",
    "    optimal_portfolio = {i: solution.get_value(x[i]) for i in range(num_assets)}\n",
    "    print(f'Model Objective value   :{model.objective_value}')\n",
    "    print(\"Optimal Portfolio Weights:\")\n",
    "    for i in range(num_assets):\n",
    "        print(\"Asset {}: {:.2f}%\".format(i, optimal_portfolio[i] * 100))\n",
    "    print()\n",
    "else:\n",
    "    print(\"No solution found.\")\n"
   ]
  },
  {
   "cell_type": "code",
   "execution_count": null,
   "metadata": {},
   "outputs": [],
   "source": []
  }
 ],
 "metadata": {
  "kernelspec": {
   "display_name": "ab-research",
   "language": "python",
   "name": "python3"
  },
  "language_info": {
   "codemirror_mode": {
    "name": "ipython",
    "version": 3
   },
   "file_extension": ".py",
   "mimetype": "text/x-python",
   "name": "python",
   "nbconvert_exporter": "python",
   "pygments_lexer": "ipython3",
   "version": "3.8.19"
  }
 },
 "nbformat": 4,
 "nbformat_minor": 2
}
