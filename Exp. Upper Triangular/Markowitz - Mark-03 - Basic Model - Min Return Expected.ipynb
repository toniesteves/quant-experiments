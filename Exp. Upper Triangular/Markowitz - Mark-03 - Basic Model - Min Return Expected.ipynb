{
 "cells": [
  {
   "cell_type": "markdown",
   "metadata": {},
   "source": [
    "# Portfolio Selection Optimization\n",
    "This model is an example of the classic [Markowitz portfolio selection optimization model](https://en.wikipedia.org/wiki/Markowitz_model). We want to find the fraction of the portfolio to invest among a set of stocks that balances risk and return. It is a Quadratic Programming (QP) model with vector and matrix data for returns and risk, respectively. This is best suited to a matrix formulation, so we use the Gurobi Python *matrix* interface. The basic model is fairly simple, so we also solve it parametrically to find the efficient frontier.\n",
    "\n",
    "**Download the Repository** <br />\n",
    "You can download the repository containing this and other examples by clicking [here](https://github.com/Gurobi/modeling-examples/archive/master.zip).\n",
    "\n",
    "\n",
    "## Model Formulation\n",
    "\n",
    "\\begin{equation}\n",
    "    \\min \\sum_{i=1}^{N}\\sum_{i=j+1}^{N}w_{i}w_{j}\\sigma_{ij} \\\\\n",
    "\\end{equation}\n",
    "\n",
    "\\begin{equation}\n",
    "\\sum_{i=1}^{N} \\mu_{i} x_{i} \\geq \\mu_{0}\n",
    "\\end{equation}\n",
    "\n",
    "\\begin{equation}\n",
    "\\sum_{i=1}^{N}w_{i} = 1\n",
    "\\end{equation}\n",
    "\n",
    "\\begin{equation}\n",
    "w^{min} \\leq w_{i} \\leq w^{max}\n",
    "\n",
    "\\end{equation}\n",
    "\n",
    "### Parameters\n",
    "\n",
    "We use the [Greek values](https://en.wikipedia.org/wiki/Greeks_\\(finance\\)) that are traditional in finance:\n",
    "\n",
    "- $\\delta$: n-element vector measuring the change in price for each stock\n",
    "- $\\sigma$: n x n matrix measuring the covariance among stocks\n",
    "\n",
    "There is one additional parameter when solving the model parametrically:\n",
    "\n",
    "- r: target return\n",
    "\n",
    "\n",
    "### Decision Variables\n",
    "- $x \\ge 0$: n-element vector where each element represents the fraction of the porfolio to invest in each stock\n",
    "\n",
    "### Objective Function\n",
    "Minimize the total risk, a convex quadratic function:\n",
    "\n",
    "\\begin{equation}\n",
    "\\min x^t \\cdot \\sigma \\cdot x\n",
    "\\end{equation}\n",
    "\n",
    "### Constraints\n",
    "\n",
    "Allocate the entire portfolio: the total investments should be 1.0 (100%), where $e$ is a unit vector (all 1's):\n",
    "\n",
    "\\begin{equation}\n",
    "e \\cdot x = 1\n",
    "\\end{equation}\n",
    "\n",
    "\n",
    "Return: When we solve the model parametrically for different return values $r$, we add a constraint on the target return:\n",
    "\n",
    "\\begin{equation}\n",
    "\\delta \\cdot x = r\n",
    "\\end{equation}\n",
    "\n",
    "Buy-in threshold: \n",
    "\n",
    "\\begin{equation}\n",
    "\n",
    "\\end{equation}"
   ]
  },
  {
   "cell_type": "code",
   "execution_count": 1,
   "metadata": {},
   "outputs": [],
   "source": [
    "import datetime\n",
    "import pandas as pd\n",
    "import numpy as np\n",
    "import yfinance as yf\n",
    "import plotly.express as px\n",
    "from docplex.mp.model import Model\n",
    "\n",
    "pd.set_option('display.max_rows', 300)\n",
    "pd.set_option('display.max_columns', 300)"
   ]
  },
  {
   "cell_type": "markdown",
   "metadata": {},
   "source": [
    "### Experiment Descriptor"
   ]
  },
  {
   "cell_type": "markdown",
   "metadata": {},
   "source": [
    "- 1 - CPLEX \n",
    "- 2 - Restrição de retorno minimo adicionada\n"
   ]
  },
  {
   "cell_type": "markdown",
   "metadata": {},
   "source": [
    "### Read Stock Data"
   ]
  },
  {
   "cell_type": "code",
   "execution_count": 2,
   "metadata": {},
   "outputs": [],
   "source": [
    "start_date = datetime.datetime(2020,1,1)\n",
    "end_date   = datetime.datetime.now()"
   ]
  },
  {
   "cell_type": "code",
   "execution_count": 3,
   "metadata": {},
   "outputs": [
    {
     "name": "stdout",
     "output_type": "stream",
     "text": [
      "[*********************100%%**********************]  24 of 24 completed\n"
     ]
    }
   ],
   "source": [
    "assets = ['VALE3', 'GGBR4', 'CPLE6', 'BBSE3', 'ITUB4', 'WEGE3', 'JBSS3', 'PRIO3', 'MULT3', 'ITSA4', 'ABEV3', 'ALPA4',\n",
    "          'ARZZ3', 'AZUL4', 'B3SA3', 'BBAS3', 'BBDC3', 'BBDC4', 'BEEF3', 'BHIA3', 'BPAC11', 'BRAP4','BRFS3', 'BRKM5']\n",
    "\n",
    "tickers = (pd.Series(assets)+'.SA').tolist()\n",
    "\n",
    "# tickers = ['AMZN', 'GOOGL', 'MSFT', 'IBM', 'META', 'NFLX']\n",
    "stocks  = yf.download(tickers=tickers, start=start_date, end = end_date, rounding=True)['Adj Close']"
   ]
  },
  {
   "cell_type": "code",
   "execution_count": 4,
   "metadata": {},
   "outputs": [
    {
     "data": {
      "text/html": [
       "<div>\n",
       "<style scoped>\n",
       "    .dataframe tbody tr th:only-of-type {\n",
       "        vertical-align: middle;\n",
       "    }\n",
       "\n",
       "    .dataframe tbody tr th {\n",
       "        vertical-align: top;\n",
       "    }\n",
       "\n",
       "    .dataframe thead th {\n",
       "        text-align: right;\n",
       "    }\n",
       "</style>\n",
       "<table border=\"1\" class=\"dataframe\">\n",
       "  <thead>\n",
       "    <tr style=\"text-align: right;\">\n",
       "      <th></th>\n",
       "      <th>VALE3</th>\n",
       "      <th>GGBR4</th>\n",
       "      <th>CPLE6</th>\n",
       "      <th>BBSE3</th>\n",
       "      <th>ITUB4</th>\n",
       "      <th>WEGE3</th>\n",
       "      <th>JBSS3</th>\n",
       "      <th>PRIO3</th>\n",
       "      <th>MULT3</th>\n",
       "      <th>ITSA4</th>\n",
       "      <th>ABEV3</th>\n",
       "      <th>ALPA4</th>\n",
       "      <th>ARZZ3</th>\n",
       "      <th>AZUL4</th>\n",
       "      <th>B3SA3</th>\n",
       "      <th>BBAS3</th>\n",
       "      <th>BBDC3</th>\n",
       "      <th>BBDC4</th>\n",
       "      <th>BEEF3</th>\n",
       "      <th>BHIA3</th>\n",
       "      <th>BPAC11</th>\n",
       "      <th>BRAP4</th>\n",
       "      <th>BRFS3</th>\n",
       "      <th>BRKM5</th>\n",
       "    </tr>\n",
       "    <tr>\n",
       "      <th>Date</th>\n",
       "      <th></th>\n",
       "      <th></th>\n",
       "      <th></th>\n",
       "      <th></th>\n",
       "      <th></th>\n",
       "      <th></th>\n",
       "      <th></th>\n",
       "      <th></th>\n",
       "      <th></th>\n",
       "      <th></th>\n",
       "      <th></th>\n",
       "      <th></th>\n",
       "      <th></th>\n",
       "      <th></th>\n",
       "      <th></th>\n",
       "      <th></th>\n",
       "      <th></th>\n",
       "      <th></th>\n",
       "      <th></th>\n",
       "      <th></th>\n",
       "      <th></th>\n",
       "      <th></th>\n",
       "      <th></th>\n",
       "      <th></th>\n",
       "    </tr>\n",
       "  </thead>\n",
       "  <tbody>\n",
       "    <tr>\n",
       "      <th>2020-01-02</th>\n",
       "      <td>16.18</td>\n",
       "      <td>32.15</td>\n",
       "      <td>59.35</td>\n",
       "      <td>58.80</td>\n",
       "      <td>12.87</td>\n",
       "      <td>15.52</td>\n",
       "      <td>21.74</td>\n",
       "      <td>23.18</td>\n",
       "      <td>26.19</td>\n",
       "      <td>9.79</td>\n",
       "      <td>256.57</td>\n",
       "      <td>17.31</td>\n",
       "      <td>8.54</td>\n",
       "      <td>34.15</td>\n",
       "      <td>25.86</td>\n",
       "      <td>4.64</td>\n",
       "      <td>11.07</td>\n",
       "      <td>9.25</td>\n",
       "      <td>31.51</td>\n",
       "      <td>21.48</td>\n",
       "      <td>29.70</td>\n",
       "      <td>7.14</td>\n",
       "      <td>36.41</td>\n",
       "      <td>16.54</td>\n",
       "    </tr>\n",
       "    <tr>\n",
       "      <th>2020-01-03</th>\n",
       "      <td>15.95</td>\n",
       "      <td>32.15</td>\n",
       "      <td>58.51</td>\n",
       "      <td>56.76</td>\n",
       "      <td>12.50</td>\n",
       "      <td>15.49</td>\n",
       "      <td>21.41</td>\n",
       "      <td>23.19</td>\n",
       "      <td>25.90</td>\n",
       "      <td>10.04</td>\n",
       "      <td>251.10</td>\n",
       "      <td>17.36</td>\n",
       "      <td>8.66</td>\n",
       "      <td>34.21</td>\n",
       "      <td>27.01</td>\n",
       "      <td>4.64</td>\n",
       "      <td>10.89</td>\n",
       "      <td>9.11</td>\n",
       "      <td>31.18</td>\n",
       "      <td>21.69</td>\n",
       "      <td>29.70</td>\n",
       "      <td>7.56</td>\n",
       "      <td>36.15</td>\n",
       "      <td>16.33</td>\n",
       "    </tr>\n",
       "    <tr>\n",
       "      <th>2020-01-06</th>\n",
       "      <td>16.02</td>\n",
       "      <td>31.64</td>\n",
       "      <td>58.15</td>\n",
       "      <td>55.00</td>\n",
       "      <td>12.38</td>\n",
       "      <td>15.29</td>\n",
       "      <td>21.28</td>\n",
       "      <td>22.78</td>\n",
       "      <td>26.32</td>\n",
       "      <td>10.04</td>\n",
       "      <td>251.10</td>\n",
       "      <td>17.34</td>\n",
       "      <td>8.70</td>\n",
       "      <td>33.86</td>\n",
       "      <td>28.41</td>\n",
       "      <td>4.65</td>\n",
       "      <td>10.86</td>\n",
       "      <td>9.09</td>\n",
       "      <td>30.72</td>\n",
       "      <td>21.18</td>\n",
       "      <td>29.65</td>\n",
       "      <td>7.71</td>\n",
       "      <td>35.93</td>\n",
       "      <td>16.37</td>\n",
       "    </tr>\n",
       "    <tr>\n",
       "      <th>2020-01-07</th>\n",
       "      <td>16.06</td>\n",
       "      <td>32.36</td>\n",
       "      <td>58.42</td>\n",
       "      <td>56.82</td>\n",
       "      <td>12.78</td>\n",
       "      <td>15.17</td>\n",
       "      <td>20.92</td>\n",
       "      <td>22.38</td>\n",
       "      <td>26.34</td>\n",
       "      <td>10.49</td>\n",
       "      <td>254.82</td>\n",
       "      <td>17.41</td>\n",
       "      <td>8.74</td>\n",
       "      <td>33.47</td>\n",
       "      <td>27.67</td>\n",
       "      <td>4.67</td>\n",
       "      <td>11.03</td>\n",
       "      <td>8.97</td>\n",
       "      <td>30.00</td>\n",
       "      <td>21.56</td>\n",
       "      <td>29.73</td>\n",
       "      <td>7.72</td>\n",
       "      <td>36.19</td>\n",
       "      <td>16.50</td>\n",
       "    </tr>\n",
       "    <tr>\n",
       "      <th>2020-01-08</th>\n",
       "      <td>15.98</td>\n",
       "      <td>32.72</td>\n",
       "      <td>57.58</td>\n",
       "      <td>56.92</td>\n",
       "      <td>12.74</td>\n",
       "      <td>15.03</td>\n",
       "      <td>20.60</td>\n",
       "      <td>22.04</td>\n",
       "      <td>26.32</td>\n",
       "      <td>10.61</td>\n",
       "      <td>253.73</td>\n",
       "      <td>17.25</td>\n",
       "      <td>8.74</td>\n",
       "      <td>34.75</td>\n",
       "      <td>29.06</td>\n",
       "      <td>4.60</td>\n",
       "      <td>11.08</td>\n",
       "      <td>8.83</td>\n",
       "      <td>29.51</td>\n",
       "      <td>22.09</td>\n",
       "      <td>29.85</td>\n",
       "      <td>7.56</td>\n",
       "      <td>36.20</td>\n",
       "      <td>15.88</td>\n",
       "    </tr>\n",
       "  </tbody>\n",
       "</table>\n",
       "</div>"
      ],
      "text/plain": [
       "            VALE3  GGBR4  CPLE6  BBSE3  ITUB4  WEGE3  JBSS3  PRIO3  MULT3  \\\n",
       "Date                                                                        \n",
       "2020-01-02  16.18  32.15  59.35  58.80  12.87  15.52  21.74  23.18  26.19   \n",
       "2020-01-03  15.95  32.15  58.51  56.76  12.50  15.49  21.41  23.19  25.90   \n",
       "2020-01-06  16.02  31.64  58.15  55.00  12.38  15.29  21.28  22.78  26.32   \n",
       "2020-01-07  16.06  32.36  58.42  56.82  12.78  15.17  20.92  22.38  26.34   \n",
       "2020-01-08  15.98  32.72  57.58  56.92  12.74  15.03  20.60  22.04  26.32   \n",
       "\n",
       "            ITSA4   ABEV3  ALPA4  ARZZ3  AZUL4  B3SA3  BBAS3  BBDC3  BBDC4  \\\n",
       "Date                                                                         \n",
       "2020-01-02   9.79  256.57  17.31   8.54  34.15  25.86   4.64  11.07   9.25   \n",
       "2020-01-03  10.04  251.10  17.36   8.66  34.21  27.01   4.64  10.89   9.11   \n",
       "2020-01-06  10.04  251.10  17.34   8.70  33.86  28.41   4.65  10.86   9.09   \n",
       "2020-01-07  10.49  254.82  17.41   8.74  33.47  27.67   4.67  11.03   8.97   \n",
       "2020-01-08  10.61  253.73  17.25   8.74  34.75  29.06   4.60  11.08   8.83   \n",
       "\n",
       "            BEEF3  BHIA3  BPAC11  BRAP4  BRFS3  BRKM5  \n",
       "Date                                                   \n",
       "2020-01-02  31.51  21.48   29.70   7.14  36.41  16.54  \n",
       "2020-01-03  31.18  21.69   29.70   7.56  36.15  16.33  \n",
       "2020-01-06  30.72  21.18   29.65   7.71  35.93  16.37  \n",
       "2020-01-07  30.00  21.56   29.73   7.72  36.19  16.50  \n",
       "2020-01-08  29.51  22.09   29.85   7.56  36.20  15.88  "
      ]
     },
     "execution_count": 4,
     "metadata": {},
     "output_type": "execute_result"
    }
   ],
   "source": [
    "# print prices from a few stocks\n",
    "# stocks_data = st_r.pivot(index='date', columns='symbol', values='close')\n",
    "stocks.columns = assets\n",
    "stocks.head()"
   ]
  },
  {
   "cell_type": "code",
   "execution_count": 5,
   "metadata": {},
   "outputs": [
    {
     "name": "stdout",
     "output_type": "stream",
     "text": [
      "<class 'pandas.core.frame.DataFrame'>\n",
      "DatetimeIndex: 1083 entries, 2020-01-02 to 2024-05-10\n",
      "Data columns (total 24 columns):\n",
      " #   Column  Non-Null Count  Dtype  \n",
      "---  ------  --------------  -----  \n",
      " 0   VALE3   1083 non-null   float64\n",
      " 1   GGBR4   1083 non-null   float64\n",
      " 2   CPLE6   1083 non-null   float64\n",
      " 3   BBSE3   1083 non-null   float64\n",
      " 4   ITUB4   1083 non-null   float64\n",
      " 5   WEGE3   1083 non-null   float64\n",
      " 6   JBSS3   1083 non-null   float64\n",
      " 7   PRIO3   1083 non-null   float64\n",
      " 8   MULT3   1083 non-null   float64\n",
      " 9   ITSA4   1083 non-null   float64\n",
      " 10  ABEV3   1083 non-null   float64\n",
      " 11  ALPA4   1083 non-null   float64\n",
      " 12  ARZZ3   1083 non-null   float64\n",
      " 13  AZUL4   1083 non-null   float64\n",
      " 14  B3SA3   1083 non-null   float64\n",
      " 15  BBAS3   1083 non-null   float64\n",
      " 16  BBDC3   1083 non-null   float64\n",
      " 17  BBDC4   1083 non-null   float64\n",
      " 18  BEEF3   1083 non-null   float64\n",
      " 19  BHIA3   1083 non-null   float64\n",
      " 20  BPAC11  1083 non-null   float64\n",
      " 21  BRAP4   1083 non-null   float64\n",
      " 22  BRFS3   1083 non-null   float64\n",
      " 23  BRKM5   1083 non-null   float64\n",
      "dtypes: float64(24)\n",
      "memory usage: 211.5 KB\n"
     ]
    }
   ],
   "source": [
    "stocks.info()"
   ]
  },
  {
   "cell_type": "code",
   "execution_count": 6,
   "metadata": {},
   "outputs": [],
   "source": [
    "# st = st.drop_duplicates(subset =['date','symbol'],keep = False)\n",
    "# prices = st.pivot(index='date', columns='symbol', values='close')\n",
    "prices = stocks.copy()"
   ]
  },
  {
   "cell_type": "code",
   "execution_count": 7,
   "metadata": {},
   "outputs": [
    {
     "data": {
      "text/html": [
       "<div>\n",
       "<style scoped>\n",
       "    .dataframe tbody tr th:only-of-type {\n",
       "        vertical-align: middle;\n",
       "    }\n",
       "\n",
       "    .dataframe tbody tr th {\n",
       "        vertical-align: top;\n",
       "    }\n",
       "\n",
       "    .dataframe thead th {\n",
       "        text-align: right;\n",
       "    }\n",
       "</style>\n",
       "<table border=\"1\" class=\"dataframe\">\n",
       "  <thead>\n",
       "    <tr style=\"text-align: right;\">\n",
       "      <th></th>\n",
       "      <th>VALE3</th>\n",
       "      <th>GGBR4</th>\n",
       "      <th>CPLE6</th>\n",
       "      <th>BBSE3</th>\n",
       "      <th>ITUB4</th>\n",
       "      <th>WEGE3</th>\n",
       "      <th>JBSS3</th>\n",
       "      <th>PRIO3</th>\n",
       "      <th>MULT3</th>\n",
       "      <th>ITSA4</th>\n",
       "      <th>ABEV3</th>\n",
       "      <th>ALPA4</th>\n",
       "      <th>ARZZ3</th>\n",
       "      <th>AZUL4</th>\n",
       "      <th>B3SA3</th>\n",
       "      <th>BBAS3</th>\n",
       "      <th>BBDC3</th>\n",
       "      <th>BBDC4</th>\n",
       "      <th>BEEF3</th>\n",
       "      <th>BHIA3</th>\n",
       "      <th>BPAC11</th>\n",
       "      <th>BRAP4</th>\n",
       "      <th>BRFS3</th>\n",
       "      <th>BRKM5</th>\n",
       "    </tr>\n",
       "    <tr>\n",
       "      <th>Date</th>\n",
       "      <th></th>\n",
       "      <th></th>\n",
       "      <th></th>\n",
       "      <th></th>\n",
       "      <th></th>\n",
       "      <th></th>\n",
       "      <th></th>\n",
       "      <th></th>\n",
       "      <th></th>\n",
       "      <th></th>\n",
       "      <th></th>\n",
       "      <th></th>\n",
       "      <th></th>\n",
       "      <th></th>\n",
       "      <th></th>\n",
       "      <th></th>\n",
       "      <th></th>\n",
       "      <th></th>\n",
       "      <th></th>\n",
       "      <th></th>\n",
       "      <th></th>\n",
       "      <th></th>\n",
       "      <th></th>\n",
       "      <th></th>\n",
       "    </tr>\n",
       "  </thead>\n",
       "  <tbody>\n",
       "    <tr>\n",
       "      <th>2020-01-02</th>\n",
       "      <td>16.18</td>\n",
       "      <td>32.15</td>\n",
       "      <td>59.35</td>\n",
       "      <td>58.80</td>\n",
       "      <td>12.87</td>\n",
       "      <td>15.52</td>\n",
       "      <td>21.74</td>\n",
       "      <td>23.18</td>\n",
       "      <td>26.19</td>\n",
       "      <td>9.79</td>\n",
       "      <td>256.57</td>\n",
       "      <td>17.31</td>\n",
       "      <td>8.54</td>\n",
       "      <td>34.15</td>\n",
       "      <td>25.86</td>\n",
       "      <td>4.64</td>\n",
       "      <td>11.07</td>\n",
       "      <td>9.25</td>\n",
       "      <td>31.51</td>\n",
       "      <td>21.48</td>\n",
       "      <td>29.70</td>\n",
       "      <td>7.14</td>\n",
       "      <td>36.41</td>\n",
       "      <td>16.54</td>\n",
       "    </tr>\n",
       "    <tr>\n",
       "      <th>2020-01-03</th>\n",
       "      <td>15.95</td>\n",
       "      <td>32.15</td>\n",
       "      <td>58.51</td>\n",
       "      <td>56.76</td>\n",
       "      <td>12.50</td>\n",
       "      <td>15.49</td>\n",
       "      <td>21.41</td>\n",
       "      <td>23.19</td>\n",
       "      <td>25.90</td>\n",
       "      <td>10.04</td>\n",
       "      <td>251.10</td>\n",
       "      <td>17.36</td>\n",
       "      <td>8.66</td>\n",
       "      <td>34.21</td>\n",
       "      <td>27.01</td>\n",
       "      <td>4.64</td>\n",
       "      <td>10.89</td>\n",
       "      <td>9.11</td>\n",
       "      <td>31.18</td>\n",
       "      <td>21.69</td>\n",
       "      <td>29.70</td>\n",
       "      <td>7.56</td>\n",
       "      <td>36.15</td>\n",
       "      <td>16.33</td>\n",
       "    </tr>\n",
       "    <tr>\n",
       "      <th>2020-01-06</th>\n",
       "      <td>16.02</td>\n",
       "      <td>31.64</td>\n",
       "      <td>58.15</td>\n",
       "      <td>55.00</td>\n",
       "      <td>12.38</td>\n",
       "      <td>15.29</td>\n",
       "      <td>21.28</td>\n",
       "      <td>22.78</td>\n",
       "      <td>26.32</td>\n",
       "      <td>10.04</td>\n",
       "      <td>251.10</td>\n",
       "      <td>17.34</td>\n",
       "      <td>8.70</td>\n",
       "      <td>33.86</td>\n",
       "      <td>28.41</td>\n",
       "      <td>4.65</td>\n",
       "      <td>10.86</td>\n",
       "      <td>9.09</td>\n",
       "      <td>30.72</td>\n",
       "      <td>21.18</td>\n",
       "      <td>29.65</td>\n",
       "      <td>7.71</td>\n",
       "      <td>35.93</td>\n",
       "      <td>16.37</td>\n",
       "    </tr>\n",
       "    <tr>\n",
       "      <th>2020-01-07</th>\n",
       "      <td>16.06</td>\n",
       "      <td>32.36</td>\n",
       "      <td>58.42</td>\n",
       "      <td>56.82</td>\n",
       "      <td>12.78</td>\n",
       "      <td>15.17</td>\n",
       "      <td>20.92</td>\n",
       "      <td>22.38</td>\n",
       "      <td>26.34</td>\n",
       "      <td>10.49</td>\n",
       "      <td>254.82</td>\n",
       "      <td>17.41</td>\n",
       "      <td>8.74</td>\n",
       "      <td>33.47</td>\n",
       "      <td>27.67</td>\n",
       "      <td>4.67</td>\n",
       "      <td>11.03</td>\n",
       "      <td>8.97</td>\n",
       "      <td>30.00</td>\n",
       "      <td>21.56</td>\n",
       "      <td>29.73</td>\n",
       "      <td>7.72</td>\n",
       "      <td>36.19</td>\n",
       "      <td>16.50</td>\n",
       "    </tr>\n",
       "    <tr>\n",
       "      <th>2020-01-08</th>\n",
       "      <td>15.98</td>\n",
       "      <td>32.72</td>\n",
       "      <td>57.58</td>\n",
       "      <td>56.92</td>\n",
       "      <td>12.74</td>\n",
       "      <td>15.03</td>\n",
       "      <td>20.60</td>\n",
       "      <td>22.04</td>\n",
       "      <td>26.32</td>\n",
       "      <td>10.61</td>\n",
       "      <td>253.73</td>\n",
       "      <td>17.25</td>\n",
       "      <td>8.74</td>\n",
       "      <td>34.75</td>\n",
       "      <td>29.06</td>\n",
       "      <td>4.60</td>\n",
       "      <td>11.08</td>\n",
       "      <td>8.83</td>\n",
       "      <td>29.51</td>\n",
       "      <td>22.09</td>\n",
       "      <td>29.85</td>\n",
       "      <td>7.56</td>\n",
       "      <td>36.20</td>\n",
       "      <td>15.88</td>\n",
       "    </tr>\n",
       "  </tbody>\n",
       "</table>\n",
       "</div>"
      ],
      "text/plain": [
       "            VALE3  GGBR4  CPLE6  BBSE3  ITUB4  WEGE3  JBSS3  PRIO3  MULT3  \\\n",
       "Date                                                                        \n",
       "2020-01-02  16.18  32.15  59.35  58.80  12.87  15.52  21.74  23.18  26.19   \n",
       "2020-01-03  15.95  32.15  58.51  56.76  12.50  15.49  21.41  23.19  25.90   \n",
       "2020-01-06  16.02  31.64  58.15  55.00  12.38  15.29  21.28  22.78  26.32   \n",
       "2020-01-07  16.06  32.36  58.42  56.82  12.78  15.17  20.92  22.38  26.34   \n",
       "2020-01-08  15.98  32.72  57.58  56.92  12.74  15.03  20.60  22.04  26.32   \n",
       "\n",
       "            ITSA4   ABEV3  ALPA4  ARZZ3  AZUL4  B3SA3  BBAS3  BBDC3  BBDC4  \\\n",
       "Date                                                                         \n",
       "2020-01-02   9.79  256.57  17.31   8.54  34.15  25.86   4.64  11.07   9.25   \n",
       "2020-01-03  10.04  251.10  17.36   8.66  34.21  27.01   4.64  10.89   9.11   \n",
       "2020-01-06  10.04  251.10  17.34   8.70  33.86  28.41   4.65  10.86   9.09   \n",
       "2020-01-07  10.49  254.82  17.41   8.74  33.47  27.67   4.67  11.03   8.97   \n",
       "2020-01-08  10.61  253.73  17.25   8.74  34.75  29.06   4.60  11.08   8.83   \n",
       "\n",
       "            BEEF3  BHIA3  BPAC11  BRAP4  BRFS3  BRKM5  \n",
       "Date                                                   \n",
       "2020-01-02  31.51  21.48   29.70   7.14  36.41  16.54  \n",
       "2020-01-03  31.18  21.69   29.70   7.56  36.15  16.33  \n",
       "2020-01-06  30.72  21.18   29.65   7.71  35.93  16.37  \n",
       "2020-01-07  30.00  21.56   29.73   7.72  36.19  16.50  \n",
       "2020-01-08  29.51  22.09   29.85   7.56  36.20  15.88  "
      ]
     },
     "execution_count": 7,
     "metadata": {},
     "output_type": "execute_result"
    }
   ],
   "source": [
    "prices.head()"
   ]
  },
  {
   "cell_type": "code",
   "execution_count": 8,
   "metadata": {},
   "outputs": [
    {
     "name": "stdout",
     "output_type": "stream",
     "text": [
      "(745, 24)\n"
     ]
    },
    {
     "data": {
      "text/html": [
       "<div>\n",
       "<style scoped>\n",
       "    .dataframe tbody tr th:only-of-type {\n",
       "        vertical-align: middle;\n",
       "    }\n",
       "\n",
       "    .dataframe tbody tr th {\n",
       "        vertical-align: top;\n",
       "    }\n",
       "\n",
       "    .dataframe thead th {\n",
       "        text-align: right;\n",
       "    }\n",
       "</style>\n",
       "<table border=\"1\" class=\"dataframe\">\n",
       "  <thead>\n",
       "    <tr style=\"text-align: right;\">\n",
       "      <th></th>\n",
       "      <th>VALE3</th>\n",
       "      <th>GGBR4</th>\n",
       "      <th>CPLE6</th>\n",
       "      <th>BBSE3</th>\n",
       "      <th>ITUB4</th>\n",
       "      <th>WEGE3</th>\n",
       "      <th>JBSS3</th>\n",
       "      <th>PRIO3</th>\n",
       "      <th>MULT3</th>\n",
       "      <th>ITSA4</th>\n",
       "      <th>ABEV3</th>\n",
       "      <th>ALPA4</th>\n",
       "      <th>ARZZ3</th>\n",
       "      <th>AZUL4</th>\n",
       "      <th>B3SA3</th>\n",
       "      <th>BBAS3</th>\n",
       "      <th>BBDC3</th>\n",
       "      <th>BBDC4</th>\n",
       "      <th>BEEF3</th>\n",
       "      <th>BHIA3</th>\n",
       "      <th>BPAC11</th>\n",
       "      <th>BRAP4</th>\n",
       "      <th>BRFS3</th>\n",
       "      <th>BRKM5</th>\n",
       "    </tr>\n",
       "    <tr>\n",
       "      <th>Date</th>\n",
       "      <th></th>\n",
       "      <th></th>\n",
       "      <th></th>\n",
       "      <th></th>\n",
       "      <th></th>\n",
       "      <th></th>\n",
       "      <th></th>\n",
       "      <th></th>\n",
       "      <th></th>\n",
       "      <th></th>\n",
       "      <th></th>\n",
       "      <th></th>\n",
       "      <th></th>\n",
       "      <th></th>\n",
       "      <th></th>\n",
       "      <th></th>\n",
       "      <th></th>\n",
       "      <th></th>\n",
       "      <th></th>\n",
       "      <th></th>\n",
       "      <th></th>\n",
       "      <th></th>\n",
       "      <th></th>\n",
       "      <th></th>\n",
       "    </tr>\n",
       "  </thead>\n",
       "  <tbody>\n",
       "    <tr>\n",
       "      <th>2022-12-23</th>\n",
       "      <td>13.89</td>\n",
       "      <td>14.80</td>\n",
       "      <td>78.51</td>\n",
       "      <td>11.45</td>\n",
       "      <td>12.73</td>\n",
       "      <td>14.68</td>\n",
       "      <td>12.03</td>\n",
       "      <td>13.67</td>\n",
       "      <td>29.18</td>\n",
       "      <td>11.90</td>\n",
       "      <td>56.00</td>\n",
       "      <td>23.78</td>\n",
       "      <td>24.94</td>\n",
       "      <td>7.52</td>\n",
       "      <td>23.75</td>\n",
       "      <td>7.39</td>\n",
       "      <td>20.96</td>\n",
       "      <td>7.35</td>\n",
       "      <td>23.06</td>\n",
       "      <td>19.99</td>\n",
       "      <td>21.60</td>\n",
       "      <td>35.43</td>\n",
       "      <td>77.71</td>\n",
       "      <td>37.52</td>\n",
       "    </tr>\n",
       "    <tr>\n",
       "      <th>2022-12-26</th>\n",
       "      <td>13.80</td>\n",
       "      <td>14.68</td>\n",
       "      <td>76.29</td>\n",
       "      <td>11.36</td>\n",
       "      <td>12.80</td>\n",
       "      <td>14.66</td>\n",
       "      <td>11.75</td>\n",
       "      <td>13.34</td>\n",
       "      <td>28.89</td>\n",
       "      <td>11.60</td>\n",
       "      <td>55.78</td>\n",
       "      <td>23.19</td>\n",
       "      <td>24.98</td>\n",
       "      <td>7.44</td>\n",
       "      <td>23.29</td>\n",
       "      <td>7.34</td>\n",
       "      <td>20.58</td>\n",
       "      <td>7.26</td>\n",
       "      <td>22.61</td>\n",
       "      <td>19.92</td>\n",
       "      <td>21.04</td>\n",
       "      <td>35.38</td>\n",
       "      <td>78.42</td>\n",
       "      <td>37.21</td>\n",
       "    </tr>\n",
       "    <tr>\n",
       "      <th>2022-12-27</th>\n",
       "      <td>13.80</td>\n",
       "      <td>14.45</td>\n",
       "      <td>74.36</td>\n",
       "      <td>10.74</td>\n",
       "      <td>12.35</td>\n",
       "      <td>14.17</td>\n",
       "      <td>11.83</td>\n",
       "      <td>13.28</td>\n",
       "      <td>28.84</td>\n",
       "      <td>11.76</td>\n",
       "      <td>51.84</td>\n",
       "      <td>22.65</td>\n",
       "      <td>25.58</td>\n",
       "      <td>7.19</td>\n",
       "      <td>23.93</td>\n",
       "      <td>7.27</td>\n",
       "      <td>21.60</td>\n",
       "      <td>7.18</td>\n",
       "      <td>22.48</td>\n",
       "      <td>19.94</td>\n",
       "      <td>20.32</td>\n",
       "      <td>35.52</td>\n",
       "      <td>80.29</td>\n",
       "      <td>37.04</td>\n",
       "    </tr>\n",
       "    <tr>\n",
       "      <th>2022-12-28</th>\n",
       "      <td>13.83</td>\n",
       "      <td>15.12</td>\n",
       "      <td>76.41</td>\n",
       "      <td>11.16</td>\n",
       "      <td>12.78</td>\n",
       "      <td>14.43</td>\n",
       "      <td>12.19</td>\n",
       "      <td>13.68</td>\n",
       "      <td>29.22</td>\n",
       "      <td>12.00</td>\n",
       "      <td>53.59</td>\n",
       "      <td>23.77</td>\n",
       "      <td>25.62</td>\n",
       "      <td>7.76</td>\n",
       "      <td>24.01</td>\n",
       "      <td>7.55</td>\n",
       "      <td>21.50</td>\n",
       "      <td>7.33</td>\n",
       "      <td>22.94</td>\n",
       "      <td>20.49</td>\n",
       "      <td>21.14</td>\n",
       "      <td>37.19</td>\n",
       "      <td>80.11</td>\n",
       "      <td>37.71</td>\n",
       "    </tr>\n",
       "    <tr>\n",
       "      <th>2022-12-29</th>\n",
       "      <td>13.80</td>\n",
       "      <td>15.08</td>\n",
       "      <td>75.99</td>\n",
       "      <td>11.01</td>\n",
       "      <td>12.60</td>\n",
       "      <td>14.45</td>\n",
       "      <td>12.13</td>\n",
       "      <td>13.67</td>\n",
       "      <td>29.29</td>\n",
       "      <td>12.22</td>\n",
       "      <td>52.50</td>\n",
       "      <td>23.23</td>\n",
       "      <td>25.35</td>\n",
       "      <td>8.28</td>\n",
       "      <td>23.76</td>\n",
       "      <td>7.58</td>\n",
       "      <td>21.44</td>\n",
       "      <td>7.29</td>\n",
       "      <td>22.89</td>\n",
       "      <td>20.82</td>\n",
       "      <td>20.94</td>\n",
       "      <td>37.15</td>\n",
       "      <td>80.01</td>\n",
       "      <td>37.53</td>\n",
       "    </tr>\n",
       "  </tbody>\n",
       "</table>\n",
       "</div>"
      ],
      "text/plain": [
       "            VALE3  GGBR4  CPLE6  BBSE3  ITUB4  WEGE3  JBSS3  PRIO3  MULT3  \\\n",
       "Date                                                                        \n",
       "2022-12-23  13.89  14.80  78.51  11.45  12.73  14.68  12.03  13.67  29.18   \n",
       "2022-12-26  13.80  14.68  76.29  11.36  12.80  14.66  11.75  13.34  28.89   \n",
       "2022-12-27  13.80  14.45  74.36  10.74  12.35  14.17  11.83  13.28  28.84   \n",
       "2022-12-28  13.83  15.12  76.41  11.16  12.78  14.43  12.19  13.68  29.22   \n",
       "2022-12-29  13.80  15.08  75.99  11.01  12.60  14.45  12.13  13.67  29.29   \n",
       "\n",
       "            ITSA4  ABEV3  ALPA4  ARZZ3  AZUL4  B3SA3  BBAS3  BBDC3  BBDC4  \\\n",
       "Date                                                                        \n",
       "2022-12-23  11.90  56.00  23.78  24.94   7.52  23.75   7.39  20.96   7.35   \n",
       "2022-12-26  11.60  55.78  23.19  24.98   7.44  23.29   7.34  20.58   7.26   \n",
       "2022-12-27  11.76  51.84  22.65  25.58   7.19  23.93   7.27  21.60   7.18   \n",
       "2022-12-28  12.00  53.59  23.77  25.62   7.76  24.01   7.55  21.50   7.33   \n",
       "2022-12-29  12.22  52.50  23.23  25.35   8.28  23.76   7.58  21.44   7.29   \n",
       "\n",
       "            BEEF3  BHIA3  BPAC11  BRAP4  BRFS3  BRKM5  \n",
       "Date                                                   \n",
       "2022-12-23  23.06  19.99   21.60  35.43  77.71  37.52  \n",
       "2022-12-26  22.61  19.92   21.04  35.38  78.42  37.21  \n",
       "2022-12-27  22.48  19.94   20.32  35.52  80.29  37.04  \n",
       "2022-12-28  22.94  20.49   21.14  37.19  80.11  37.71  \n",
       "2022-12-29  22.89  20.82   20.94  37.15  80.01  37.53  "
      ]
     },
     "execution_count": 8,
     "metadata": {},
     "output_type": "execute_result"
    }
   ],
   "source": [
    "train = prices.loc[(prices.index >= '2020-01-01') & (prices.index <= '2022-12-31')]\n",
    "print(train.shape)\n",
    "train.tail()"
   ]
  },
  {
   "cell_type": "code",
   "execution_count": 9,
   "metadata": {},
   "outputs": [
    {
     "name": "stdout",
     "output_type": "stream",
     "text": [
      "(338, 24)\n"
     ]
    },
    {
     "data": {
      "text/html": [
       "<div>\n",
       "<style scoped>\n",
       "    .dataframe tbody tr th:only-of-type {\n",
       "        vertical-align: middle;\n",
       "    }\n",
       "\n",
       "    .dataframe tbody tr th {\n",
       "        vertical-align: top;\n",
       "    }\n",
       "\n",
       "    .dataframe thead th {\n",
       "        text-align: right;\n",
       "    }\n",
       "</style>\n",
       "<table border=\"1\" class=\"dataframe\">\n",
       "  <thead>\n",
       "    <tr style=\"text-align: right;\">\n",
       "      <th></th>\n",
       "      <th>VALE3</th>\n",
       "      <th>GGBR4</th>\n",
       "      <th>CPLE6</th>\n",
       "      <th>BBSE3</th>\n",
       "      <th>ITUB4</th>\n",
       "      <th>WEGE3</th>\n",
       "      <th>JBSS3</th>\n",
       "      <th>PRIO3</th>\n",
       "      <th>MULT3</th>\n",
       "      <th>ITSA4</th>\n",
       "      <th>ABEV3</th>\n",
       "      <th>ALPA4</th>\n",
       "      <th>ARZZ3</th>\n",
       "      <th>AZUL4</th>\n",
       "      <th>B3SA3</th>\n",
       "      <th>BBAS3</th>\n",
       "      <th>BBDC3</th>\n",
       "      <th>BBDC4</th>\n",
       "      <th>BEEF3</th>\n",
       "      <th>BHIA3</th>\n",
       "      <th>BPAC11</th>\n",
       "      <th>BRAP4</th>\n",
       "      <th>BRFS3</th>\n",
       "      <th>BRKM5</th>\n",
       "    </tr>\n",
       "    <tr>\n",
       "      <th>Date</th>\n",
       "      <th></th>\n",
       "      <th></th>\n",
       "      <th></th>\n",
       "      <th></th>\n",
       "      <th></th>\n",
       "      <th></th>\n",
       "      <th></th>\n",
       "      <th></th>\n",
       "      <th></th>\n",
       "      <th></th>\n",
       "      <th></th>\n",
       "      <th></th>\n",
       "      <th></th>\n",
       "      <th></th>\n",
       "      <th></th>\n",
       "      <th></th>\n",
       "      <th></th>\n",
       "      <th></th>\n",
       "      <th></th>\n",
       "      <th></th>\n",
       "      <th></th>\n",
       "      <th></th>\n",
       "      <th></th>\n",
       "      <th></th>\n",
       "    </tr>\n",
       "  </thead>\n",
       "  <tbody>\n",
       "    <tr>\n",
       "      <th>2024-05-06</th>\n",
       "      <td>12.45</td>\n",
       "      <td>9.78</td>\n",
       "      <td>51.75</td>\n",
       "      <td>10.93</td>\n",
       "      <td>11.51</td>\n",
       "      <td>28.38</td>\n",
       "      <td>12.32</td>\n",
       "      <td>13.77</td>\n",
       "      <td>33.26</td>\n",
       "      <td>6.01</td>\n",
       "      <td>6.97</td>\n",
       "      <td>35.15</td>\n",
       "      <td>20.30</td>\n",
       "      <td>16.18</td>\n",
       "      <td>19.70</td>\n",
       "      <td>9.55</td>\n",
       "      <td>19.64</td>\n",
       "      <td>9.83</td>\n",
       "      <td>32.40</td>\n",
       "      <td>23.88</td>\n",
       "      <td>24.41</td>\n",
       "      <td>47.19</td>\n",
       "      <td>64.18</td>\n",
       "      <td>38.63</td>\n",
       "    </tr>\n",
       "    <tr>\n",
       "      <th>2024-05-07</th>\n",
       "      <td>12.60</td>\n",
       "      <td>9.68</td>\n",
       "      <td>51.79</td>\n",
       "      <td>10.96</td>\n",
       "      <td>11.58</td>\n",
       "      <td>28.29</td>\n",
       "      <td>12.36</td>\n",
       "      <td>13.77</td>\n",
       "      <td>32.80</td>\n",
       "      <td>6.02</td>\n",
       "      <td>7.03</td>\n",
       "      <td>35.32</td>\n",
       "      <td>20.33</td>\n",
       "      <td>16.65</td>\n",
       "      <td>20.05</td>\n",
       "      <td>9.56</td>\n",
       "      <td>19.31</td>\n",
       "      <td>9.98</td>\n",
       "      <td>33.07</td>\n",
       "      <td>24.31</td>\n",
       "      <td>24.07</td>\n",
       "      <td>47.17</td>\n",
       "      <td>64.58</td>\n",
       "      <td>38.90</td>\n",
       "    </tr>\n",
       "    <tr>\n",
       "      <th>2024-05-08</th>\n",
       "      <td>12.17</td>\n",
       "      <td>9.80</td>\n",
       "      <td>51.98</td>\n",
       "      <td>11.12</td>\n",
       "      <td>11.67</td>\n",
       "      <td>28.38</td>\n",
       "      <td>12.28</td>\n",
       "      <td>13.80</td>\n",
       "      <td>32.62</td>\n",
       "      <td>6.08</td>\n",
       "      <td>6.96</td>\n",
       "      <td>34.61</td>\n",
       "      <td>20.21</td>\n",
       "      <td>18.51</td>\n",
       "      <td>19.71</td>\n",
       "      <td>9.54</td>\n",
       "      <td>19.45</td>\n",
       "      <td>10.09</td>\n",
       "      <td>33.28</td>\n",
       "      <td>24.47</td>\n",
       "      <td>23.96</td>\n",
       "      <td>46.54</td>\n",
       "      <td>63.99</td>\n",
       "      <td>39.09</td>\n",
       "    </tr>\n",
       "    <tr>\n",
       "      <th>2024-05-09</th>\n",
       "      <td>12.05</td>\n",
       "      <td>9.96</td>\n",
       "      <td>49.75</td>\n",
       "      <td>11.08</td>\n",
       "      <td>11.21</td>\n",
       "      <td>27.14</td>\n",
       "      <td>11.96</td>\n",
       "      <td>13.45</td>\n",
       "      <td>32.62</td>\n",
       "      <td>6.24</td>\n",
       "      <td>7.12</td>\n",
       "      <td>33.21</td>\n",
       "      <td>20.28</td>\n",
       "      <td>18.91</td>\n",
       "      <td>19.28</td>\n",
       "      <td>9.24</td>\n",
       "      <td>19.35</td>\n",
       "      <td>9.93</td>\n",
       "      <td>32.28</td>\n",
       "      <td>24.61</td>\n",
       "      <td>23.44</td>\n",
       "      <td>46.78</td>\n",
       "      <td>64.51</td>\n",
       "      <td>38.90</td>\n",
       "    </tr>\n",
       "    <tr>\n",
       "      <th>2024-05-10</th>\n",
       "      <td>12.04</td>\n",
       "      <td>10.29</td>\n",
       "      <td>47.82</td>\n",
       "      <td>11.03</td>\n",
       "      <td>10.94</td>\n",
       "      <td>27.62</td>\n",
       "      <td>11.95</td>\n",
       "      <td>13.37</td>\n",
       "      <td>33.13</td>\n",
       "      <td>6.34</td>\n",
       "      <td>6.81</td>\n",
       "      <td>33.52</td>\n",
       "      <td>20.10</td>\n",
       "      <td>18.32</td>\n",
       "      <td>19.06</td>\n",
       "      <td>9.13</td>\n",
       "      <td>19.14</td>\n",
       "      <td>10.04</td>\n",
       "      <td>32.65</td>\n",
       "      <td>24.62</td>\n",
       "      <td>23.65</td>\n",
       "      <td>47.00</td>\n",
       "      <td>64.29</td>\n",
       "      <td>38.97</td>\n",
       "    </tr>\n",
       "  </tbody>\n",
       "</table>\n",
       "</div>"
      ],
      "text/plain": [
       "            VALE3  GGBR4  CPLE6  BBSE3  ITUB4  WEGE3  JBSS3  PRIO3  MULT3  \\\n",
       "Date                                                                        \n",
       "2024-05-06  12.45   9.78  51.75  10.93  11.51  28.38  12.32  13.77  33.26   \n",
       "2024-05-07  12.60   9.68  51.79  10.96  11.58  28.29  12.36  13.77  32.80   \n",
       "2024-05-08  12.17   9.80  51.98  11.12  11.67  28.38  12.28  13.80  32.62   \n",
       "2024-05-09  12.05   9.96  49.75  11.08  11.21  27.14  11.96  13.45  32.62   \n",
       "2024-05-10  12.04  10.29  47.82  11.03  10.94  27.62  11.95  13.37  33.13   \n",
       "\n",
       "            ITSA4  ABEV3  ALPA4  ARZZ3  AZUL4  B3SA3  BBAS3  BBDC3  BBDC4  \\\n",
       "Date                                                                        \n",
       "2024-05-06   6.01   6.97  35.15  20.30  16.18  19.70   9.55  19.64   9.83   \n",
       "2024-05-07   6.02   7.03  35.32  20.33  16.65  20.05   9.56  19.31   9.98   \n",
       "2024-05-08   6.08   6.96  34.61  20.21  18.51  19.71   9.54  19.45  10.09   \n",
       "2024-05-09   6.24   7.12  33.21  20.28  18.91  19.28   9.24  19.35   9.93   \n",
       "2024-05-10   6.34   6.81  33.52  20.10  18.32  19.06   9.13  19.14  10.04   \n",
       "\n",
       "            BEEF3  BHIA3  BPAC11  BRAP4  BRFS3  BRKM5  \n",
       "Date                                                   \n",
       "2024-05-06  32.40  23.88   24.41  47.19  64.18  38.63  \n",
       "2024-05-07  33.07  24.31   24.07  47.17  64.58  38.90  \n",
       "2024-05-08  33.28  24.47   23.96  46.54  63.99  39.09  \n",
       "2024-05-09  32.28  24.61   23.44  46.78  64.51  38.90  \n",
       "2024-05-10  32.65  24.62   23.65  47.00  64.29  38.97  "
      ]
     },
     "execution_count": 9,
     "metadata": {},
     "output_type": "execute_result"
    }
   ],
   "source": [
    "oos = prices.loc[(prices.index >= '2022-12-31')]\n",
    "print(oos.shape)\n",
    "oos.tail()"
   ]
  },
  {
   "cell_type": "code",
   "execution_count": 10,
   "metadata": {},
   "outputs": [
    {
     "data": {
      "text/plain": [
       "((745, 24), (338, 24))"
      ]
     },
     "execution_count": 10,
     "metadata": {},
     "output_type": "execute_result"
    }
   ],
   "source": [
    "train.shape, oos.shape"
   ]
  },
  {
   "cell_type": "code",
   "execution_count": 11,
   "metadata": {},
   "outputs": [
    {
     "data": {
      "text/html": [
       "<div>\n",
       "<style scoped>\n",
       "    .dataframe tbody tr th:only-of-type {\n",
       "        vertical-align: middle;\n",
       "    }\n",
       "\n",
       "    .dataframe tbody tr th {\n",
       "        vertical-align: top;\n",
       "    }\n",
       "\n",
       "    .dataframe thead th {\n",
       "        text-align: right;\n",
       "    }\n",
       "</style>\n",
       "<table border=\"1\" class=\"dataframe\">\n",
       "  <thead>\n",
       "    <tr style=\"text-align: right;\">\n",
       "      <th></th>\n",
       "      <th>VALE3</th>\n",
       "      <th>GGBR4</th>\n",
       "      <th>CPLE6</th>\n",
       "      <th>BBSE3</th>\n",
       "      <th>ITUB4</th>\n",
       "      <th>WEGE3</th>\n",
       "      <th>JBSS3</th>\n",
       "      <th>PRIO3</th>\n",
       "      <th>MULT3</th>\n",
       "      <th>ITSA4</th>\n",
       "      <th>ABEV3</th>\n",
       "      <th>ALPA4</th>\n",
       "      <th>ARZZ3</th>\n",
       "      <th>AZUL4</th>\n",
       "      <th>B3SA3</th>\n",
       "      <th>BBAS3</th>\n",
       "      <th>BBDC3</th>\n",
       "      <th>BBDC4</th>\n",
       "      <th>BEEF3</th>\n",
       "      <th>BHIA3</th>\n",
       "      <th>BPAC11</th>\n",
       "      <th>BRAP4</th>\n",
       "      <th>BRFS3</th>\n",
       "      <th>BRKM5</th>\n",
       "    </tr>\n",
       "    <tr>\n",
       "      <th>Date</th>\n",
       "      <th></th>\n",
       "      <th></th>\n",
       "      <th></th>\n",
       "      <th></th>\n",
       "      <th></th>\n",
       "      <th></th>\n",
       "      <th></th>\n",
       "      <th></th>\n",
       "      <th></th>\n",
       "      <th></th>\n",
       "      <th></th>\n",
       "      <th></th>\n",
       "      <th></th>\n",
       "      <th></th>\n",
       "      <th></th>\n",
       "      <th></th>\n",
       "      <th></th>\n",
       "      <th></th>\n",
       "      <th></th>\n",
       "      <th></th>\n",
       "      <th></th>\n",
       "      <th></th>\n",
       "      <th></th>\n",
       "      <th></th>\n",
       "    </tr>\n",
       "  </thead>\n",
       "  <tbody>\n",
       "    <tr>\n",
       "      <th>2020-01-03</th>\n",
       "      <td>-0.014215</td>\n",
       "      <td>0.000000</td>\n",
       "      <td>-0.014153</td>\n",
       "      <td>-0.034694</td>\n",
       "      <td>-0.028749</td>\n",
       "      <td>-0.001933</td>\n",
       "      <td>-0.015179</td>\n",
       "      <td>0.000431</td>\n",
       "      <td>-0.011073</td>\n",
       "      <td>0.025536</td>\n",
       "      <td>-0.021320</td>\n",
       "      <td>0.002889</td>\n",
       "      <td>0.014052</td>\n",
       "      <td>0.001757</td>\n",
       "      <td>0.044470</td>\n",
       "      <td>0.000000</td>\n",
       "      <td>-0.016260</td>\n",
       "      <td>-0.015135</td>\n",
       "      <td>-0.010473</td>\n",
       "      <td>0.009777</td>\n",
       "      <td>0.000000</td>\n",
       "      <td>0.058824</td>\n",
       "      <td>-0.007141</td>\n",
       "      <td>-0.012696</td>\n",
       "    </tr>\n",
       "    <tr>\n",
       "      <th>2020-01-06</th>\n",
       "      <td>0.004389</td>\n",
       "      <td>-0.015863</td>\n",
       "      <td>-0.006153</td>\n",
       "      <td>-0.031008</td>\n",
       "      <td>-0.009600</td>\n",
       "      <td>-0.012912</td>\n",
       "      <td>-0.006072</td>\n",
       "      <td>-0.017680</td>\n",
       "      <td>0.016216</td>\n",
       "      <td>0.000000</td>\n",
       "      <td>0.000000</td>\n",
       "      <td>-0.001152</td>\n",
       "      <td>0.004619</td>\n",
       "      <td>-0.010231</td>\n",
       "      <td>0.051833</td>\n",
       "      <td>0.002155</td>\n",
       "      <td>-0.002755</td>\n",
       "      <td>-0.002195</td>\n",
       "      <td>-0.014753</td>\n",
       "      <td>-0.023513</td>\n",
       "      <td>-0.001684</td>\n",
       "      <td>0.019841</td>\n",
       "      <td>-0.006086</td>\n",
       "      <td>0.002449</td>\n",
       "    </tr>\n",
       "    <tr>\n",
       "      <th>2020-01-07</th>\n",
       "      <td>0.002497</td>\n",
       "      <td>0.022756</td>\n",
       "      <td>0.004643</td>\n",
       "      <td>0.033091</td>\n",
       "      <td>0.032310</td>\n",
       "      <td>-0.007848</td>\n",
       "      <td>-0.016917</td>\n",
       "      <td>-0.017559</td>\n",
       "      <td>0.000760</td>\n",
       "      <td>0.044821</td>\n",
       "      <td>0.014815</td>\n",
       "      <td>0.004037</td>\n",
       "      <td>0.004598</td>\n",
       "      <td>-0.011518</td>\n",
       "      <td>-0.026047</td>\n",
       "      <td>0.004301</td>\n",
       "      <td>0.015654</td>\n",
       "      <td>-0.013201</td>\n",
       "      <td>-0.023438</td>\n",
       "      <td>0.017941</td>\n",
       "      <td>0.002698</td>\n",
       "      <td>0.001297</td>\n",
       "      <td>0.007236</td>\n",
       "      <td>0.007941</td>\n",
       "    </tr>\n",
       "    <tr>\n",
       "      <th>2020-01-08</th>\n",
       "      <td>-0.004981</td>\n",
       "      <td>0.011125</td>\n",
       "      <td>-0.014379</td>\n",
       "      <td>0.001760</td>\n",
       "      <td>-0.003130</td>\n",
       "      <td>-0.009229</td>\n",
       "      <td>-0.015296</td>\n",
       "      <td>-0.015192</td>\n",
       "      <td>-0.000759</td>\n",
       "      <td>0.011439</td>\n",
       "      <td>-0.004278</td>\n",
       "      <td>-0.009190</td>\n",
       "      <td>0.000000</td>\n",
       "      <td>0.038243</td>\n",
       "      <td>0.050235</td>\n",
       "      <td>-0.014989</td>\n",
       "      <td>0.004533</td>\n",
       "      <td>-0.015608</td>\n",
       "      <td>-0.016333</td>\n",
       "      <td>0.024583</td>\n",
       "      <td>0.004036</td>\n",
       "      <td>-0.020725</td>\n",
       "      <td>0.000276</td>\n",
       "      <td>-0.037576</td>\n",
       "    </tr>\n",
       "  </tbody>\n",
       "</table>\n",
       "</div>"
      ],
      "text/plain": [
       "               VALE3     GGBR4     CPLE6     BBSE3     ITUB4     WEGE3  \\\n",
       "Date                                                                     \n",
       "2020-01-03 -0.014215  0.000000 -0.014153 -0.034694 -0.028749 -0.001933   \n",
       "2020-01-06  0.004389 -0.015863 -0.006153 -0.031008 -0.009600 -0.012912   \n",
       "2020-01-07  0.002497  0.022756  0.004643  0.033091  0.032310 -0.007848   \n",
       "2020-01-08 -0.004981  0.011125 -0.014379  0.001760 -0.003130 -0.009229   \n",
       "\n",
       "               JBSS3     PRIO3     MULT3     ITSA4     ABEV3     ALPA4  \\\n",
       "Date                                                                     \n",
       "2020-01-03 -0.015179  0.000431 -0.011073  0.025536 -0.021320  0.002889   \n",
       "2020-01-06 -0.006072 -0.017680  0.016216  0.000000  0.000000 -0.001152   \n",
       "2020-01-07 -0.016917 -0.017559  0.000760  0.044821  0.014815  0.004037   \n",
       "2020-01-08 -0.015296 -0.015192 -0.000759  0.011439 -0.004278 -0.009190   \n",
       "\n",
       "               ARZZ3     AZUL4     B3SA3     BBAS3     BBDC3     BBDC4  \\\n",
       "Date                                                                     \n",
       "2020-01-03  0.014052  0.001757  0.044470  0.000000 -0.016260 -0.015135   \n",
       "2020-01-06  0.004619 -0.010231  0.051833  0.002155 -0.002755 -0.002195   \n",
       "2020-01-07  0.004598 -0.011518 -0.026047  0.004301  0.015654 -0.013201   \n",
       "2020-01-08  0.000000  0.038243  0.050235 -0.014989  0.004533 -0.015608   \n",
       "\n",
       "               BEEF3     BHIA3    BPAC11     BRAP4     BRFS3     BRKM5  \n",
       "Date                                                                    \n",
       "2020-01-03 -0.010473  0.009777  0.000000  0.058824 -0.007141 -0.012696  \n",
       "2020-01-06 -0.014753 -0.023513 -0.001684  0.019841 -0.006086  0.002449  \n",
       "2020-01-07 -0.023438  0.017941  0.002698  0.001297  0.007236  0.007941  \n",
       "2020-01-08 -0.016333  0.024583  0.004036 -0.020725  0.000276 -0.037576  "
      ]
     },
     "execution_count": 11,
     "metadata": {},
     "output_type": "execute_result"
    }
   ],
   "source": [
    "daily_returns = train.pct_change().head()\n",
    "daily_returns = daily_returns.iloc[1:] # deletes the first row that has no daily return\n",
    "daily_returns = daily_returns.dropna(axis='columns') # filter out stocks with NaNs\n",
    "daily_returns.head()"
   ]
  },
  {
   "cell_type": "code",
   "execution_count": 12,
   "metadata": {},
   "outputs": [
    {
     "data": {
      "text/plain": [
       "VALE3    -0.003078\n",
       "GGBR4     0.004504\n",
       "CPLE6    -0.007510\n",
       "BBSE3    -0.007713\n",
       "ITUB4    -0.002292\n",
       "WEGE3    -0.007980\n",
       "JBSS3    -0.013366\n",
       "PRIO3    -0.012500\n",
       "MULT3     0.001286\n",
       "ITSA4     0.020449\n",
       "ABEV3    -0.002696\n",
       "ALPA4    -0.000854\n",
       "ARZZ3     0.005817\n",
       "AZUL4     0.004563\n",
       "B3SA3     0.030123\n",
       "BBAS3    -0.002133\n",
       "BBDC3     0.000293\n",
       "BBDC4    -0.011535\n",
       "BEEF3    -0.016249\n",
       "BHIA3     0.007197\n",
       "BPAC11    0.001263\n",
       "BRAP4     0.014809\n",
       "BRFS3    -0.001429\n",
       "BRKM5    -0.009970\n",
       "dtype: float64"
      ]
     },
     "execution_count": 12,
     "metadata": {},
     "output_type": "execute_result"
    }
   ],
   "source": [
    "mu = daily_returns.mean()\n",
    "mu"
   ]
  },
  {
   "cell_type": "code",
   "execution_count": 13,
   "metadata": {},
   "outputs": [
    {
     "data": {
      "text/plain": [
       "{'VALE3': -0.003077701690250928,\n",
       " 'GGBR4': 0.004504427255260346,\n",
       " 'CPLE6': -0.0075103988333856675,\n",
       " 'BBSE3': -0.007712694179073415,\n",
       " 'ITUB4': -0.0022921853742213505,\n",
       " 'WEGE3': -0.007980388327582827,\n",
       " 'JBSS3': -0.013366245543829508,\n",
       " 'PRIO3': -0.012500006614838965,\n",
       " 'MULT3': 0.0012859661485736251,\n",
       " 'ITSA4': 0.020449111195259495,\n",
       " 'ABEV3': -0.00269560805932742,\n",
       " 'ALPA4': -0.0008541954291993725,\n",
       " 'ARZZ3': 0.0058170402605026705,\n",
       " 'AZUL4': 0.004562803873312954,\n",
       " 'B3SA3': 0.03012265595569219,\n",
       " 'BBAS3': -0.002133261419818566,\n",
       " 'BBDC3': 0.0002929708381170515,\n",
       " 'BBDC4': -0.011534856443447233,\n",
       " 'BEEF3': -0.01624918647878093,\n",
       " 'BHIA3': 0.007196852779015134,\n",
       " 'BPAC11': 0.0012627425710689533,\n",
       " 'BRAP4': 0.01480910687830439,\n",
       " 'BRFS3': -0.0014285092363048313,\n",
       " 'BRKM5': -0.009970353825081213}"
      ]
     },
     "execution_count": 13,
     "metadata": {},
     "output_type": "execute_result"
    }
   ],
   "source": [
    "mu.to_dict()"
   ]
  },
  {
   "cell_type": "code",
   "execution_count": 14,
   "metadata": {},
   "outputs": [
    {
     "data": {
      "text/html": [
       "<div>\n",
       "<style scoped>\n",
       "    .dataframe tbody tr th:only-of-type {\n",
       "        vertical-align: middle;\n",
       "    }\n",
       "\n",
       "    .dataframe tbody tr th {\n",
       "        vertical-align: top;\n",
       "    }\n",
       "\n",
       "    .dataframe thead th {\n",
       "        text-align: right;\n",
       "    }\n",
       "</style>\n",
       "<table border=\"1\" class=\"dataframe\">\n",
       "  <thead>\n",
       "    <tr style=\"text-align: right;\">\n",
       "      <th></th>\n",
       "      <th>VALE3</th>\n",
       "      <th>GGBR4</th>\n",
       "      <th>CPLE6</th>\n",
       "      <th>BBSE3</th>\n",
       "      <th>ITUB4</th>\n",
       "      <th>WEGE3</th>\n",
       "      <th>JBSS3</th>\n",
       "      <th>PRIO3</th>\n",
       "      <th>MULT3</th>\n",
       "      <th>ITSA4</th>\n",
       "      <th>ABEV3</th>\n",
       "      <th>ALPA4</th>\n",
       "      <th>ARZZ3</th>\n",
       "      <th>AZUL4</th>\n",
       "      <th>B3SA3</th>\n",
       "      <th>BBAS3</th>\n",
       "      <th>BBDC3</th>\n",
       "      <th>BBDC4</th>\n",
       "      <th>BEEF3</th>\n",
       "      <th>BHIA3</th>\n",
       "      <th>BPAC11</th>\n",
       "      <th>BRAP4</th>\n",
       "      <th>BRFS3</th>\n",
       "      <th>BRKM5</th>\n",
       "    </tr>\n",
       "  </thead>\n",
       "  <tbody>\n",
       "    <tr>\n",
       "      <th>VALE3</th>\n",
       "      <td>0.000071</td>\n",
       "      <td>-0.000004</td>\n",
       "      <td>0.000055</td>\n",
       "      <td>0.000112</td>\n",
       "      <td>0.000145</td>\n",
       "      <td>-0.000034</td>\n",
       "      <td>0.000020</td>\n",
       "      <td>-0.000069</td>\n",
       "      <td>0.000083</td>\n",
       "      <td>-0.000019</td>\n",
       "      <td>0.000109</td>\n",
       "      <td>-2.578887e-07</td>\n",
       "      <td>-0.000032</td>\n",
       "      <td>-0.000078</td>\n",
       "      <td>-0.000116</td>\n",
       "      <td>0.000023</td>\n",
       "      <td>0.000080</td>\n",
       "      <td>0.000036</td>\n",
       "      <td>-0.000031</td>\n",
       "      <td>-0.000077</td>\n",
       "      <td>-1.737441e-06</td>\n",
       "      <td>-0.000153</td>\n",
       "      <td>0.000025</td>\n",
       "      <td>0.000092</td>\n",
       "    </tr>\n",
       "    <tr>\n",
       "      <th>GGBR4</th>\n",
       "      <td>-0.000004</td>\n",
       "      <td>0.000271</td>\n",
       "      <td>0.000060</td>\n",
       "      <td>0.000468</td>\n",
       "      <td>0.000298</td>\n",
       "      <td>0.000022</td>\n",
       "      <td>-0.000073</td>\n",
       "      <td>-0.000021</td>\n",
       "      <td>-0.000091</td>\n",
       "      <td>0.000260</td>\n",
       "      <td>0.000113</td>\n",
       "      <td>7.763800e-06</td>\n",
       "      <td>-0.000024</td>\n",
       "      <td>0.000081</td>\n",
       "      <td>-0.000466</td>\n",
       "      <td>-0.000022</td>\n",
       "      <td>0.000148</td>\n",
       "      <td>-0.000077</td>\n",
       "      <td>-0.000063</td>\n",
       "      <td>0.000308</td>\n",
       "      <td>3.675214e-05</td>\n",
       "      <td>-0.000261</td>\n",
       "      <td>0.000097</td>\n",
       "      <td>-0.000032</td>\n",
       "    </tr>\n",
       "    <tr>\n",
       "      <th>CPLE6</th>\n",
       "      <td>0.000055</td>\n",
       "      <td>0.000060</td>\n",
       "      <td>0.000080</td>\n",
       "      <td>0.000193</td>\n",
       "      <td>0.000197</td>\n",
       "      <td>-0.000012</td>\n",
       "      <td>-0.000003</td>\n",
       "      <td>-0.000045</td>\n",
       "      <td>0.000037</td>\n",
       "      <td>0.000099</td>\n",
       "      <td>0.000117</td>\n",
       "      <td>3.047686e-05</td>\n",
       "      <td>-0.000010</td>\n",
       "      <td>-0.000143</td>\n",
       "      <td>-0.000296</td>\n",
       "      <td>0.000053</td>\n",
       "      <td>0.000088</td>\n",
       "      <td>0.000015</td>\n",
       "      <td>-0.000041</td>\n",
       "      <td>-0.000016</td>\n",
       "      <td>9.280299e-07</td>\n",
       "      <td>-0.000069</td>\n",
       "      <td>0.000042</td>\n",
       "      <td>0.000147</td>\n",
       "    </tr>\n",
       "    <tr>\n",
       "      <th>BBSE3</th>\n",
       "      <td>0.000112</td>\n",
       "      <td>0.000468</td>\n",
       "      <td>0.000193</td>\n",
       "      <td>0.001008</td>\n",
       "      <td>0.000763</td>\n",
       "      <td>-0.000018</td>\n",
       "      <td>-0.000095</td>\n",
       "      <td>-0.000153</td>\n",
       "      <td>-0.000018</td>\n",
       "      <td>0.000416</td>\n",
       "      <td>0.000380</td>\n",
       "      <td>8.856040e-06</td>\n",
       "      <td>-0.000100</td>\n",
       "      <td>0.000028</td>\n",
       "      <td>-0.000998</td>\n",
       "      <td>-0.000006</td>\n",
       "      <td>0.000395</td>\n",
       "      <td>-0.000076</td>\n",
       "      <td>-0.000162</td>\n",
       "      <td>0.000416</td>\n",
       "      <td>6.251532e-05</td>\n",
       "      <td>-0.000731</td>\n",
       "      <td>0.000211</td>\n",
       "      <td>0.000085</td>\n",
       "    </tr>\n",
       "    <tr>\n",
       "      <th>ITUB4</th>\n",
       "      <td>0.000145</td>\n",
       "      <td>0.000298</td>\n",
       "      <td>0.000197</td>\n",
       "      <td>0.000763</td>\n",
       "      <td>0.000650</td>\n",
       "      <td>-0.000039</td>\n",
       "      <td>-0.000042</td>\n",
       "      <td>-0.000159</td>\n",
       "      <td>0.000067</td>\n",
       "      <td>0.000289</td>\n",
       "      <td>0.000360</td>\n",
       "      <td>2.646122e-05</td>\n",
       "      <td>-0.000082</td>\n",
       "      <td>-0.000134</td>\n",
       "      <td>-0.000833</td>\n",
       "      <td>0.000049</td>\n",
       "      <td>0.000329</td>\n",
       "      <td>-0.000009</td>\n",
       "      <td>-0.000137</td>\n",
       "      <td>0.000171</td>\n",
       "      <td>3.409455e-05</td>\n",
       "      <td>-0.000546</td>\n",
       "      <td>0.000161</td>\n",
       "      <td>0.000208</td>\n",
       "    </tr>\n",
       "  </tbody>\n",
       "</table>\n",
       "</div>"
      ],
      "text/plain": [
       "          VALE3     GGBR4     CPLE6     BBSE3     ITUB4     WEGE3     JBSS3  \\\n",
       "VALE3  0.000071 -0.000004  0.000055  0.000112  0.000145 -0.000034  0.000020   \n",
       "GGBR4 -0.000004  0.000271  0.000060  0.000468  0.000298  0.000022 -0.000073   \n",
       "CPLE6  0.000055  0.000060  0.000080  0.000193  0.000197 -0.000012 -0.000003   \n",
       "BBSE3  0.000112  0.000468  0.000193  0.001008  0.000763 -0.000018 -0.000095   \n",
       "ITUB4  0.000145  0.000298  0.000197  0.000763  0.000650 -0.000039 -0.000042   \n",
       "\n",
       "          PRIO3     MULT3     ITSA4     ABEV3         ALPA4     ARZZ3  \\\n",
       "VALE3 -0.000069  0.000083 -0.000019  0.000109 -2.578887e-07 -0.000032   \n",
       "GGBR4 -0.000021 -0.000091  0.000260  0.000113  7.763800e-06 -0.000024   \n",
       "CPLE6 -0.000045  0.000037  0.000099  0.000117  3.047686e-05 -0.000010   \n",
       "BBSE3 -0.000153 -0.000018  0.000416  0.000380  8.856040e-06 -0.000100   \n",
       "ITUB4 -0.000159  0.000067  0.000289  0.000360  2.646122e-05 -0.000082   \n",
       "\n",
       "          AZUL4     B3SA3     BBAS3     BBDC3     BBDC4     BEEF3     BHIA3  \\\n",
       "VALE3 -0.000078 -0.000116  0.000023  0.000080  0.000036 -0.000031 -0.000077   \n",
       "GGBR4  0.000081 -0.000466 -0.000022  0.000148 -0.000077 -0.000063  0.000308   \n",
       "CPLE6 -0.000143 -0.000296  0.000053  0.000088  0.000015 -0.000041 -0.000016   \n",
       "BBSE3  0.000028 -0.000998 -0.000006  0.000395 -0.000076 -0.000162  0.000416   \n",
       "ITUB4 -0.000134 -0.000833  0.000049  0.000329 -0.000009 -0.000137  0.000171   \n",
       "\n",
       "             BPAC11     BRAP4     BRFS3     BRKM5  \n",
       "VALE3 -1.737441e-06 -0.000153  0.000025  0.000092  \n",
       "GGBR4  3.675214e-05 -0.000261  0.000097 -0.000032  \n",
       "CPLE6  9.280299e-07 -0.000069  0.000042  0.000147  \n",
       "BBSE3  6.251532e-05 -0.000731  0.000211  0.000085  \n",
       "ITUB4  3.409455e-05 -0.000546  0.000161  0.000208  "
      ]
     },
     "execution_count": 14,
     "metadata": {},
     "output_type": "execute_result"
    }
   ],
   "source": [
    "sigma = daily_returns.cov()\n",
    "sigma.head()"
   ]
  },
  {
   "cell_type": "markdown",
   "metadata": {},
   "source": [
    "### Decision Optimization with CPLEX (Community Edition)\n",
    "    "
   ]
  },
  {
   "cell_type": "code",
   "execution_count": 15,
   "metadata": {},
   "outputs": [
    {
     "data": {
      "text/plain": [
       "['VALE3',\n",
       " 'GGBR4',\n",
       " 'CPLE6',\n",
       " 'BBSE3',\n",
       " 'ITUB4',\n",
       " 'WEGE3',\n",
       " 'JBSS3',\n",
       " 'PRIO3',\n",
       " 'MULT3',\n",
       " 'ITSA4',\n",
       " 'ABEV3',\n",
       " 'ALPA4',\n",
       " 'ARZZ3',\n",
       " 'AZUL4',\n",
       " 'B3SA3',\n",
       " 'BBAS3',\n",
       " 'BBDC3',\n",
       " 'BBDC4',\n",
       " 'BEEF3',\n",
       " 'BHIA3',\n",
       " 'BPAC11',\n",
       " 'BRAP4',\n",
       " 'BRFS3',\n",
       " 'BRKM5']"
      ]
     },
     "execution_count": 15,
     "metadata": {},
     "output_type": "execute_result"
    }
   ],
   "source": [
    "keys = list(assets)\n",
    "keys"
   ]
  },
  {
   "cell_type": "code",
   "execution_count": 16,
   "metadata": {},
   "outputs": [],
   "source": [
    "model = Model()\n",
    "x = model.continuous_var_dict(keys, name='asset')"
   ]
  },
  {
   "cell_type": "code",
   "execution_count": 17,
   "metadata": {},
   "outputs": [
    {
     "data": {
      "text/plain": [
       "{'VALE3': docplex.mp.Var(type=C,name='asset_VALE3'),\n",
       " 'GGBR4': docplex.mp.Var(type=C,name='asset_GGBR4'),\n",
       " 'CPLE6': docplex.mp.Var(type=C,name='asset_CPLE6'),\n",
       " 'BBSE3': docplex.mp.Var(type=C,name='asset_BBSE3'),\n",
       " 'ITUB4': docplex.mp.Var(type=C,name='asset_ITUB4'),\n",
       " 'WEGE3': docplex.mp.Var(type=C,name='asset_WEGE3'),\n",
       " 'JBSS3': docplex.mp.Var(type=C,name='asset_JBSS3'),\n",
       " 'PRIO3': docplex.mp.Var(type=C,name='asset_PRIO3'),\n",
       " 'MULT3': docplex.mp.Var(type=C,name='asset_MULT3'),\n",
       " 'ITSA4': docplex.mp.Var(type=C,name='asset_ITSA4'),\n",
       " 'ABEV3': docplex.mp.Var(type=C,name='asset_ABEV3'),\n",
       " 'ALPA4': docplex.mp.Var(type=C,name='asset_ALPA4'),\n",
       " 'ARZZ3': docplex.mp.Var(type=C,name='asset_ARZZ3'),\n",
       " 'AZUL4': docplex.mp.Var(type=C,name='asset_AZUL4'),\n",
       " 'B3SA3': docplex.mp.Var(type=C,name='asset_B3SA3'),\n",
       " 'BBAS3': docplex.mp.Var(type=C,name='asset_BBAS3'),\n",
       " 'BBDC3': docplex.mp.Var(type=C,name='asset_BBDC3'),\n",
       " 'BBDC4': docplex.mp.Var(type=C,name='asset_BBDC4'),\n",
       " 'BEEF3': docplex.mp.Var(type=C,name='asset_BEEF3'),\n",
       " 'BHIA3': docplex.mp.Var(type=C,name='asset_BHIA3'),\n",
       " 'BPAC11': docplex.mp.Var(type=C,name='asset_BPAC11'),\n",
       " 'BRAP4': docplex.mp.Var(type=C,name='asset_BRAP4'),\n",
       " 'BRFS3': docplex.mp.Var(type=C,name='asset_BRFS3'),\n",
       " 'BRKM5': docplex.mp.Var(type=C,name='asset_BRKM5')}"
      ]
     },
     "execution_count": 17,
     "metadata": {},
     "output_type": "execute_result"
    }
   ],
   "source": [
    "x"
   ]
  },
  {
   "cell_type": "code",
   "execution_count": 18,
   "metadata": {},
   "outputs": [
    {
     "data": {
      "text/plain": [
       "{'VALE3': -0.003077701690250928,\n",
       " 'GGBR4': 0.004504427255260346,\n",
       " 'CPLE6': -0.0075103988333856675,\n",
       " 'BBSE3': -0.007712694179073415,\n",
       " 'ITUB4': -0.0022921853742213505,\n",
       " 'WEGE3': -0.007980388327582827,\n",
       " 'JBSS3': -0.013366245543829508,\n",
       " 'PRIO3': -0.012500006614838965,\n",
       " 'MULT3': 0.0012859661485736251,\n",
       " 'ITSA4': 0.020449111195259495,\n",
       " 'ABEV3': -0.00269560805932742,\n",
       " 'ALPA4': -0.0008541954291993725,\n",
       " 'ARZZ3': 0.0058170402605026705,\n",
       " 'AZUL4': 0.004562803873312954,\n",
       " 'B3SA3': 0.03012265595569219,\n",
       " 'BBAS3': -0.002133261419818566,\n",
       " 'BBDC3': 0.0002929708381170515,\n",
       " 'BBDC4': -0.011534856443447233,\n",
       " 'BEEF3': -0.01624918647878093,\n",
       " 'BHIA3': 0.007196852779015134,\n",
       " 'BPAC11': 0.0012627425710689533,\n",
       " 'BRAP4': 0.01480910687830439,\n",
       " 'BRFS3': -0.0014285092363048313,\n",
       " 'BRKM5': -0.009970353825081213}"
      ]
     },
     "execution_count": 18,
     "metadata": {},
     "output_type": "execute_result"
    }
   ],
   "source": [
    "mu.to_dict()"
   ]
  },
  {
   "cell_type": "code",
   "execution_count": 19,
   "metadata": {},
   "outputs": [],
   "source": [
    "c1 = model.add_constraint(model.sum(x[i] for i in keys) == 1) \n",
    "c2 = model.add_constraints(x[i] <= 0.20 for i in keys) \n",
    "c3 = model.add_constraints(x[i] >= 0.01 for i in keys)\n",
    "c4 = model.add_constraint(model.sum(x[i] * mu.to_dict()[i] for i in keys) >= .01)"
   ]
  },
  {
   "cell_type": "code",
   "execution_count": 20,
   "metadata": {},
   "outputs": [],
   "source": [
    "# c1, c2, c3, c4"
   ]
  },
  {
   "cell_type": "code",
   "execution_count": 21,
   "metadata": {},
   "outputs": [],
   "source": [
    "variance = model.sum(float(sigma[i][j]) * x[i] * x[j] for i in sigma.index for j in sigma.index)\n",
    "model.minimize(variance)"
   ]
  },
  {
   "cell_type": "code",
   "execution_count": 22,
   "metadata": {},
   "outputs": [
    {
     "name": "stdout",
     "output_type": "stream",
     "text": [
      "Version identifier: 22.1.0.0 | 2022-03-25 | 54982fbec\n",
      "CPXPARAM_Read_DataCheck                          1\n",
      "Number of nonzeros in lower triangle of Q = 276\n",
      "Using Approximate Minimum Degree ordering\n",
      "Total time for automatic ordering = 0.00 sec. (0.01 ticks)\n",
      "Summary statistics for factor of Q:\n",
      "  Rows in Factor            = 24\n",
      "  Integer space required    = 24\n",
      "  Total non-zeros in factor = 300\n",
      "  Total FP ops to factor    = 4900\n",
      "Tried aggregator 1 time.\n",
      "QP Presolve eliminated 69 rows and 21 columns.\n",
      "QP Presolve added 0 rows and 24 columns.\n",
      "Reduced QP has 5 rows, 27 columns, and 120 nonzeros.\n",
      "Reduced QP objective Q matrix has 3 nonzeros.\n",
      "Presolve time = 0.02 sec. (0.05 ticks)\n",
      "Parallel mode: using up to 16 threads for barrier.\n",
      "Number of nonzeros in lower triangle of A*A' = 10\n",
      "Using Approximate Minimum Degree ordering\n",
      "Total time for automatic ordering = 0.00 sec. (0.00 ticks)\n",
      "Summary statistics for Cholesky factor:\n",
      "  Threads                   = 16\n",
      "  Rows in Factor            = 5\n",
      "  Integer space required    = 5\n",
      "  Total non-zeros in factor = 15\n",
      "  Total FP ops to factor    = 55\n",
      " Itn      Primal Obj        Dual Obj  Prim Inf Upper Inf  Dual Inf          \n",
      "   0   4.1359337e-06  -4.5600000e+03  2.54e+02  4.75e+02  1.00e+03\n",
      "   1   8.2742093e-04  -4.3066246e+03  1.55e+01  2.89e+01  6.09e+01\n",
      "   2   2.0969598e-05  -2.8627544e+03  2.37e-01  4.42e-01  9.31e-01\n",
      "   3   2.0440668e-05  -1.9213248e+02  1.18e-02  2.21e-02  4.65e-02\n",
      "   4   2.0677332e-05  -1.1029544e+00  6.10e-05  1.14e-04  2.40e-04\n",
      "   5   2.0736045e-05  -2.2488838e-02  1.13e-16  1.85e-16  4.50e-15\n",
      "   6   2.0327618e-05  -4.3905476e-04  1.71e-16  2.31e-16  9.72e-17\n",
      "   7   1.1751466e-05  -6.0368162e-05  2.28e-16  1.35e-16  1.24e-17\n",
      "   8   1.5701594e-06  -1.3578645e-05  4.47e-16  1.42e-16  1.69e-18\n",
      "   9   1.1805341e-07  -1.3597275e-06  2.63e-16  1.74e-16  1.97e-19\n",
      "  10   1.2256106e-09  -9.2058719e-08  8.61e-16  1.98e-16  4.65e-20\n",
      "  11   2.1559089e-13  -1.9964387e-09  1.31e-15  2.50e-16  3.29e-21\n",
      "Barrier time = 0.02 sec. (0.16 ticks)\n",
      "\n",
      "Total time on 16 threads = 0.02 sec. (0.16 ticks)\n"
     ]
    }
   ],
   "source": [
    "solution = model.solve(log_output=True)"
   ]
  },
  {
   "cell_type": "code",
   "execution_count": 23,
   "metadata": {},
   "outputs": [
    {
     "name": "stdout",
     "output_type": "stream",
     "text": [
      "objective: 0.000\n",
      "status: OPTIMAL_SOLUTION(2)\n",
      "  asset_VALE3=0.014\n",
      "  asset_GGBR4=0.016\n",
      "  asset_CPLE6=0.011\n",
      "  asset_BBSE3=0.011\n",
      "  asset_ITUB4=0.165\n",
      "  asset_WEGE3=0.011\n",
      "  asset_JBSS3=0.010\n",
      "  asset_PRIO3=0.010\n",
      "  asset_MULT3=0.109\n",
      "  asset_ITSA4=0.194\n",
      "  asset_ABEV3=0.016\n",
      "  asset_ALPA4=0.014\n",
      "  asset_ARZZ3=0.024\n",
      "  asset_AZUL4=0.017\n",
      "  asset_B3SA3=0.199\n",
      "  asset_BBAS3=0.013\n",
      "  asset_BBDC3=0.021\n",
      "  asset_BBDC4=0.011\n",
      "  asset_BEEF3=0.010\n",
      "  asset_BHIA3=0.017\n",
      "  asset_BPAC11=0.016\n",
      "  asset_BRAP4=0.063\n",
      "  asset_BRFS3=0.014\n",
      "  asset_BRKM5=0.011\n"
     ]
    }
   ],
   "source": [
    "model.print_solution()"
   ]
  },
  {
   "cell_type": "code",
   "execution_count": 24,
   "metadata": {},
   "outputs": [
    {
     "name": "stdout",
     "output_type": "stream",
     "text": [
      "VALE3 - 0.014280660110468352\n",
      "GGBR4 - 0.016124165342481334\n",
      "CPLE6 - 0.011486730464761194\n",
      "BBSE3 - 0.010958217157922044\n",
      "ITUB4 - 0.16527385566406433\n",
      "WEGE3 - 0.011134729079849607\n",
      "JBSS3 - 0.010481883637324356\n",
      "PRIO3 - 0.010477003642375188\n",
      "MULT3 - 0.10926684197493314\n",
      "ITSA4 - 0.19371716472358408\n",
      "ABEV3 - 0.016070530101618814\n",
      "ALPA4 - 0.014117098203111904\n",
      "ARZZ3 - 0.023985441398626177\n",
      "AZUL4 - 0.0166244587843351\n",
      "B3SA3 - 0.1993794571051403\n",
      "BBAS3 - 0.01348812958684708\n",
      "BBDC3 - 0.020538649926454194\n",
      "BBDC4 - 0.010711515655371623\n",
      "BEEF3 - 0.010262073300551762\n",
      "BHIA3 - 0.017361833244866013\n",
      "BPAC11 - 0.01605085130727069\n",
      "BRAP4 - 0.06314603217565976\n",
      "BRFS3 - 0.014032276661424987\n",
      "BRKM5 - 0.011030400750957394\n"
     ]
    }
   ],
   "source": [
    "solution_dict = {}\n",
    "for i in keys:\n",
    "   solution_dict[i] = x[i].solution_value\n",
    "   print(f\"{i} - {x[i].solution_value}\")"
   ]
  },
  {
   "cell_type": "code",
   "execution_count": 25,
   "metadata": {},
   "outputs": [
    {
     "data": {
      "text/plain": [
       "{'VALE3': 0.014280660110468352,\n",
       " 'GGBR4': 0.016124165342481334,\n",
       " 'CPLE6': 0.011486730464761194,\n",
       " 'BBSE3': 0.010958217157922044,\n",
       " 'ITUB4': 0.16527385566406433,\n",
       " 'WEGE3': 0.011134729079849607,\n",
       " 'JBSS3': 0.010481883637324356,\n",
       " 'PRIO3': 0.010477003642375188,\n",
       " 'MULT3': 0.10926684197493314,\n",
       " 'ITSA4': 0.19371716472358408,\n",
       " 'ABEV3': 0.016070530101618814,\n",
       " 'ALPA4': 0.014117098203111904,\n",
       " 'ARZZ3': 0.023985441398626177,\n",
       " 'AZUL4': 0.0166244587843351,\n",
       " 'B3SA3': 0.1993794571051403,\n",
       " 'BBAS3': 0.01348812958684708,\n",
       " 'BBDC3': 0.020538649926454194,\n",
       " 'BBDC4': 0.010711515655371623,\n",
       " 'BEEF3': 0.010262073300551762,\n",
       " 'BHIA3': 0.017361833244866013,\n",
       " 'BPAC11': 0.01605085130727069,\n",
       " 'BRAP4': 0.06314603217565976,\n",
       " 'BRFS3': 0.014032276661424987,\n",
       " 'BRKM5': 0.011030400750957394}"
      ]
     },
     "execution_count": 25,
     "metadata": {},
     "output_type": "execute_result"
    }
   ],
   "source": [
    "solution_dict"
   ]
  },
  {
   "cell_type": "code",
   "execution_count": 26,
   "metadata": {},
   "outputs": [
    {
     "name": "stdout",
     "output_type": "stream",
     "text": [
      "* model docplex_model1 solved with objective = 0.000\n"
     ]
    }
   ],
   "source": [
    "model.report()"
   ]
  },
  {
   "cell_type": "code",
   "execution_count": 27,
   "metadata": {},
   "outputs": [
    {
     "data": {
      "text/plain": [
       "0.010049784806436498"
      ]
     },
     "execution_count": 27,
     "metadata": {},
     "output_type": "execute_result"
    }
   ],
   "source": [
    "total_return = 0\n",
    "for i in keys:\n",
    "    total_return += x[i].solution_value * mu[i]\n",
    "\n",
    "total_return"
   ]
  },
  {
   "cell_type": "code",
   "execution_count": 28,
   "metadata": {},
   "outputs": [
    {
     "name": "stdout",
     "output_type": "stream",
     "text": [
      "Variância encontrada pela função objetivo: 2.155908868875697e-13\n",
      "Retorno total: 0.010049784806436498\n"
     ]
    }
   ],
   "source": [
    "print(f'Variância encontrada pela função objetivo: {model.objective_value}')\n",
    "print(f'Retorno total: {total_return}')"
   ]
  },
  {
   "cell_type": "code",
   "execution_count": 29,
   "metadata": {},
   "outputs": [
    {
     "data": {
      "text/plain": [
       "VALE3    0.008456\n",
       "GGBR4    0.016271\n",
       "CPLE6    0.008960\n",
       "BBSE3    0.031756\n",
       "ITUB4    0.025258\n",
       "dtype: float64"
      ]
     },
     "execution_count": 29,
     "metadata": {},
     "output_type": "execute_result"
    }
   ],
   "source": [
    "delta = mu\n",
    "std = daily_returns.std()\n",
    "std.head()"
   ]
  },
  {
   "cell_type": "code",
   "execution_count": 30,
   "metadata": {},
   "outputs": [
    {
     "data": {
      "text/plain": [
       "-0.016233973357476783"
      ]
     },
     "execution_count": 30,
     "metadata": {},
     "output_type": "execute_result"
    }
   ],
   "source": [
    "mu.min()"
   ]
  },
  {
   "cell_type": "markdown",
   "metadata": {},
   "source": [
    "### Test OOS"
   ]
  },
  {
   "cell_type": "code",
   "execution_count": 31,
   "metadata": {},
   "outputs": [
    {
     "data": {
      "text/plain": [
       "(273, 24)"
      ]
     },
     "execution_count": 31,
     "metadata": {},
     "output_type": "execute_result"
    }
   ],
   "source": [
    "oos.shape"
   ]
  },
  {
   "cell_type": "code",
   "execution_count": 32,
   "metadata": {},
   "outputs": [
    {
     "data": {
      "text/html": [
       "<div>\n",
       "<style scoped>\n",
       "    .dataframe tbody tr th:only-of-type {\n",
       "        vertical-align: middle;\n",
       "    }\n",
       "\n",
       "    .dataframe tbody tr th {\n",
       "        vertical-align: top;\n",
       "    }\n",
       "\n",
       "    .dataframe thead th {\n",
       "        text-align: right;\n",
       "    }\n",
       "</style>\n",
       "<table border=\"1\" class=\"dataframe\">\n",
       "  <thead>\n",
       "    <tr style=\"text-align: right;\">\n",
       "      <th></th>\n",
       "      <th>VALE3</th>\n",
       "      <th>GGBR4</th>\n",
       "      <th>CPLE6</th>\n",
       "      <th>BBSE3</th>\n",
       "      <th>ITUB4</th>\n",
       "      <th>WEGE3</th>\n",
       "      <th>JBSS3</th>\n",
       "      <th>PRIO3</th>\n",
       "      <th>MULT3</th>\n",
       "      <th>ITSA4</th>\n",
       "      <th>ABEV3</th>\n",
       "      <th>ALPA4</th>\n",
       "      <th>ARZZ3</th>\n",
       "      <th>AZUL4</th>\n",
       "      <th>B3SA3</th>\n",
       "      <th>BBAS3</th>\n",
       "      <th>BBDC3</th>\n",
       "      <th>BBDC4</th>\n",
       "      <th>BEEF3</th>\n",
       "      <th>BHIA3</th>\n",
       "      <th>BPAC11</th>\n",
       "      <th>BRAP4</th>\n",
       "      <th>BRFS3</th>\n",
       "      <th>BRKM5</th>\n",
       "    </tr>\n",
       "    <tr>\n",
       "      <th>Date</th>\n",
       "      <th></th>\n",
       "      <th></th>\n",
       "      <th></th>\n",
       "      <th></th>\n",
       "      <th></th>\n",
       "      <th></th>\n",
       "      <th></th>\n",
       "      <th></th>\n",
       "      <th></th>\n",
       "      <th></th>\n",
       "      <th></th>\n",
       "      <th></th>\n",
       "      <th></th>\n",
       "      <th></th>\n",
       "      <th></th>\n",
       "      <th></th>\n",
       "      <th></th>\n",
       "      <th></th>\n",
       "      <th></th>\n",
       "      <th></th>\n",
       "      <th></th>\n",
       "      <th></th>\n",
       "      <th></th>\n",
       "      <th></th>\n",
       "    </tr>\n",
       "  </thead>\n",
       "  <tbody>\n",
       "    <tr>\n",
       "      <th>2023-01-02</th>\n",
       "      <td>13.49</td>\n",
       "      <td>14.33</td>\n",
       "      <td>71.98</td>\n",
       "      <td>10.30</td>\n",
       "      <td>11.86</td>\n",
       "      <td>30.70</td>\n",
       "      <td>11.93</td>\n",
       "      <td>13.37</td>\n",
       "      <td>30.11</td>\n",
       "      <td>11.98</td>\n",
       "      <td>50.53</td>\n",
       "      <td>21.73</td>\n",
       "      <td>26.41</td>\n",
       "      <td>7.96</td>\n",
       "      <td>23.22</td>\n",
       "      <td>7.35</td>\n",
       "      <td>25.76</td>\n",
       "      <td>7.42</td>\n",
       "      <td>23.38</td>\n",
       "      <td>20.31</td>\n",
       "      <td>19.93</td>\n",
       "      <td>36.70</td>\n",
       "      <td>84.08</td>\n",
       "      <td>37.49</td>\n",
       "    </tr>\n",
       "    <tr>\n",
       "      <th>2023-01-03</th>\n",
       "      <td>13.47</td>\n",
       "      <td>13.40</td>\n",
       "      <td>69.74</td>\n",
       "      <td>10.16</td>\n",
       "      <td>11.46</td>\n",
       "      <td>30.12</td>\n",
       "      <td>11.37</td>\n",
       "      <td>12.70</td>\n",
       "      <td>29.17</td>\n",
       "      <td>11.64</td>\n",
       "      <td>48.12</td>\n",
       "      <td>20.69</td>\n",
       "      <td>26.21</td>\n",
       "      <td>7.56</td>\n",
       "      <td>22.46</td>\n",
       "      <td>7.22</td>\n",
       "      <td>25.81</td>\n",
       "      <td>7.23</td>\n",
       "      <td>22.89</td>\n",
       "      <td>19.87</td>\n",
       "      <td>19.29</td>\n",
       "      <td>34.24</td>\n",
       "      <td>83.93</td>\n",
       "      <td>36.56</td>\n",
       "    </tr>\n",
       "    <tr>\n",
       "      <th>2023-01-04</th>\n",
       "      <td>13.54</td>\n",
       "      <td>13.49</td>\n",
       "      <td>71.34</td>\n",
       "      <td>10.56</td>\n",
       "      <td>11.55</td>\n",
       "      <td>30.51</td>\n",
       "      <td>11.47</td>\n",
       "      <td>12.74</td>\n",
       "      <td>29.32</td>\n",
       "      <td>12.08</td>\n",
       "      <td>49.87</td>\n",
       "      <td>21.35</td>\n",
       "      <td>26.46</td>\n",
       "      <td>7.71</td>\n",
       "      <td>22.41</td>\n",
       "      <td>7.42</td>\n",
       "      <td>25.69</td>\n",
       "      <td>7.29</td>\n",
       "      <td>22.96</td>\n",
       "      <td>20.17</td>\n",
       "      <td>19.62</td>\n",
       "      <td>34.04</td>\n",
       "      <td>84.08</td>\n",
       "      <td>36.80</td>\n",
       "    </tr>\n",
       "    <tr>\n",
       "      <th>2023-01-05</th>\n",
       "      <td>13.58</td>\n",
       "      <td>13.86</td>\n",
       "      <td>72.19</td>\n",
       "      <td>11.55</td>\n",
       "      <td>11.90</td>\n",
       "      <td>31.90</td>\n",
       "      <td>11.84</td>\n",
       "      <td>13.29</td>\n",
       "      <td>29.38</td>\n",
       "      <td>12.33</td>\n",
       "      <td>51.18</td>\n",
       "      <td>22.21</td>\n",
       "      <td>27.12</td>\n",
       "      <td>8.38</td>\n",
       "      <td>23.09</td>\n",
       "      <td>7.36</td>\n",
       "      <td>26.32</td>\n",
       "      <td>7.40</td>\n",
       "      <td>23.67</td>\n",
       "      <td>20.92</td>\n",
       "      <td>20.14</td>\n",
       "      <td>34.91</td>\n",
       "      <td>85.49</td>\n",
       "      <td>36.88</td>\n",
       "    </tr>\n",
       "    <tr>\n",
       "      <th>2023-01-06</th>\n",
       "      <td>13.61</td>\n",
       "      <td>13.87</td>\n",
       "      <td>73.61</td>\n",
       "      <td>11.84</td>\n",
       "      <td>12.19</td>\n",
       "      <td>32.35</td>\n",
       "      <td>12.15</td>\n",
       "      <td>13.67</td>\n",
       "      <td>30.24</td>\n",
       "      <td>12.51</td>\n",
       "      <td>52.71</td>\n",
       "      <td>22.34</td>\n",
       "      <td>27.21</td>\n",
       "      <td>8.64</td>\n",
       "      <td>23.23</td>\n",
       "      <td>7.26</td>\n",
       "      <td>26.52</td>\n",
       "      <td>7.52</td>\n",
       "      <td>24.08</td>\n",
       "      <td>21.03</td>\n",
       "      <td>20.68</td>\n",
       "      <td>35.12</td>\n",
       "      <td>86.85</td>\n",
       "      <td>37.42</td>\n",
       "    </tr>\n",
       "    <tr>\n",
       "      <th>2023-01-09</th>\n",
       "      <td>13.68</td>\n",
       "      <td>14.22</td>\n",
       "      <td>72.86</td>\n",
       "      <td>12.00</td>\n",
       "      <td>12.02</td>\n",
       "      <td>32.03</td>\n",
       "      <td>12.18</td>\n",
       "      <td>13.84</td>\n",
       "      <td>30.38</td>\n",
       "      <td>12.59</td>\n",
       "      <td>53.15</td>\n",
       "      <td>22.13</td>\n",
       "      <td>27.55</td>\n",
       "      <td>8.69</td>\n",
       "      <td>23.39</td>\n",
       "      <td>7.19</td>\n",
       "      <td>27.06</td>\n",
       "      <td>7.58</td>\n",
       "      <td>24.25</td>\n",
       "      <td>21.66</td>\n",
       "      <td>20.42</td>\n",
       "      <td>35.95</td>\n",
       "      <td>86.94</td>\n",
       "      <td>37.31</td>\n",
       "    </tr>\n",
       "    <tr>\n",
       "      <th>2023-01-10</th>\n",
       "      <td>13.82</td>\n",
       "      <td>14.78</td>\n",
       "      <td>74.84</td>\n",
       "      <td>12.34</td>\n",
       "      <td>12.45</td>\n",
       "      <td>32.58</td>\n",
       "      <td>12.44</td>\n",
       "      <td>14.25</td>\n",
       "      <td>30.84</td>\n",
       "      <td>12.68</td>\n",
       "      <td>56.65</td>\n",
       "      <td>23.32</td>\n",
       "      <td>28.12</td>\n",
       "      <td>9.06</td>\n",
       "      <td>23.05</td>\n",
       "      <td>7.16</td>\n",
       "      <td>27.81</td>\n",
       "      <td>7.74</td>\n",
       "      <td>24.72</td>\n",
       "      <td>21.44</td>\n",
       "      <td>21.04</td>\n",
       "      <td>36.15</td>\n",
       "      <td>88.01</td>\n",
       "      <td>36.95</td>\n",
       "    </tr>\n",
       "  </tbody>\n",
       "</table>\n",
       "</div>"
      ],
      "text/plain": [
       "            VALE3  GGBR4  CPLE6  BBSE3  ITUB4  WEGE3  JBSS3  PRIO3  MULT3  \\\n",
       "Date                                                                        \n",
       "2023-01-02  13.49  14.33  71.98  10.30  11.86  30.70  11.93  13.37  30.11   \n",
       "2023-01-03  13.47  13.40  69.74  10.16  11.46  30.12  11.37  12.70  29.17   \n",
       "2023-01-04  13.54  13.49  71.34  10.56  11.55  30.51  11.47  12.74  29.32   \n",
       "2023-01-05  13.58  13.86  72.19  11.55  11.90  31.90  11.84  13.29  29.38   \n",
       "2023-01-06  13.61  13.87  73.61  11.84  12.19  32.35  12.15  13.67  30.24   \n",
       "2023-01-09  13.68  14.22  72.86  12.00  12.02  32.03  12.18  13.84  30.38   \n",
       "2023-01-10  13.82  14.78  74.84  12.34  12.45  32.58  12.44  14.25  30.84   \n",
       "\n",
       "            ITSA4  ABEV3  ALPA4  ARZZ3  AZUL4  B3SA3  BBAS3  BBDC3  BBDC4  \\\n",
       "Date                                                                        \n",
       "2023-01-02  11.98  50.53  21.73  26.41   7.96  23.22   7.35  25.76   7.42   \n",
       "2023-01-03  11.64  48.12  20.69  26.21   7.56  22.46   7.22  25.81   7.23   \n",
       "2023-01-04  12.08  49.87  21.35  26.46   7.71  22.41   7.42  25.69   7.29   \n",
       "2023-01-05  12.33  51.18  22.21  27.12   8.38  23.09   7.36  26.32   7.40   \n",
       "2023-01-06  12.51  52.71  22.34  27.21   8.64  23.23   7.26  26.52   7.52   \n",
       "2023-01-09  12.59  53.15  22.13  27.55   8.69  23.39   7.19  27.06   7.58   \n",
       "2023-01-10  12.68  56.65  23.32  28.12   9.06  23.05   7.16  27.81   7.74   \n",
       "\n",
       "            BEEF3  BHIA3  BPAC11  BRAP4  BRFS3  BRKM5  \n",
       "Date                                                   \n",
       "2023-01-02  23.38  20.31   19.93  36.70  84.08  37.49  \n",
       "2023-01-03  22.89  19.87   19.29  34.24  83.93  36.56  \n",
       "2023-01-04  22.96  20.17   19.62  34.04  84.08  36.80  \n",
       "2023-01-05  23.67  20.92   20.14  34.91  85.49  36.88  \n",
       "2023-01-06  24.08  21.03   20.68  35.12  86.85  37.42  \n",
       "2023-01-09  24.25  21.66   20.42  35.95  86.94  37.31  \n",
       "2023-01-10  24.72  21.44   21.04  36.15  88.01  36.95  "
      ]
     },
     "execution_count": 32,
     "metadata": {},
     "output_type": "execute_result"
    }
   ],
   "source": [
    "oos.head(7)"
   ]
  },
  {
   "cell_type": "code",
   "execution_count": 33,
   "metadata": {},
   "outputs": [
    {
     "name": "stdout",
     "output_type": "stream",
     "text": [
      "(272, 24)\n"
     ]
    },
    {
     "data": {
      "text/html": [
       "<div>\n",
       "<style scoped>\n",
       "    .dataframe tbody tr th:only-of-type {\n",
       "        vertical-align: middle;\n",
       "    }\n",
       "\n",
       "    .dataframe tbody tr th {\n",
       "        vertical-align: top;\n",
       "    }\n",
       "\n",
       "    .dataframe thead th {\n",
       "        text-align: right;\n",
       "    }\n",
       "</style>\n",
       "<table border=\"1\" class=\"dataframe\">\n",
       "  <thead>\n",
       "    <tr style=\"text-align: right;\">\n",
       "      <th></th>\n",
       "      <th>VALE3</th>\n",
       "      <th>GGBR4</th>\n",
       "      <th>CPLE6</th>\n",
       "      <th>BBSE3</th>\n",
       "      <th>ITUB4</th>\n",
       "      <th>WEGE3</th>\n",
       "      <th>JBSS3</th>\n",
       "      <th>PRIO3</th>\n",
       "      <th>MULT3</th>\n",
       "      <th>ITSA4</th>\n",
       "      <th>ABEV3</th>\n",
       "      <th>ALPA4</th>\n",
       "      <th>ARZZ3</th>\n",
       "      <th>AZUL4</th>\n",
       "      <th>B3SA3</th>\n",
       "      <th>BBAS3</th>\n",
       "      <th>BBDC3</th>\n",
       "      <th>BBDC4</th>\n",
       "      <th>BEEF3</th>\n",
       "      <th>BHIA3</th>\n",
       "      <th>BPAC11</th>\n",
       "      <th>BRAP4</th>\n",
       "      <th>BRFS3</th>\n",
       "      <th>BRKM5</th>\n",
       "    </tr>\n",
       "    <tr>\n",
       "      <th>Date</th>\n",
       "      <th></th>\n",
       "      <th></th>\n",
       "      <th></th>\n",
       "      <th></th>\n",
       "      <th></th>\n",
       "      <th></th>\n",
       "      <th></th>\n",
       "      <th></th>\n",
       "      <th></th>\n",
       "      <th></th>\n",
       "      <th></th>\n",
       "      <th></th>\n",
       "      <th></th>\n",
       "      <th></th>\n",
       "      <th></th>\n",
       "      <th></th>\n",
       "      <th></th>\n",
       "      <th></th>\n",
       "      <th></th>\n",
       "      <th></th>\n",
       "      <th></th>\n",
       "      <th></th>\n",
       "      <th></th>\n",
       "      <th></th>\n",
       "    </tr>\n",
       "  </thead>\n",
       "  <tbody>\n",
       "    <tr>\n",
       "      <th>2023-01-03</th>\n",
       "      <td>-0.001483</td>\n",
       "      <td>-0.064899</td>\n",
       "      <td>-0.031120</td>\n",
       "      <td>-0.013592</td>\n",
       "      <td>-0.033727</td>\n",
       "      <td>-0.018893</td>\n",
       "      <td>-0.046940</td>\n",
       "      <td>-0.050112</td>\n",
       "      <td>-0.031219</td>\n",
       "      <td>-0.028381</td>\n",
       "      <td>-0.047694</td>\n",
       "      <td>-0.047860</td>\n",
       "      <td>-0.007573</td>\n",
       "      <td>-0.050251</td>\n",
       "      <td>-0.032730</td>\n",
       "      <td>-0.017687</td>\n",
       "      <td>0.001941</td>\n",
       "      <td>-0.025606</td>\n",
       "      <td>-0.020958</td>\n",
       "      <td>-0.021664</td>\n",
       "      <td>-0.032112</td>\n",
       "      <td>-0.067030</td>\n",
       "      <td>-0.001784</td>\n",
       "      <td>-0.024807</td>\n",
       "    </tr>\n",
       "    <tr>\n",
       "      <th>2023-01-04</th>\n",
       "      <td>0.005197</td>\n",
       "      <td>0.006716</td>\n",
       "      <td>0.022942</td>\n",
       "      <td>0.039370</td>\n",
       "      <td>0.007853</td>\n",
       "      <td>0.012948</td>\n",
       "      <td>0.008795</td>\n",
       "      <td>0.003150</td>\n",
       "      <td>0.005142</td>\n",
       "      <td>0.037801</td>\n",
       "      <td>0.036367</td>\n",
       "      <td>0.031899</td>\n",
       "      <td>0.009538</td>\n",
       "      <td>0.019841</td>\n",
       "      <td>-0.002226</td>\n",
       "      <td>0.027701</td>\n",
       "      <td>-0.004649</td>\n",
       "      <td>0.008299</td>\n",
       "      <td>0.003058</td>\n",
       "      <td>0.015098</td>\n",
       "      <td>0.017107</td>\n",
       "      <td>-0.005841</td>\n",
       "      <td>0.001787</td>\n",
       "      <td>0.006565</td>\n",
       "    </tr>\n",
       "    <tr>\n",
       "      <th>2023-01-05</th>\n",
       "      <td>0.002954</td>\n",
       "      <td>0.027428</td>\n",
       "      <td>0.011915</td>\n",
       "      <td>0.093750</td>\n",
       "      <td>0.030303</td>\n",
       "      <td>0.045559</td>\n",
       "      <td>0.032258</td>\n",
       "      <td>0.043171</td>\n",
       "      <td>0.002046</td>\n",
       "      <td>0.020695</td>\n",
       "      <td>0.026268</td>\n",
       "      <td>0.040281</td>\n",
       "      <td>0.024943</td>\n",
       "      <td>0.086900</td>\n",
       "      <td>0.030344</td>\n",
       "      <td>-0.008086</td>\n",
       "      <td>0.024523</td>\n",
       "      <td>0.015089</td>\n",
       "      <td>0.030923</td>\n",
       "      <td>0.037184</td>\n",
       "      <td>0.026504</td>\n",
       "      <td>0.025558</td>\n",
       "      <td>0.016770</td>\n",
       "      <td>0.002174</td>\n",
       "    </tr>\n",
       "    <tr>\n",
       "      <th>2023-01-06</th>\n",
       "      <td>0.002209</td>\n",
       "      <td>0.000722</td>\n",
       "      <td>0.019670</td>\n",
       "      <td>0.025108</td>\n",
       "      <td>0.024370</td>\n",
       "      <td>0.014107</td>\n",
       "      <td>0.026182</td>\n",
       "      <td>0.028593</td>\n",
       "      <td>0.029272</td>\n",
       "      <td>0.014599</td>\n",
       "      <td>0.029894</td>\n",
       "      <td>0.005853</td>\n",
       "      <td>0.003319</td>\n",
       "      <td>0.031026</td>\n",
       "      <td>0.006063</td>\n",
       "      <td>-0.013587</td>\n",
       "      <td>0.007599</td>\n",
       "      <td>0.016216</td>\n",
       "      <td>0.017322</td>\n",
       "      <td>0.005258</td>\n",
       "      <td>0.026812</td>\n",
       "      <td>0.006015</td>\n",
       "      <td>0.015908</td>\n",
       "      <td>0.014642</td>\n",
       "    </tr>\n",
       "    <tr>\n",
       "      <th>2023-01-09</th>\n",
       "      <td>0.005143</td>\n",
       "      <td>0.025234</td>\n",
       "      <td>-0.010189</td>\n",
       "      <td>0.013514</td>\n",
       "      <td>-0.013946</td>\n",
       "      <td>-0.009892</td>\n",
       "      <td>0.002469</td>\n",
       "      <td>0.012436</td>\n",
       "      <td>0.004630</td>\n",
       "      <td>0.006395</td>\n",
       "      <td>0.008348</td>\n",
       "      <td>-0.009400</td>\n",
       "      <td>0.012495</td>\n",
       "      <td>0.005787</td>\n",
       "      <td>0.006888</td>\n",
       "      <td>-0.009642</td>\n",
       "      <td>0.020362</td>\n",
       "      <td>0.007979</td>\n",
       "      <td>0.007060</td>\n",
       "      <td>0.029957</td>\n",
       "      <td>-0.012573</td>\n",
       "      <td>0.023633</td>\n",
       "      <td>0.001036</td>\n",
       "      <td>-0.002940</td>\n",
       "    </tr>\n",
       "    <tr>\n",
       "      <th>2023-01-10</th>\n",
       "      <td>0.010234</td>\n",
       "      <td>0.039381</td>\n",
       "      <td>0.027175</td>\n",
       "      <td>0.028333</td>\n",
       "      <td>0.035774</td>\n",
       "      <td>0.017171</td>\n",
       "      <td>0.021346</td>\n",
       "      <td>0.029624</td>\n",
       "      <td>0.015142</td>\n",
       "      <td>0.007149</td>\n",
       "      <td>0.065851</td>\n",
       "      <td>0.053773</td>\n",
       "      <td>0.020690</td>\n",
       "      <td>0.042578</td>\n",
       "      <td>-0.014536</td>\n",
       "      <td>-0.004172</td>\n",
       "      <td>0.027716</td>\n",
       "      <td>0.021108</td>\n",
       "      <td>0.019381</td>\n",
       "      <td>-0.010157</td>\n",
       "      <td>0.030362</td>\n",
       "      <td>0.005563</td>\n",
       "      <td>0.012307</td>\n",
       "      <td>-0.009649</td>\n",
       "    </tr>\n",
       "    <tr>\n",
       "      <th>2023-01-11</th>\n",
       "      <td>-0.017366</td>\n",
       "      <td>0.023681</td>\n",
       "      <td>0.025120</td>\n",
       "      <td>0.000810</td>\n",
       "      <td>0.045783</td>\n",
       "      <td>0.014119</td>\n",
       "      <td>0.010450</td>\n",
       "      <td>0.020351</td>\n",
       "      <td>0.005837</td>\n",
       "      <td>0.077287</td>\n",
       "      <td>0.003883</td>\n",
       "      <td>-0.018439</td>\n",
       "      <td>0.001422</td>\n",
       "      <td>-0.066225</td>\n",
       "      <td>0.030803</td>\n",
       "      <td>0.047486</td>\n",
       "      <td>0.010068</td>\n",
       "      <td>0.007752</td>\n",
       "      <td>0.017395</td>\n",
       "      <td>-0.010261</td>\n",
       "      <td>0.038973</td>\n",
       "      <td>0.077732</td>\n",
       "      <td>-0.003522</td>\n",
       "      <td>0.027876</td>\n",
       "    </tr>\n",
       "  </tbody>\n",
       "</table>\n",
       "</div>"
      ],
      "text/plain": [
       "               VALE3     GGBR4     CPLE6     BBSE3     ITUB4     WEGE3  \\\n",
       "Date                                                                     \n",
       "2023-01-03 -0.001483 -0.064899 -0.031120 -0.013592 -0.033727 -0.018893   \n",
       "2023-01-04  0.005197  0.006716  0.022942  0.039370  0.007853  0.012948   \n",
       "2023-01-05  0.002954  0.027428  0.011915  0.093750  0.030303  0.045559   \n",
       "2023-01-06  0.002209  0.000722  0.019670  0.025108  0.024370  0.014107   \n",
       "2023-01-09  0.005143  0.025234 -0.010189  0.013514 -0.013946 -0.009892   \n",
       "2023-01-10  0.010234  0.039381  0.027175  0.028333  0.035774  0.017171   \n",
       "2023-01-11 -0.017366  0.023681  0.025120  0.000810  0.045783  0.014119   \n",
       "\n",
       "               JBSS3     PRIO3     MULT3     ITSA4     ABEV3     ALPA4  \\\n",
       "Date                                                                     \n",
       "2023-01-03 -0.046940 -0.050112 -0.031219 -0.028381 -0.047694 -0.047860   \n",
       "2023-01-04  0.008795  0.003150  0.005142  0.037801  0.036367  0.031899   \n",
       "2023-01-05  0.032258  0.043171  0.002046  0.020695  0.026268  0.040281   \n",
       "2023-01-06  0.026182  0.028593  0.029272  0.014599  0.029894  0.005853   \n",
       "2023-01-09  0.002469  0.012436  0.004630  0.006395  0.008348 -0.009400   \n",
       "2023-01-10  0.021346  0.029624  0.015142  0.007149  0.065851  0.053773   \n",
       "2023-01-11  0.010450  0.020351  0.005837  0.077287  0.003883 -0.018439   \n",
       "\n",
       "               ARZZ3     AZUL4     B3SA3     BBAS3     BBDC3     BBDC4  \\\n",
       "Date                                                                     \n",
       "2023-01-03 -0.007573 -0.050251 -0.032730 -0.017687  0.001941 -0.025606   \n",
       "2023-01-04  0.009538  0.019841 -0.002226  0.027701 -0.004649  0.008299   \n",
       "2023-01-05  0.024943  0.086900  0.030344 -0.008086  0.024523  0.015089   \n",
       "2023-01-06  0.003319  0.031026  0.006063 -0.013587  0.007599  0.016216   \n",
       "2023-01-09  0.012495  0.005787  0.006888 -0.009642  0.020362  0.007979   \n",
       "2023-01-10  0.020690  0.042578 -0.014536 -0.004172  0.027716  0.021108   \n",
       "2023-01-11  0.001422 -0.066225  0.030803  0.047486  0.010068  0.007752   \n",
       "\n",
       "               BEEF3     BHIA3    BPAC11     BRAP4     BRFS3     BRKM5  \n",
       "Date                                                                    \n",
       "2023-01-03 -0.020958 -0.021664 -0.032112 -0.067030 -0.001784 -0.024807  \n",
       "2023-01-04  0.003058  0.015098  0.017107 -0.005841  0.001787  0.006565  \n",
       "2023-01-05  0.030923  0.037184  0.026504  0.025558  0.016770  0.002174  \n",
       "2023-01-06  0.017322  0.005258  0.026812  0.006015  0.015908  0.014642  \n",
       "2023-01-09  0.007060  0.029957 -0.012573  0.023633  0.001036 -0.002940  \n",
       "2023-01-10  0.019381 -0.010157  0.030362  0.005563  0.012307 -0.009649  \n",
       "2023-01-11  0.017395 -0.010261  0.038973  0.077732 -0.003522  0.027876  "
      ]
     },
     "execution_count": 33,
     "metadata": {},
     "output_type": "execute_result"
    }
   ],
   "source": [
    "oos_returns = oos.pct_change()\n",
    "oos_returns = oos_returns.iloc[1:]               # deletes the first row that has no daily return\n",
    "oos_returns = oos_returns.dropna(axis='columns') # filter out stocks with NaNs\n",
    "print(oos_returns.shape)\n",
    "oos_returns.head(7)"
   ]
  },
  {
   "cell_type": "markdown",
   "metadata": {},
   "source": [
    "No geral, para um portfolio composto por $n$ ativos com proporções de investimento $w_{i}$ tal que $w_{1} + . . . + w_{n} = 1$. O retorno total e a taxa de retorno são definidos como:\n",
    "\n",
    "\\begin{equation}\n",
    "    R_{p,t} = \\sum_{i=1}^{N}w_{i}R_{i,t} \\\\\n",
    "\\end{equation}\n"
   ]
  },
  {
   "cell_type": "code",
   "execution_count": 34,
   "metadata": {},
   "outputs": [
    {
     "data": {
      "text/plain": [
       "{'VALE3': 0.014280660110468352,\n",
       " 'GGBR4': 0.016124165342481334,\n",
       " 'CPLE6': 0.011486730464761194,\n",
       " 'BBSE3': 0.010958217157922044,\n",
       " 'ITUB4': 0.16527385566406433,\n",
       " 'WEGE3': 0.011134729079849607,\n",
       " 'JBSS3': 0.010481883637324356,\n",
       " 'PRIO3': 0.010477003642375188,\n",
       " 'MULT3': 0.10926684197493314,\n",
       " 'ITSA4': 0.19371716472358408,\n",
       " 'ABEV3': 0.016070530101618814,\n",
       " 'ALPA4': 0.014117098203111904,\n",
       " 'ARZZ3': 0.023985441398626177,\n",
       " 'AZUL4': 0.0166244587843351,\n",
       " 'B3SA3': 0.1993794571051403,\n",
       " 'BBAS3': 0.01348812958684708,\n",
       " 'BBDC3': 0.020538649926454194,\n",
       " 'BBDC4': 0.010711515655371623,\n",
       " 'BEEF3': 0.010262073300551762,\n",
       " 'BHIA3': 0.017361833244866013,\n",
       " 'BPAC11': 0.01605085130727069,\n",
       " 'BRAP4': 0.06314603217565976,\n",
       " 'BRFS3': 0.014032276661424987,\n",
       " 'BRKM5': 0.011030400750957394}"
      ]
     },
     "execution_count": 34,
     "metadata": {},
     "output_type": "execute_result"
    }
   ],
   "source": [
    "solution_dict"
   ]
  },
  {
   "cell_type": "code",
   "execution_count": 35,
   "metadata": {},
   "outputs": [
    {
     "data": {
      "text/html": [
       "<div>\n",
       "<style scoped>\n",
       "    .dataframe tbody tr th:only-of-type {\n",
       "        vertical-align: middle;\n",
       "    }\n",
       "\n",
       "    .dataframe tbody tr th {\n",
       "        vertical-align: top;\n",
       "    }\n",
       "\n",
       "    .dataframe thead th {\n",
       "        text-align: right;\n",
       "    }\n",
       "</style>\n",
       "<table border=\"1\" class=\"dataframe\">\n",
       "  <thead>\n",
       "    <tr style=\"text-align: right;\">\n",
       "      <th></th>\n",
       "      <th>VALE3</th>\n",
       "      <th>GGBR4</th>\n",
       "      <th>CPLE6</th>\n",
       "      <th>BBSE3</th>\n",
       "      <th>ITUB4</th>\n",
       "      <th>WEGE3</th>\n",
       "      <th>JBSS3</th>\n",
       "      <th>PRIO3</th>\n",
       "      <th>MULT3</th>\n",
       "      <th>ITSA4</th>\n",
       "      <th>ABEV3</th>\n",
       "      <th>ALPA4</th>\n",
       "      <th>ARZZ3</th>\n",
       "      <th>AZUL4</th>\n",
       "      <th>B3SA3</th>\n",
       "      <th>BBAS3</th>\n",
       "      <th>BBDC3</th>\n",
       "      <th>BBDC4</th>\n",
       "      <th>BEEF3</th>\n",
       "      <th>BHIA3</th>\n",
       "      <th>BPAC11</th>\n",
       "      <th>BRAP4</th>\n",
       "      <th>BRFS3</th>\n",
       "      <th>BRKM5</th>\n",
       "    </tr>\n",
       "    <tr>\n",
       "      <th>Date</th>\n",
       "      <th></th>\n",
       "      <th></th>\n",
       "      <th></th>\n",
       "      <th></th>\n",
       "      <th></th>\n",
       "      <th></th>\n",
       "      <th></th>\n",
       "      <th></th>\n",
       "      <th></th>\n",
       "      <th></th>\n",
       "      <th></th>\n",
       "      <th></th>\n",
       "      <th></th>\n",
       "      <th></th>\n",
       "      <th></th>\n",
       "      <th></th>\n",
       "      <th></th>\n",
       "      <th></th>\n",
       "      <th></th>\n",
       "      <th></th>\n",
       "      <th></th>\n",
       "      <th></th>\n",
       "      <th></th>\n",
       "      <th></th>\n",
       "    </tr>\n",
       "  </thead>\n",
       "  <tbody>\n",
       "    <tr>\n",
       "      <th>2023-01-03</th>\n",
       "      <td>-0.001483</td>\n",
       "      <td>-0.064899</td>\n",
       "      <td>-0.031120</td>\n",
       "      <td>-0.013592</td>\n",
       "      <td>-0.033727</td>\n",
       "      <td>-0.018893</td>\n",
       "      <td>-0.046940</td>\n",
       "      <td>-0.050112</td>\n",
       "      <td>-0.031219</td>\n",
       "      <td>-0.028381</td>\n",
       "      <td>-0.047694</td>\n",
       "      <td>-0.047860</td>\n",
       "      <td>-0.007573</td>\n",
       "      <td>-0.050251</td>\n",
       "      <td>-0.032730</td>\n",
       "      <td>-0.017687</td>\n",
       "      <td>0.001941</td>\n",
       "      <td>-0.025606</td>\n",
       "      <td>-0.020958</td>\n",
       "      <td>-0.021664</td>\n",
       "      <td>-0.032112</td>\n",
       "      <td>-0.067030</td>\n",
       "      <td>-0.001784</td>\n",
       "      <td>-0.024807</td>\n",
       "    </tr>\n",
       "    <tr>\n",
       "      <th>2023-01-04</th>\n",
       "      <td>0.005197</td>\n",
       "      <td>0.006716</td>\n",
       "      <td>0.022942</td>\n",
       "      <td>0.039370</td>\n",
       "      <td>0.007853</td>\n",
       "      <td>0.012948</td>\n",
       "      <td>0.008795</td>\n",
       "      <td>0.003150</td>\n",
       "      <td>0.005142</td>\n",
       "      <td>0.037801</td>\n",
       "      <td>0.036367</td>\n",
       "      <td>0.031899</td>\n",
       "      <td>0.009538</td>\n",
       "      <td>0.019841</td>\n",
       "      <td>-0.002226</td>\n",
       "      <td>0.027701</td>\n",
       "      <td>-0.004649</td>\n",
       "      <td>0.008299</td>\n",
       "      <td>0.003058</td>\n",
       "      <td>0.015098</td>\n",
       "      <td>0.017107</td>\n",
       "      <td>-0.005841</td>\n",
       "      <td>0.001787</td>\n",
       "      <td>0.006565</td>\n",
       "    </tr>\n",
       "    <tr>\n",
       "      <th>2023-01-05</th>\n",
       "      <td>0.002954</td>\n",
       "      <td>0.027428</td>\n",
       "      <td>0.011915</td>\n",
       "      <td>0.093750</td>\n",
       "      <td>0.030303</td>\n",
       "      <td>0.045559</td>\n",
       "      <td>0.032258</td>\n",
       "      <td>0.043171</td>\n",
       "      <td>0.002046</td>\n",
       "      <td>0.020695</td>\n",
       "      <td>0.026268</td>\n",
       "      <td>0.040281</td>\n",
       "      <td>0.024943</td>\n",
       "      <td>0.086900</td>\n",
       "      <td>0.030344</td>\n",
       "      <td>-0.008086</td>\n",
       "      <td>0.024523</td>\n",
       "      <td>0.015089</td>\n",
       "      <td>0.030923</td>\n",
       "      <td>0.037184</td>\n",
       "      <td>0.026504</td>\n",
       "      <td>0.025558</td>\n",
       "      <td>0.016770</td>\n",
       "      <td>0.002174</td>\n",
       "    </tr>\n",
       "    <tr>\n",
       "      <th>2023-01-06</th>\n",
       "      <td>0.002209</td>\n",
       "      <td>0.000722</td>\n",
       "      <td>0.019670</td>\n",
       "      <td>0.025108</td>\n",
       "      <td>0.024370</td>\n",
       "      <td>0.014107</td>\n",
       "      <td>0.026182</td>\n",
       "      <td>0.028593</td>\n",
       "      <td>0.029272</td>\n",
       "      <td>0.014599</td>\n",
       "      <td>0.029894</td>\n",
       "      <td>0.005853</td>\n",
       "      <td>0.003319</td>\n",
       "      <td>0.031026</td>\n",
       "      <td>0.006063</td>\n",
       "      <td>-0.013587</td>\n",
       "      <td>0.007599</td>\n",
       "      <td>0.016216</td>\n",
       "      <td>0.017322</td>\n",
       "      <td>0.005258</td>\n",
       "      <td>0.026812</td>\n",
       "      <td>0.006015</td>\n",
       "      <td>0.015908</td>\n",
       "      <td>0.014642</td>\n",
       "    </tr>\n",
       "    <tr>\n",
       "      <th>2023-01-09</th>\n",
       "      <td>0.005143</td>\n",
       "      <td>0.025234</td>\n",
       "      <td>-0.010189</td>\n",
       "      <td>0.013514</td>\n",
       "      <td>-0.013946</td>\n",
       "      <td>-0.009892</td>\n",
       "      <td>0.002469</td>\n",
       "      <td>0.012436</td>\n",
       "      <td>0.004630</td>\n",
       "      <td>0.006395</td>\n",
       "      <td>0.008348</td>\n",
       "      <td>-0.009400</td>\n",
       "      <td>0.012495</td>\n",
       "      <td>0.005787</td>\n",
       "      <td>0.006888</td>\n",
       "      <td>-0.009642</td>\n",
       "      <td>0.020362</td>\n",
       "      <td>0.007979</td>\n",
       "      <td>0.007060</td>\n",
       "      <td>0.029957</td>\n",
       "      <td>-0.012573</td>\n",
       "      <td>0.023633</td>\n",
       "      <td>0.001036</td>\n",
       "      <td>-0.002940</td>\n",
       "    </tr>\n",
       "    <tr>\n",
       "      <th>2023-01-10</th>\n",
       "      <td>0.010234</td>\n",
       "      <td>0.039381</td>\n",
       "      <td>0.027175</td>\n",
       "      <td>0.028333</td>\n",
       "      <td>0.035774</td>\n",
       "      <td>0.017171</td>\n",
       "      <td>0.021346</td>\n",
       "      <td>0.029624</td>\n",
       "      <td>0.015142</td>\n",
       "      <td>0.007149</td>\n",
       "      <td>0.065851</td>\n",
       "      <td>0.053773</td>\n",
       "      <td>0.020690</td>\n",
       "      <td>0.042578</td>\n",
       "      <td>-0.014536</td>\n",
       "      <td>-0.004172</td>\n",
       "      <td>0.027716</td>\n",
       "      <td>0.021108</td>\n",
       "      <td>0.019381</td>\n",
       "      <td>-0.010157</td>\n",
       "      <td>0.030362</td>\n",
       "      <td>0.005563</td>\n",
       "      <td>0.012307</td>\n",
       "      <td>-0.009649</td>\n",
       "    </tr>\n",
       "    <tr>\n",
       "      <th>2023-01-11</th>\n",
       "      <td>-0.017366</td>\n",
       "      <td>0.023681</td>\n",
       "      <td>0.025120</td>\n",
       "      <td>0.000810</td>\n",
       "      <td>0.045783</td>\n",
       "      <td>0.014119</td>\n",
       "      <td>0.010450</td>\n",
       "      <td>0.020351</td>\n",
       "      <td>0.005837</td>\n",
       "      <td>0.077287</td>\n",
       "      <td>0.003883</td>\n",
       "      <td>-0.018439</td>\n",
       "      <td>0.001422</td>\n",
       "      <td>-0.066225</td>\n",
       "      <td>0.030803</td>\n",
       "      <td>0.047486</td>\n",
       "      <td>0.010068</td>\n",
       "      <td>0.007752</td>\n",
       "      <td>0.017395</td>\n",
       "      <td>-0.010261</td>\n",
       "      <td>0.038973</td>\n",
       "      <td>0.077732</td>\n",
       "      <td>-0.003522</td>\n",
       "      <td>0.027876</td>\n",
       "    </tr>\n",
       "  </tbody>\n",
       "</table>\n",
       "</div>"
      ],
      "text/plain": [
       "               VALE3     GGBR4     CPLE6     BBSE3     ITUB4     WEGE3  \\\n",
       "Date                                                                     \n",
       "2023-01-03 -0.001483 -0.064899 -0.031120 -0.013592 -0.033727 -0.018893   \n",
       "2023-01-04  0.005197  0.006716  0.022942  0.039370  0.007853  0.012948   \n",
       "2023-01-05  0.002954  0.027428  0.011915  0.093750  0.030303  0.045559   \n",
       "2023-01-06  0.002209  0.000722  0.019670  0.025108  0.024370  0.014107   \n",
       "2023-01-09  0.005143  0.025234 -0.010189  0.013514 -0.013946 -0.009892   \n",
       "2023-01-10  0.010234  0.039381  0.027175  0.028333  0.035774  0.017171   \n",
       "2023-01-11 -0.017366  0.023681  0.025120  0.000810  0.045783  0.014119   \n",
       "\n",
       "               JBSS3     PRIO3     MULT3     ITSA4     ABEV3     ALPA4  \\\n",
       "Date                                                                     \n",
       "2023-01-03 -0.046940 -0.050112 -0.031219 -0.028381 -0.047694 -0.047860   \n",
       "2023-01-04  0.008795  0.003150  0.005142  0.037801  0.036367  0.031899   \n",
       "2023-01-05  0.032258  0.043171  0.002046  0.020695  0.026268  0.040281   \n",
       "2023-01-06  0.026182  0.028593  0.029272  0.014599  0.029894  0.005853   \n",
       "2023-01-09  0.002469  0.012436  0.004630  0.006395  0.008348 -0.009400   \n",
       "2023-01-10  0.021346  0.029624  0.015142  0.007149  0.065851  0.053773   \n",
       "2023-01-11  0.010450  0.020351  0.005837  0.077287  0.003883 -0.018439   \n",
       "\n",
       "               ARZZ3     AZUL4     B3SA3     BBAS3     BBDC3     BBDC4  \\\n",
       "Date                                                                     \n",
       "2023-01-03 -0.007573 -0.050251 -0.032730 -0.017687  0.001941 -0.025606   \n",
       "2023-01-04  0.009538  0.019841 -0.002226  0.027701 -0.004649  0.008299   \n",
       "2023-01-05  0.024943  0.086900  0.030344 -0.008086  0.024523  0.015089   \n",
       "2023-01-06  0.003319  0.031026  0.006063 -0.013587  0.007599  0.016216   \n",
       "2023-01-09  0.012495  0.005787  0.006888 -0.009642  0.020362  0.007979   \n",
       "2023-01-10  0.020690  0.042578 -0.014536 -0.004172  0.027716  0.021108   \n",
       "2023-01-11  0.001422 -0.066225  0.030803  0.047486  0.010068  0.007752   \n",
       "\n",
       "               BEEF3     BHIA3    BPAC11     BRAP4     BRFS3     BRKM5  \n",
       "Date                                                                    \n",
       "2023-01-03 -0.020958 -0.021664 -0.032112 -0.067030 -0.001784 -0.024807  \n",
       "2023-01-04  0.003058  0.015098  0.017107 -0.005841  0.001787  0.006565  \n",
       "2023-01-05  0.030923  0.037184  0.026504  0.025558  0.016770  0.002174  \n",
       "2023-01-06  0.017322  0.005258  0.026812  0.006015  0.015908  0.014642  \n",
       "2023-01-09  0.007060  0.029957 -0.012573  0.023633  0.001036 -0.002940  \n",
       "2023-01-10  0.019381 -0.010157  0.030362  0.005563  0.012307 -0.009649  \n",
       "2023-01-11  0.017395 -0.010261  0.038973  0.077732 -0.003522  0.027876  "
      ]
     },
     "execution_count": 35,
     "metadata": {},
     "output_type": "execute_result"
    }
   ],
   "source": [
    "# Get seven days\n",
    "seven_days_oos_returns = oos_returns.iloc[:7,:]\n",
    "seven_days_oos_returns.head(10)"
   ]
  },
  {
   "cell_type": "code",
   "execution_count": 36,
   "metadata": {},
   "outputs": [
    {
     "name": "stdout",
     "output_type": "stream",
     "text": [
      "VALE3 - 0.014280660110468352\n",
      "GGBR4 - 0.016124165342481334\n",
      "CPLE6 - 0.011486730464761194\n",
      "BBSE3 - 0.010958217157922044\n",
      "ITUB4 - 0.16527385566406433\n",
      "WEGE3 - 0.011134729079849607\n",
      "JBSS3 - 0.010481883637324356\n",
      "PRIO3 - 0.010477003642375188\n",
      "MULT3 - 0.10926684197493314\n",
      "ITSA4 - 0.19371716472358408\n",
      "ABEV3 - 0.016070530101618814\n",
      "ALPA4 - 0.014117098203111904\n",
      "ARZZ3 - 0.023985441398626177\n",
      "AZUL4 - 0.0166244587843351\n",
      "B3SA3 - 0.1993794571051403\n",
      "BBAS3 - 0.01348812958684708\n",
      "BBDC3 - 0.020538649926454194\n",
      "BBDC4 - 0.010711515655371623\n",
      "BEEF3 - 0.010262073300551762\n",
      "BHIA3 - 0.017361833244866013\n",
      "BPAC11 - 0.01605085130727069\n",
      "BRAP4 - 0.06314603217565976\n",
      "BRFS3 - 0.014032276661424987\n",
      "BRKM5 - 0.011030400750957394\n"
     ]
    }
   ],
   "source": [
    "weighted_ret = pd.DataFrame()\n",
    "\n",
    "for col in seven_days_oos_returns.columns:\n",
    "    print(f\"{col} - {solution_dict[col]}\")\n",
    "    weighted_ret[col] = (seven_days_oos_returns[col] * solution_dict[col])"
   ]
  },
  {
   "cell_type": "code",
   "execution_count": 37,
   "metadata": {},
   "outputs": [
    {
     "data": {
      "text/html": [
       "<div>\n",
       "<style scoped>\n",
       "    .dataframe tbody tr th:only-of-type {\n",
       "        vertical-align: middle;\n",
       "    }\n",
       "\n",
       "    .dataframe tbody tr th {\n",
       "        vertical-align: top;\n",
       "    }\n",
       "\n",
       "    .dataframe thead th {\n",
       "        text-align: right;\n",
       "    }\n",
       "</style>\n",
       "<table border=\"1\" class=\"dataframe\">\n",
       "  <thead>\n",
       "    <tr style=\"text-align: right;\">\n",
       "      <th></th>\n",
       "      <th>VALE3</th>\n",
       "      <th>GGBR4</th>\n",
       "      <th>CPLE6</th>\n",
       "      <th>BBSE3</th>\n",
       "      <th>ITUB4</th>\n",
       "      <th>WEGE3</th>\n",
       "      <th>JBSS3</th>\n",
       "      <th>PRIO3</th>\n",
       "      <th>MULT3</th>\n",
       "      <th>ITSA4</th>\n",
       "      <th>ABEV3</th>\n",
       "      <th>ALPA4</th>\n",
       "      <th>ARZZ3</th>\n",
       "      <th>AZUL4</th>\n",
       "      <th>B3SA3</th>\n",
       "      <th>BBAS3</th>\n",
       "      <th>BBDC3</th>\n",
       "      <th>BBDC4</th>\n",
       "      <th>BEEF3</th>\n",
       "      <th>BHIA3</th>\n",
       "      <th>BPAC11</th>\n",
       "      <th>BRAP4</th>\n",
       "      <th>BRFS3</th>\n",
       "      <th>BRKM5</th>\n",
       "    </tr>\n",
       "    <tr>\n",
       "      <th>Date</th>\n",
       "      <th></th>\n",
       "      <th></th>\n",
       "      <th></th>\n",
       "      <th></th>\n",
       "      <th></th>\n",
       "      <th></th>\n",
       "      <th></th>\n",
       "      <th></th>\n",
       "      <th></th>\n",
       "      <th></th>\n",
       "      <th></th>\n",
       "      <th></th>\n",
       "      <th></th>\n",
       "      <th></th>\n",
       "      <th></th>\n",
       "      <th></th>\n",
       "      <th></th>\n",
       "      <th></th>\n",
       "      <th></th>\n",
       "      <th></th>\n",
       "      <th></th>\n",
       "      <th></th>\n",
       "      <th></th>\n",
       "      <th></th>\n",
       "    </tr>\n",
       "  </thead>\n",
       "  <tbody>\n",
       "    <tr>\n",
       "      <th>2023-01-03</th>\n",
       "      <td>-0.000021</td>\n",
       "      <td>-0.001046</td>\n",
       "      <td>-0.000357</td>\n",
       "      <td>-0.000149</td>\n",
       "      <td>-0.005574</td>\n",
       "      <td>-0.000210</td>\n",
       "      <td>-0.000492</td>\n",
       "      <td>-0.000525</td>\n",
       "      <td>-0.003411</td>\n",
       "      <td>-0.005498</td>\n",
       "      <td>-0.000766</td>\n",
       "      <td>-0.000676</td>\n",
       "      <td>-0.000182</td>\n",
       "      <td>-0.000835</td>\n",
       "      <td>-0.006526</td>\n",
       "      <td>-0.000239</td>\n",
       "      <td>0.000040</td>\n",
       "      <td>-0.000274</td>\n",
       "      <td>-0.000215</td>\n",
       "      <td>-0.000376</td>\n",
       "      <td>-0.000515</td>\n",
       "      <td>-0.004233</td>\n",
       "      <td>-0.000025</td>\n",
       "      <td>-0.000274</td>\n",
       "    </tr>\n",
       "    <tr>\n",
       "      <th>2023-01-04</th>\n",
       "      <td>0.000074</td>\n",
       "      <td>0.000108</td>\n",
       "      <td>0.000264</td>\n",
       "      <td>0.000431</td>\n",
       "      <td>0.001298</td>\n",
       "      <td>0.000144</td>\n",
       "      <td>0.000092</td>\n",
       "      <td>0.000033</td>\n",
       "      <td>0.000562</td>\n",
       "      <td>0.007323</td>\n",
       "      <td>0.000584</td>\n",
       "      <td>0.000450</td>\n",
       "      <td>0.000229</td>\n",
       "      <td>0.000330</td>\n",
       "      <td>-0.000444</td>\n",
       "      <td>0.000374</td>\n",
       "      <td>-0.000095</td>\n",
       "      <td>0.000089</td>\n",
       "      <td>0.000031</td>\n",
       "      <td>0.000262</td>\n",
       "      <td>0.000275</td>\n",
       "      <td>-0.000369</td>\n",
       "      <td>0.000025</td>\n",
       "      <td>0.000072</td>\n",
       "    </tr>\n",
       "    <tr>\n",
       "      <th>2023-01-05</th>\n",
       "      <td>0.000042</td>\n",
       "      <td>0.000442</td>\n",
       "      <td>0.000137</td>\n",
       "      <td>0.001027</td>\n",
       "      <td>0.005008</td>\n",
       "      <td>0.000507</td>\n",
       "      <td>0.000338</td>\n",
       "      <td>0.000452</td>\n",
       "      <td>0.000224</td>\n",
       "      <td>0.004009</td>\n",
       "      <td>0.000422</td>\n",
       "      <td>0.000569</td>\n",
       "      <td>0.000598</td>\n",
       "      <td>0.001445</td>\n",
       "      <td>0.006050</td>\n",
       "      <td>-0.000109</td>\n",
       "      <td>0.000504</td>\n",
       "      <td>0.000162</td>\n",
       "      <td>0.000317</td>\n",
       "      <td>0.000646</td>\n",
       "      <td>0.000425</td>\n",
       "      <td>0.001614</td>\n",
       "      <td>0.000235</td>\n",
       "      <td>0.000024</td>\n",
       "    </tr>\n",
       "    <tr>\n",
       "      <th>2023-01-06</th>\n",
       "      <td>0.000032</td>\n",
       "      <td>0.000012</td>\n",
       "      <td>0.000226</td>\n",
       "      <td>0.000275</td>\n",
       "      <td>0.004028</td>\n",
       "      <td>0.000157</td>\n",
       "      <td>0.000274</td>\n",
       "      <td>0.000300</td>\n",
       "      <td>0.003198</td>\n",
       "      <td>0.002828</td>\n",
       "      <td>0.000480</td>\n",
       "      <td>0.000083</td>\n",
       "      <td>0.000080</td>\n",
       "      <td>0.000516</td>\n",
       "      <td>0.001209</td>\n",
       "      <td>-0.000183</td>\n",
       "      <td>0.000156</td>\n",
       "      <td>0.000174</td>\n",
       "      <td>0.000178</td>\n",
       "      <td>0.000091</td>\n",
       "      <td>0.000430</td>\n",
       "      <td>0.000380</td>\n",
       "      <td>0.000223</td>\n",
       "      <td>0.000162</td>\n",
       "    </tr>\n",
       "    <tr>\n",
       "      <th>2023-01-09</th>\n",
       "      <td>0.000073</td>\n",
       "      <td>0.000407</td>\n",
       "      <td>-0.000117</td>\n",
       "      <td>0.000148</td>\n",
       "      <td>-0.002305</td>\n",
       "      <td>-0.000110</td>\n",
       "      <td>0.000026</td>\n",
       "      <td>0.000130</td>\n",
       "      <td>0.000506</td>\n",
       "      <td>0.001239</td>\n",
       "      <td>0.000134</td>\n",
       "      <td>-0.000133</td>\n",
       "      <td>0.000300</td>\n",
       "      <td>0.000096</td>\n",
       "      <td>0.001373</td>\n",
       "      <td>-0.000130</td>\n",
       "      <td>0.000418</td>\n",
       "      <td>0.000085</td>\n",
       "      <td>0.000072</td>\n",
       "      <td>0.000520</td>\n",
       "      <td>-0.000202</td>\n",
       "      <td>0.001492</td>\n",
       "      <td>0.000015</td>\n",
       "      <td>-0.000032</td>\n",
       "    </tr>\n",
       "  </tbody>\n",
       "</table>\n",
       "</div>"
      ],
      "text/plain": [
       "               VALE3     GGBR4     CPLE6     BBSE3     ITUB4     WEGE3  \\\n",
       "Date                                                                     \n",
       "2023-01-03 -0.000021 -0.001046 -0.000357 -0.000149 -0.005574 -0.000210   \n",
       "2023-01-04  0.000074  0.000108  0.000264  0.000431  0.001298  0.000144   \n",
       "2023-01-05  0.000042  0.000442  0.000137  0.001027  0.005008  0.000507   \n",
       "2023-01-06  0.000032  0.000012  0.000226  0.000275  0.004028  0.000157   \n",
       "2023-01-09  0.000073  0.000407 -0.000117  0.000148 -0.002305 -0.000110   \n",
       "\n",
       "               JBSS3     PRIO3     MULT3     ITSA4     ABEV3     ALPA4  \\\n",
       "Date                                                                     \n",
       "2023-01-03 -0.000492 -0.000525 -0.003411 -0.005498 -0.000766 -0.000676   \n",
       "2023-01-04  0.000092  0.000033  0.000562  0.007323  0.000584  0.000450   \n",
       "2023-01-05  0.000338  0.000452  0.000224  0.004009  0.000422  0.000569   \n",
       "2023-01-06  0.000274  0.000300  0.003198  0.002828  0.000480  0.000083   \n",
       "2023-01-09  0.000026  0.000130  0.000506  0.001239  0.000134 -0.000133   \n",
       "\n",
       "               ARZZ3     AZUL4     B3SA3     BBAS3     BBDC3     BBDC4  \\\n",
       "Date                                                                     \n",
       "2023-01-03 -0.000182 -0.000835 -0.006526 -0.000239  0.000040 -0.000274   \n",
       "2023-01-04  0.000229  0.000330 -0.000444  0.000374 -0.000095  0.000089   \n",
       "2023-01-05  0.000598  0.001445  0.006050 -0.000109  0.000504  0.000162   \n",
       "2023-01-06  0.000080  0.000516  0.001209 -0.000183  0.000156  0.000174   \n",
       "2023-01-09  0.000300  0.000096  0.001373 -0.000130  0.000418  0.000085   \n",
       "\n",
       "               BEEF3     BHIA3    BPAC11     BRAP4     BRFS3     BRKM5  \n",
       "Date                                                                    \n",
       "2023-01-03 -0.000215 -0.000376 -0.000515 -0.004233 -0.000025 -0.000274  \n",
       "2023-01-04  0.000031  0.000262  0.000275 -0.000369  0.000025  0.000072  \n",
       "2023-01-05  0.000317  0.000646  0.000425  0.001614  0.000235  0.000024  \n",
       "2023-01-06  0.000178  0.000091  0.000430  0.000380  0.000223  0.000162  \n",
       "2023-01-09  0.000072  0.000520 -0.000202  0.001492  0.000015 -0.000032  "
      ]
     },
     "execution_count": 37,
     "metadata": {},
     "output_type": "execute_result"
    }
   ],
   "source": [
    "weighted_ret.head()"
   ]
  },
  {
   "cell_type": "code",
   "execution_count": 38,
   "metadata": {},
   "outputs": [
    {
     "data": {
      "text/html": [
       "<div>\n",
       "<style scoped>\n",
       "    .dataframe tbody tr th:only-of-type {\n",
       "        vertical-align: middle;\n",
       "    }\n",
       "\n",
       "    .dataframe tbody tr th {\n",
       "        vertical-align: top;\n",
       "    }\n",
       "\n",
       "    .dataframe thead th {\n",
       "        text-align: right;\n",
       "    }\n",
       "</style>\n",
       "<table border=\"1\" class=\"dataframe\">\n",
       "  <thead>\n",
       "    <tr style=\"text-align: right;\">\n",
       "      <th></th>\n",
       "      <th>VALE3</th>\n",
       "      <th>GGBR4</th>\n",
       "      <th>CPLE6</th>\n",
       "      <th>BBSE3</th>\n",
       "      <th>ITUB4</th>\n",
       "      <th>WEGE3</th>\n",
       "      <th>JBSS3</th>\n",
       "      <th>PRIO3</th>\n",
       "      <th>MULT3</th>\n",
       "      <th>ITSA4</th>\n",
       "      <th>ABEV3</th>\n",
       "      <th>ALPA4</th>\n",
       "      <th>ARZZ3</th>\n",
       "      <th>AZUL4</th>\n",
       "      <th>B3SA3</th>\n",
       "      <th>BBAS3</th>\n",
       "      <th>BBDC3</th>\n",
       "      <th>BBDC4</th>\n",
       "      <th>BEEF3</th>\n",
       "      <th>BHIA3</th>\n",
       "      <th>BPAC11</th>\n",
       "      <th>BRAP4</th>\n",
       "      <th>BRFS3</th>\n",
       "      <th>BRKM5</th>\n",
       "      <th>portfolio_return</th>\n",
       "    </tr>\n",
       "    <tr>\n",
       "      <th>Date</th>\n",
       "      <th></th>\n",
       "      <th></th>\n",
       "      <th></th>\n",
       "      <th></th>\n",
       "      <th></th>\n",
       "      <th></th>\n",
       "      <th></th>\n",
       "      <th></th>\n",
       "      <th></th>\n",
       "      <th></th>\n",
       "      <th></th>\n",
       "      <th></th>\n",
       "      <th></th>\n",
       "      <th></th>\n",
       "      <th></th>\n",
       "      <th></th>\n",
       "      <th></th>\n",
       "      <th></th>\n",
       "      <th></th>\n",
       "      <th></th>\n",
       "      <th></th>\n",
       "      <th></th>\n",
       "      <th></th>\n",
       "      <th></th>\n",
       "      <th></th>\n",
       "    </tr>\n",
       "  </thead>\n",
       "  <tbody>\n",
       "    <tr>\n",
       "      <th>2023-01-03</th>\n",
       "      <td>-0.000021</td>\n",
       "      <td>-0.001046</td>\n",
       "      <td>-0.000357</td>\n",
       "      <td>-0.000149</td>\n",
       "      <td>-0.005574</td>\n",
       "      <td>-0.000210</td>\n",
       "      <td>-0.000492</td>\n",
       "      <td>-0.000525</td>\n",
       "      <td>-0.003411</td>\n",
       "      <td>-0.005498</td>\n",
       "      <td>-0.000766</td>\n",
       "      <td>-0.000676</td>\n",
       "      <td>-0.000182</td>\n",
       "      <td>-0.000835</td>\n",
       "      <td>-0.006526</td>\n",
       "      <td>-0.000239</td>\n",
       "      <td>0.000040</td>\n",
       "      <td>-0.000274</td>\n",
       "      <td>-0.000215</td>\n",
       "      <td>-0.000376</td>\n",
       "      <td>-0.000515</td>\n",
       "      <td>-0.004233</td>\n",
       "      <td>-0.000025</td>\n",
       "      <td>-0.000274</td>\n",
       "      <td>-0.032380</td>\n",
       "    </tr>\n",
       "    <tr>\n",
       "      <th>2023-01-04</th>\n",
       "      <td>0.000074</td>\n",
       "      <td>0.000108</td>\n",
       "      <td>0.000264</td>\n",
       "      <td>0.000431</td>\n",
       "      <td>0.001298</td>\n",
       "      <td>0.000144</td>\n",
       "      <td>0.000092</td>\n",
       "      <td>0.000033</td>\n",
       "      <td>0.000562</td>\n",
       "      <td>0.007323</td>\n",
       "      <td>0.000584</td>\n",
       "      <td>0.000450</td>\n",
       "      <td>0.000229</td>\n",
       "      <td>0.000330</td>\n",
       "      <td>-0.000444</td>\n",
       "      <td>0.000374</td>\n",
       "      <td>-0.000095</td>\n",
       "      <td>0.000089</td>\n",
       "      <td>0.000031</td>\n",
       "      <td>0.000262</td>\n",
       "      <td>0.000275</td>\n",
       "      <td>-0.000369</td>\n",
       "      <td>0.000025</td>\n",
       "      <td>0.000072</td>\n",
       "      <td>0.012143</td>\n",
       "    </tr>\n",
       "    <tr>\n",
       "      <th>2023-01-05</th>\n",
       "      <td>0.000042</td>\n",
       "      <td>0.000442</td>\n",
       "      <td>0.000137</td>\n",
       "      <td>0.001027</td>\n",
       "      <td>0.005008</td>\n",
       "      <td>0.000507</td>\n",
       "      <td>0.000338</td>\n",
       "      <td>0.000452</td>\n",
       "      <td>0.000224</td>\n",
       "      <td>0.004009</td>\n",
       "      <td>0.000422</td>\n",
       "      <td>0.000569</td>\n",
       "      <td>0.000598</td>\n",
       "      <td>0.001445</td>\n",
       "      <td>0.006050</td>\n",
       "      <td>-0.000109</td>\n",
       "      <td>0.000504</td>\n",
       "      <td>0.000162</td>\n",
       "      <td>0.000317</td>\n",
       "      <td>0.000646</td>\n",
       "      <td>0.000425</td>\n",
       "      <td>0.001614</td>\n",
       "      <td>0.000235</td>\n",
       "      <td>0.000024</td>\n",
       "      <td>0.025089</td>\n",
       "    </tr>\n",
       "    <tr>\n",
       "      <th>2023-01-06</th>\n",
       "      <td>0.000032</td>\n",
       "      <td>0.000012</td>\n",
       "      <td>0.000226</td>\n",
       "      <td>0.000275</td>\n",
       "      <td>0.004028</td>\n",
       "      <td>0.000157</td>\n",
       "      <td>0.000274</td>\n",
       "      <td>0.000300</td>\n",
       "      <td>0.003198</td>\n",
       "      <td>0.002828</td>\n",
       "      <td>0.000480</td>\n",
       "      <td>0.000083</td>\n",
       "      <td>0.000080</td>\n",
       "      <td>0.000516</td>\n",
       "      <td>0.001209</td>\n",
       "      <td>-0.000183</td>\n",
       "      <td>0.000156</td>\n",
       "      <td>0.000174</td>\n",
       "      <td>0.000178</td>\n",
       "      <td>0.000091</td>\n",
       "      <td>0.000430</td>\n",
       "      <td>0.000380</td>\n",
       "      <td>0.000223</td>\n",
       "      <td>0.000162</td>\n",
       "      <td>0.015307</td>\n",
       "    </tr>\n",
       "    <tr>\n",
       "      <th>2023-01-09</th>\n",
       "      <td>0.000073</td>\n",
       "      <td>0.000407</td>\n",
       "      <td>-0.000117</td>\n",
       "      <td>0.000148</td>\n",
       "      <td>-0.002305</td>\n",
       "      <td>-0.000110</td>\n",
       "      <td>0.000026</td>\n",
       "      <td>0.000130</td>\n",
       "      <td>0.000506</td>\n",
       "      <td>0.001239</td>\n",
       "      <td>0.000134</td>\n",
       "      <td>-0.000133</td>\n",
       "      <td>0.000300</td>\n",
       "      <td>0.000096</td>\n",
       "      <td>0.001373</td>\n",
       "      <td>-0.000130</td>\n",
       "      <td>0.000418</td>\n",
       "      <td>0.000085</td>\n",
       "      <td>0.000072</td>\n",
       "      <td>0.000520</td>\n",
       "      <td>-0.000202</td>\n",
       "      <td>0.001492</td>\n",
       "      <td>0.000015</td>\n",
       "      <td>-0.000032</td>\n",
       "      <td>0.004007</td>\n",
       "    </tr>\n",
       "  </tbody>\n",
       "</table>\n",
       "</div>"
      ],
      "text/plain": [
       "               VALE3     GGBR4     CPLE6     BBSE3     ITUB4     WEGE3  \\\n",
       "Date                                                                     \n",
       "2023-01-03 -0.000021 -0.001046 -0.000357 -0.000149 -0.005574 -0.000210   \n",
       "2023-01-04  0.000074  0.000108  0.000264  0.000431  0.001298  0.000144   \n",
       "2023-01-05  0.000042  0.000442  0.000137  0.001027  0.005008  0.000507   \n",
       "2023-01-06  0.000032  0.000012  0.000226  0.000275  0.004028  0.000157   \n",
       "2023-01-09  0.000073  0.000407 -0.000117  0.000148 -0.002305 -0.000110   \n",
       "\n",
       "               JBSS3     PRIO3     MULT3     ITSA4     ABEV3     ALPA4  \\\n",
       "Date                                                                     \n",
       "2023-01-03 -0.000492 -0.000525 -0.003411 -0.005498 -0.000766 -0.000676   \n",
       "2023-01-04  0.000092  0.000033  0.000562  0.007323  0.000584  0.000450   \n",
       "2023-01-05  0.000338  0.000452  0.000224  0.004009  0.000422  0.000569   \n",
       "2023-01-06  0.000274  0.000300  0.003198  0.002828  0.000480  0.000083   \n",
       "2023-01-09  0.000026  0.000130  0.000506  0.001239  0.000134 -0.000133   \n",
       "\n",
       "               ARZZ3     AZUL4     B3SA3     BBAS3     BBDC3     BBDC4  \\\n",
       "Date                                                                     \n",
       "2023-01-03 -0.000182 -0.000835 -0.006526 -0.000239  0.000040 -0.000274   \n",
       "2023-01-04  0.000229  0.000330 -0.000444  0.000374 -0.000095  0.000089   \n",
       "2023-01-05  0.000598  0.001445  0.006050 -0.000109  0.000504  0.000162   \n",
       "2023-01-06  0.000080  0.000516  0.001209 -0.000183  0.000156  0.000174   \n",
       "2023-01-09  0.000300  0.000096  0.001373 -0.000130  0.000418  0.000085   \n",
       "\n",
       "               BEEF3     BHIA3    BPAC11     BRAP4     BRFS3     BRKM5  \\\n",
       "Date                                                                     \n",
       "2023-01-03 -0.000215 -0.000376 -0.000515 -0.004233 -0.000025 -0.000274   \n",
       "2023-01-04  0.000031  0.000262  0.000275 -0.000369  0.000025  0.000072   \n",
       "2023-01-05  0.000317  0.000646  0.000425  0.001614  0.000235  0.000024   \n",
       "2023-01-06  0.000178  0.000091  0.000430  0.000380  0.000223  0.000162   \n",
       "2023-01-09  0.000072  0.000520 -0.000202  0.001492  0.000015 -0.000032   \n",
       "\n",
       "            portfolio_return  \n",
       "Date                          \n",
       "2023-01-03         -0.032380  \n",
       "2023-01-04          0.012143  \n",
       "2023-01-05          0.025089  \n",
       "2023-01-06          0.015307  \n",
       "2023-01-09          0.004007  "
      ]
     },
     "execution_count": 38,
     "metadata": {},
     "output_type": "execute_result"
    }
   ],
   "source": [
    "weighted_ret['portfolio_return'] = weighted_ret.sum(axis=1)\n",
    "\n",
    "weighted_ret.head()"
   ]
  },
  {
   "cell_type": "markdown",
   "metadata": {},
   "source": [
    "Retorno cumulativo simples por dia do portfólio é dado por:\n",
    "\n",
    "\\begin{equation}\n",
    "    R_{cum} = (1 + R_{i,t_{1}}) * (1 + R_{i,t_{2}}) *...* (1 + R_{i,t_{n}})\\\\\n",
    "\\end{equation}\n"
   ]
  },
  {
   "cell_type": "code",
   "execution_count": 39,
   "metadata": {},
   "outputs": [
    {
     "data": {
      "text/html": [
       "<div>\n",
       "<style scoped>\n",
       "    .dataframe tbody tr th:only-of-type {\n",
       "        vertical-align: middle;\n",
       "    }\n",
       "\n",
       "    .dataframe tbody tr th {\n",
       "        vertical-align: top;\n",
       "    }\n",
       "\n",
       "    .dataframe thead th {\n",
       "        text-align: right;\n",
       "    }\n",
       "</style>\n",
       "<table border=\"1\" class=\"dataframe\">\n",
       "  <thead>\n",
       "    <tr style=\"text-align: right;\">\n",
       "      <th></th>\n",
       "      <th>VALE3</th>\n",
       "      <th>GGBR4</th>\n",
       "      <th>CPLE6</th>\n",
       "      <th>BBSE3</th>\n",
       "      <th>ITUB4</th>\n",
       "      <th>WEGE3</th>\n",
       "      <th>JBSS3</th>\n",
       "      <th>PRIO3</th>\n",
       "      <th>MULT3</th>\n",
       "      <th>ITSA4</th>\n",
       "      <th>ABEV3</th>\n",
       "      <th>ALPA4</th>\n",
       "      <th>ARZZ3</th>\n",
       "      <th>AZUL4</th>\n",
       "      <th>B3SA3</th>\n",
       "      <th>BBAS3</th>\n",
       "      <th>BBDC3</th>\n",
       "      <th>BBDC4</th>\n",
       "      <th>BEEF3</th>\n",
       "      <th>BHIA3</th>\n",
       "      <th>BPAC11</th>\n",
       "      <th>BRAP4</th>\n",
       "      <th>BRFS3</th>\n",
       "      <th>BRKM5</th>\n",
       "      <th>portfolio_return</th>\n",
       "      <th>cumulative_return</th>\n",
       "    </tr>\n",
       "    <tr>\n",
       "      <th>Date</th>\n",
       "      <th></th>\n",
       "      <th></th>\n",
       "      <th></th>\n",
       "      <th></th>\n",
       "      <th></th>\n",
       "      <th></th>\n",
       "      <th></th>\n",
       "      <th></th>\n",
       "      <th></th>\n",
       "      <th></th>\n",
       "      <th></th>\n",
       "      <th></th>\n",
       "      <th></th>\n",
       "      <th></th>\n",
       "      <th></th>\n",
       "      <th></th>\n",
       "      <th></th>\n",
       "      <th></th>\n",
       "      <th></th>\n",
       "      <th></th>\n",
       "      <th></th>\n",
       "      <th></th>\n",
       "      <th></th>\n",
       "      <th></th>\n",
       "      <th></th>\n",
       "      <th></th>\n",
       "    </tr>\n",
       "  </thead>\n",
       "  <tbody>\n",
       "    <tr>\n",
       "      <th>2023-01-03</th>\n",
       "      <td>-0.000021</td>\n",
       "      <td>-0.001046</td>\n",
       "      <td>-0.000357</td>\n",
       "      <td>-0.000149</td>\n",
       "      <td>-0.005574</td>\n",
       "      <td>-0.000210</td>\n",
       "      <td>-0.000492</td>\n",
       "      <td>-0.000525</td>\n",
       "      <td>-0.003411</td>\n",
       "      <td>-0.005498</td>\n",
       "      <td>-0.000766</td>\n",
       "      <td>-0.000676</td>\n",
       "      <td>-0.000182</td>\n",
       "      <td>-0.000835</td>\n",
       "      <td>-0.006526</td>\n",
       "      <td>-0.000239</td>\n",
       "      <td>0.000040</td>\n",
       "      <td>-0.000274</td>\n",
       "      <td>-0.000215</td>\n",
       "      <td>-0.000376</td>\n",
       "      <td>-0.000515</td>\n",
       "      <td>-0.004233</td>\n",
       "      <td>-0.000025</td>\n",
       "      <td>-0.000274</td>\n",
       "      <td>-0.032380</td>\n",
       "      <td>-0.032380</td>\n",
       "    </tr>\n",
       "    <tr>\n",
       "      <th>2023-01-04</th>\n",
       "      <td>0.000074</td>\n",
       "      <td>0.000108</td>\n",
       "      <td>0.000264</td>\n",
       "      <td>0.000431</td>\n",
       "      <td>0.001298</td>\n",
       "      <td>0.000144</td>\n",
       "      <td>0.000092</td>\n",
       "      <td>0.000033</td>\n",
       "      <td>0.000562</td>\n",
       "      <td>0.007323</td>\n",
       "      <td>0.000584</td>\n",
       "      <td>0.000450</td>\n",
       "      <td>0.000229</td>\n",
       "      <td>0.000330</td>\n",
       "      <td>-0.000444</td>\n",
       "      <td>0.000374</td>\n",
       "      <td>-0.000095</td>\n",
       "      <td>0.000089</td>\n",
       "      <td>0.000031</td>\n",
       "      <td>0.000262</td>\n",
       "      <td>0.000275</td>\n",
       "      <td>-0.000369</td>\n",
       "      <td>0.000025</td>\n",
       "      <td>0.000072</td>\n",
       "      <td>0.012143</td>\n",
       "      <td>-0.020631</td>\n",
       "    </tr>\n",
       "    <tr>\n",
       "      <th>2023-01-05</th>\n",
       "      <td>0.000042</td>\n",
       "      <td>0.000442</td>\n",
       "      <td>0.000137</td>\n",
       "      <td>0.001027</td>\n",
       "      <td>0.005008</td>\n",
       "      <td>0.000507</td>\n",
       "      <td>0.000338</td>\n",
       "      <td>0.000452</td>\n",
       "      <td>0.000224</td>\n",
       "      <td>0.004009</td>\n",
       "      <td>0.000422</td>\n",
       "      <td>0.000569</td>\n",
       "      <td>0.000598</td>\n",
       "      <td>0.001445</td>\n",
       "      <td>0.006050</td>\n",
       "      <td>-0.000109</td>\n",
       "      <td>0.000504</td>\n",
       "      <td>0.000162</td>\n",
       "      <td>0.000317</td>\n",
       "      <td>0.000646</td>\n",
       "      <td>0.000425</td>\n",
       "      <td>0.001614</td>\n",
       "      <td>0.000235</td>\n",
       "      <td>0.000024</td>\n",
       "      <td>0.025089</td>\n",
       "      <td>0.003940</td>\n",
       "    </tr>\n",
       "    <tr>\n",
       "      <th>2023-01-06</th>\n",
       "      <td>0.000032</td>\n",
       "      <td>0.000012</td>\n",
       "      <td>0.000226</td>\n",
       "      <td>0.000275</td>\n",
       "      <td>0.004028</td>\n",
       "      <td>0.000157</td>\n",
       "      <td>0.000274</td>\n",
       "      <td>0.000300</td>\n",
       "      <td>0.003198</td>\n",
       "      <td>0.002828</td>\n",
       "      <td>0.000480</td>\n",
       "      <td>0.000083</td>\n",
       "      <td>0.000080</td>\n",
       "      <td>0.000516</td>\n",
       "      <td>0.001209</td>\n",
       "      <td>-0.000183</td>\n",
       "      <td>0.000156</td>\n",
       "      <td>0.000174</td>\n",
       "      <td>0.000178</td>\n",
       "      <td>0.000091</td>\n",
       "      <td>0.000430</td>\n",
       "      <td>0.000380</td>\n",
       "      <td>0.000223</td>\n",
       "      <td>0.000162</td>\n",
       "      <td>0.015307</td>\n",
       "      <td>0.019308</td>\n",
       "    </tr>\n",
       "    <tr>\n",
       "      <th>2023-01-09</th>\n",
       "      <td>0.000073</td>\n",
       "      <td>0.000407</td>\n",
       "      <td>-0.000117</td>\n",
       "      <td>0.000148</td>\n",
       "      <td>-0.002305</td>\n",
       "      <td>-0.000110</td>\n",
       "      <td>0.000026</td>\n",
       "      <td>0.000130</td>\n",
       "      <td>0.000506</td>\n",
       "      <td>0.001239</td>\n",
       "      <td>0.000134</td>\n",
       "      <td>-0.000133</td>\n",
       "      <td>0.000300</td>\n",
       "      <td>0.000096</td>\n",
       "      <td>0.001373</td>\n",
       "      <td>-0.000130</td>\n",
       "      <td>0.000418</td>\n",
       "      <td>0.000085</td>\n",
       "      <td>0.000072</td>\n",
       "      <td>0.000520</td>\n",
       "      <td>-0.000202</td>\n",
       "      <td>0.001492</td>\n",
       "      <td>0.000015</td>\n",
       "      <td>-0.000032</td>\n",
       "      <td>0.004007</td>\n",
       "      <td>0.023392</td>\n",
       "    </tr>\n",
       "  </tbody>\n",
       "</table>\n",
       "</div>"
      ],
      "text/plain": [
       "               VALE3     GGBR4     CPLE6     BBSE3     ITUB4     WEGE3  \\\n",
       "Date                                                                     \n",
       "2023-01-03 -0.000021 -0.001046 -0.000357 -0.000149 -0.005574 -0.000210   \n",
       "2023-01-04  0.000074  0.000108  0.000264  0.000431  0.001298  0.000144   \n",
       "2023-01-05  0.000042  0.000442  0.000137  0.001027  0.005008  0.000507   \n",
       "2023-01-06  0.000032  0.000012  0.000226  0.000275  0.004028  0.000157   \n",
       "2023-01-09  0.000073  0.000407 -0.000117  0.000148 -0.002305 -0.000110   \n",
       "\n",
       "               JBSS3     PRIO3     MULT3     ITSA4     ABEV3     ALPA4  \\\n",
       "Date                                                                     \n",
       "2023-01-03 -0.000492 -0.000525 -0.003411 -0.005498 -0.000766 -0.000676   \n",
       "2023-01-04  0.000092  0.000033  0.000562  0.007323  0.000584  0.000450   \n",
       "2023-01-05  0.000338  0.000452  0.000224  0.004009  0.000422  0.000569   \n",
       "2023-01-06  0.000274  0.000300  0.003198  0.002828  0.000480  0.000083   \n",
       "2023-01-09  0.000026  0.000130  0.000506  0.001239  0.000134 -0.000133   \n",
       "\n",
       "               ARZZ3     AZUL4     B3SA3     BBAS3     BBDC3     BBDC4  \\\n",
       "Date                                                                     \n",
       "2023-01-03 -0.000182 -0.000835 -0.006526 -0.000239  0.000040 -0.000274   \n",
       "2023-01-04  0.000229  0.000330 -0.000444  0.000374 -0.000095  0.000089   \n",
       "2023-01-05  0.000598  0.001445  0.006050 -0.000109  0.000504  0.000162   \n",
       "2023-01-06  0.000080  0.000516  0.001209 -0.000183  0.000156  0.000174   \n",
       "2023-01-09  0.000300  0.000096  0.001373 -0.000130  0.000418  0.000085   \n",
       "\n",
       "               BEEF3     BHIA3    BPAC11     BRAP4     BRFS3     BRKM5  \\\n",
       "Date                                                                     \n",
       "2023-01-03 -0.000215 -0.000376 -0.000515 -0.004233 -0.000025 -0.000274   \n",
       "2023-01-04  0.000031  0.000262  0.000275 -0.000369  0.000025  0.000072   \n",
       "2023-01-05  0.000317  0.000646  0.000425  0.001614  0.000235  0.000024   \n",
       "2023-01-06  0.000178  0.000091  0.000430  0.000380  0.000223  0.000162   \n",
       "2023-01-09  0.000072  0.000520 -0.000202  0.001492  0.000015 -0.000032   \n",
       "\n",
       "            portfolio_return  cumulative_return  \n",
       "Date                                             \n",
       "2023-01-03         -0.032380          -0.032380  \n",
       "2023-01-04          0.012143          -0.020631  \n",
       "2023-01-05          0.025089           0.003940  \n",
       "2023-01-06          0.015307           0.019308  \n",
       "2023-01-09          0.004007           0.023392  "
      ]
     },
     "execution_count": 39,
     "metadata": {},
     "output_type": "execute_result"
    }
   ],
   "source": [
    "weighted_ret['cumulative_return'] = (weighted_ret['portfolio_return'] + 1).cumprod()-1\n",
    "weighted_ret.head()"
   ]
  },
  {
   "cell_type": "code",
   "execution_count": 40,
   "metadata": {},
   "outputs": [
    {
     "data": {
      "text/html": [
       "<div>\n",
       "<style scoped>\n",
       "    .dataframe tbody tr th:only-of-type {\n",
       "        vertical-align: middle;\n",
       "    }\n",
       "\n",
       "    .dataframe tbody tr th {\n",
       "        vertical-align: top;\n",
       "    }\n",
       "\n",
       "    .dataframe thead th {\n",
       "        text-align: right;\n",
       "    }\n",
       "</style>\n",
       "<table border=\"1\" class=\"dataframe\">\n",
       "  <thead>\n",
       "    <tr style=\"text-align: right;\">\n",
       "      <th></th>\n",
       "      <th>portfolio_return</th>\n",
       "      <th>cumulative_return</th>\n",
       "    </tr>\n",
       "    <tr>\n",
       "      <th>Date</th>\n",
       "      <th></th>\n",
       "      <th></th>\n",
       "    </tr>\n",
       "  </thead>\n",
       "  <tbody>\n",
       "    <tr>\n",
       "      <th>2023-01-03</th>\n",
       "      <td>-0.032380</td>\n",
       "      <td>-0.032380</td>\n",
       "    </tr>\n",
       "    <tr>\n",
       "      <th>2023-01-04</th>\n",
       "      <td>0.012143</td>\n",
       "      <td>-0.020631</td>\n",
       "    </tr>\n",
       "    <tr>\n",
       "      <th>2023-01-05</th>\n",
       "      <td>0.025089</td>\n",
       "      <td>0.003940</td>\n",
       "    </tr>\n",
       "    <tr>\n",
       "      <th>2023-01-06</th>\n",
       "      <td>0.015307</td>\n",
       "      <td>0.019308</td>\n",
       "    </tr>\n",
       "    <tr>\n",
       "      <th>2023-01-09</th>\n",
       "      <td>0.004007</td>\n",
       "      <td>0.023392</td>\n",
       "    </tr>\n",
       "    <tr>\n",
       "      <th>2023-01-10</th>\n",
       "      <td>0.012871</td>\n",
       "      <td>0.036563</td>\n",
       "    </tr>\n",
       "    <tr>\n",
       "      <th>2023-01-11</th>\n",
       "      <td>0.035687</td>\n",
       "      <td>0.073555</td>\n",
       "    </tr>\n",
       "  </tbody>\n",
       "</table>\n",
       "</div>"
      ],
      "text/plain": [
       "            portfolio_return  cumulative_return\n",
       "Date                                           \n",
       "2023-01-03         -0.032380          -0.032380\n",
       "2023-01-04          0.012143          -0.020631\n",
       "2023-01-05          0.025089           0.003940\n",
       "2023-01-06          0.015307           0.019308\n",
       "2023-01-09          0.004007           0.023392\n",
       "2023-01-10          0.012871           0.036563\n",
       "2023-01-11          0.035687           0.073555"
      ]
     },
     "execution_count": 40,
     "metadata": {},
     "output_type": "execute_result"
    }
   ],
   "source": [
    "weighted_ret[['portfolio_return', 'cumulative_return']]"
   ]
  },
  {
   "cell_type": "code",
   "execution_count": 45,
   "metadata": {},
   "outputs": [
    {
     "data": {
      "application/vnd.plotly.v1+json": {
       "config": {
        "plotlyServerURL": "https://plot.ly"
       },
       "data": [
        {
         "hovertemplate": "variable=portfolio_return<br>Date=%{x}<br>value=%{y}<extra></extra>",
         "legendgroup": "portfolio_return",
         "line": {
          "color": "#636efa",
          "dash": "solid"
         },
         "marker": {
          "symbol": "circle"
         },
         "mode": "lines",
         "name": "portfolio_return",
         "orientation": "v",
         "showlegend": true,
         "type": "scatter",
         "x": [
          "2023-01-03T00:00:00",
          "2023-01-04T00:00:00",
          "2023-01-05T00:00:00",
          "2023-01-06T00:00:00",
          "2023-01-09T00:00:00",
          "2023-01-10T00:00:00",
          "2023-01-11T00:00:00"
         ],
         "xaxis": "x",
         "y": [
          -0.032380485475096595,
          0.012142640946510179,
          0.025088674164340574,
          0.015307269064169026,
          0.004006647882370101,
          0.01287061790116045,
          0.035686958267956696
         ],
         "yaxis": "y"
        }
       ],
       "layout": {
        "legend": {
         "title": {
          "text": "variable"
         },
         "tracegroupgap": 0
        },
        "margin": {
         "t": 60
        },
        "template": {
         "data": {
          "bar": [
           {
            "error_x": {
             "color": "#2a3f5f"
            },
            "error_y": {
             "color": "#2a3f5f"
            },
            "marker": {
             "line": {
              "color": "#E5ECF6",
              "width": 0.5
             },
             "pattern": {
              "fillmode": "overlay",
              "size": 10,
              "solidity": 0.2
             }
            },
            "type": "bar"
           }
          ],
          "barpolar": [
           {
            "marker": {
             "line": {
              "color": "#E5ECF6",
              "width": 0.5
             },
             "pattern": {
              "fillmode": "overlay",
              "size": 10,
              "solidity": 0.2
             }
            },
            "type": "barpolar"
           }
          ],
          "carpet": [
           {
            "aaxis": {
             "endlinecolor": "#2a3f5f",
             "gridcolor": "white",
             "linecolor": "white",
             "minorgridcolor": "white",
             "startlinecolor": "#2a3f5f"
            },
            "baxis": {
             "endlinecolor": "#2a3f5f",
             "gridcolor": "white",
             "linecolor": "white",
             "minorgridcolor": "white",
             "startlinecolor": "#2a3f5f"
            },
            "type": "carpet"
           }
          ],
          "choropleth": [
           {
            "colorbar": {
             "outlinewidth": 0,
             "ticks": ""
            },
            "type": "choropleth"
           }
          ],
          "contour": [
           {
            "colorbar": {
             "outlinewidth": 0,
             "ticks": ""
            },
            "colorscale": [
             [
              0,
              "#0d0887"
             ],
             [
              0.1111111111111111,
              "#46039f"
             ],
             [
              0.2222222222222222,
              "#7201a8"
             ],
             [
              0.3333333333333333,
              "#9c179e"
             ],
             [
              0.4444444444444444,
              "#bd3786"
             ],
             [
              0.5555555555555556,
              "#d8576b"
             ],
             [
              0.6666666666666666,
              "#ed7953"
             ],
             [
              0.7777777777777778,
              "#fb9f3a"
             ],
             [
              0.8888888888888888,
              "#fdca26"
             ],
             [
              1,
              "#f0f921"
             ]
            ],
            "type": "contour"
           }
          ],
          "contourcarpet": [
           {
            "colorbar": {
             "outlinewidth": 0,
             "ticks": ""
            },
            "type": "contourcarpet"
           }
          ],
          "heatmap": [
           {
            "colorbar": {
             "outlinewidth": 0,
             "ticks": ""
            },
            "colorscale": [
             [
              0,
              "#0d0887"
             ],
             [
              0.1111111111111111,
              "#46039f"
             ],
             [
              0.2222222222222222,
              "#7201a8"
             ],
             [
              0.3333333333333333,
              "#9c179e"
             ],
             [
              0.4444444444444444,
              "#bd3786"
             ],
             [
              0.5555555555555556,
              "#d8576b"
             ],
             [
              0.6666666666666666,
              "#ed7953"
             ],
             [
              0.7777777777777778,
              "#fb9f3a"
             ],
             [
              0.8888888888888888,
              "#fdca26"
             ],
             [
              1,
              "#f0f921"
             ]
            ],
            "type": "heatmap"
           }
          ],
          "heatmapgl": [
           {
            "colorbar": {
             "outlinewidth": 0,
             "ticks": ""
            },
            "colorscale": [
             [
              0,
              "#0d0887"
             ],
             [
              0.1111111111111111,
              "#46039f"
             ],
             [
              0.2222222222222222,
              "#7201a8"
             ],
             [
              0.3333333333333333,
              "#9c179e"
             ],
             [
              0.4444444444444444,
              "#bd3786"
             ],
             [
              0.5555555555555556,
              "#d8576b"
             ],
             [
              0.6666666666666666,
              "#ed7953"
             ],
             [
              0.7777777777777778,
              "#fb9f3a"
             ],
             [
              0.8888888888888888,
              "#fdca26"
             ],
             [
              1,
              "#f0f921"
             ]
            ],
            "type": "heatmapgl"
           }
          ],
          "histogram": [
           {
            "marker": {
             "pattern": {
              "fillmode": "overlay",
              "size": 10,
              "solidity": 0.2
             }
            },
            "type": "histogram"
           }
          ],
          "histogram2d": [
           {
            "colorbar": {
             "outlinewidth": 0,
             "ticks": ""
            },
            "colorscale": [
             [
              0,
              "#0d0887"
             ],
             [
              0.1111111111111111,
              "#46039f"
             ],
             [
              0.2222222222222222,
              "#7201a8"
             ],
             [
              0.3333333333333333,
              "#9c179e"
             ],
             [
              0.4444444444444444,
              "#bd3786"
             ],
             [
              0.5555555555555556,
              "#d8576b"
             ],
             [
              0.6666666666666666,
              "#ed7953"
             ],
             [
              0.7777777777777778,
              "#fb9f3a"
             ],
             [
              0.8888888888888888,
              "#fdca26"
             ],
             [
              1,
              "#f0f921"
             ]
            ],
            "type": "histogram2d"
           }
          ],
          "histogram2dcontour": [
           {
            "colorbar": {
             "outlinewidth": 0,
             "ticks": ""
            },
            "colorscale": [
             [
              0,
              "#0d0887"
             ],
             [
              0.1111111111111111,
              "#46039f"
             ],
             [
              0.2222222222222222,
              "#7201a8"
             ],
             [
              0.3333333333333333,
              "#9c179e"
             ],
             [
              0.4444444444444444,
              "#bd3786"
             ],
             [
              0.5555555555555556,
              "#d8576b"
             ],
             [
              0.6666666666666666,
              "#ed7953"
             ],
             [
              0.7777777777777778,
              "#fb9f3a"
             ],
             [
              0.8888888888888888,
              "#fdca26"
             ],
             [
              1,
              "#f0f921"
             ]
            ],
            "type": "histogram2dcontour"
           }
          ],
          "mesh3d": [
           {
            "colorbar": {
             "outlinewidth": 0,
             "ticks": ""
            },
            "type": "mesh3d"
           }
          ],
          "parcoords": [
           {
            "line": {
             "colorbar": {
              "outlinewidth": 0,
              "ticks": ""
             }
            },
            "type": "parcoords"
           }
          ],
          "pie": [
           {
            "automargin": true,
            "type": "pie"
           }
          ],
          "scatter": [
           {
            "fillpattern": {
             "fillmode": "overlay",
             "size": 10,
             "solidity": 0.2
            },
            "type": "scatter"
           }
          ],
          "scatter3d": [
           {
            "line": {
             "colorbar": {
              "outlinewidth": 0,
              "ticks": ""
             }
            },
            "marker": {
             "colorbar": {
              "outlinewidth": 0,
              "ticks": ""
             }
            },
            "type": "scatter3d"
           }
          ],
          "scattercarpet": [
           {
            "marker": {
             "colorbar": {
              "outlinewidth": 0,
              "ticks": ""
             }
            },
            "type": "scattercarpet"
           }
          ],
          "scattergeo": [
           {
            "marker": {
             "colorbar": {
              "outlinewidth": 0,
              "ticks": ""
             }
            },
            "type": "scattergeo"
           }
          ],
          "scattergl": [
           {
            "marker": {
             "colorbar": {
              "outlinewidth": 0,
              "ticks": ""
             }
            },
            "type": "scattergl"
           }
          ],
          "scattermapbox": [
           {
            "marker": {
             "colorbar": {
              "outlinewidth": 0,
              "ticks": ""
             }
            },
            "type": "scattermapbox"
           }
          ],
          "scatterpolar": [
           {
            "marker": {
             "colorbar": {
              "outlinewidth": 0,
              "ticks": ""
             }
            },
            "type": "scatterpolar"
           }
          ],
          "scatterpolargl": [
           {
            "marker": {
             "colorbar": {
              "outlinewidth": 0,
              "ticks": ""
             }
            },
            "type": "scatterpolargl"
           }
          ],
          "scatterternary": [
           {
            "marker": {
             "colorbar": {
              "outlinewidth": 0,
              "ticks": ""
             }
            },
            "type": "scatterternary"
           }
          ],
          "surface": [
           {
            "colorbar": {
             "outlinewidth": 0,
             "ticks": ""
            },
            "colorscale": [
             [
              0,
              "#0d0887"
             ],
             [
              0.1111111111111111,
              "#46039f"
             ],
             [
              0.2222222222222222,
              "#7201a8"
             ],
             [
              0.3333333333333333,
              "#9c179e"
             ],
             [
              0.4444444444444444,
              "#bd3786"
             ],
             [
              0.5555555555555556,
              "#d8576b"
             ],
             [
              0.6666666666666666,
              "#ed7953"
             ],
             [
              0.7777777777777778,
              "#fb9f3a"
             ],
             [
              0.8888888888888888,
              "#fdca26"
             ],
             [
              1,
              "#f0f921"
             ]
            ],
            "type": "surface"
           }
          ],
          "table": [
           {
            "cells": {
             "fill": {
              "color": "#EBF0F8"
             },
             "line": {
              "color": "white"
             }
            },
            "header": {
             "fill": {
              "color": "#C8D4E3"
             },
             "line": {
              "color": "white"
             }
            },
            "type": "table"
           }
          ]
         },
         "layout": {
          "annotationdefaults": {
           "arrowcolor": "#2a3f5f",
           "arrowhead": 0,
           "arrowwidth": 1
          },
          "autotypenumbers": "strict",
          "coloraxis": {
           "colorbar": {
            "outlinewidth": 0,
            "ticks": ""
           }
          },
          "colorscale": {
           "diverging": [
            [
             0,
             "#8e0152"
            ],
            [
             0.1,
             "#c51b7d"
            ],
            [
             0.2,
             "#de77ae"
            ],
            [
             0.3,
             "#f1b6da"
            ],
            [
             0.4,
             "#fde0ef"
            ],
            [
             0.5,
             "#f7f7f7"
            ],
            [
             0.6,
             "#e6f5d0"
            ],
            [
             0.7,
             "#b8e186"
            ],
            [
             0.8,
             "#7fbc41"
            ],
            [
             0.9,
             "#4d9221"
            ],
            [
             1,
             "#276419"
            ]
           ],
           "sequential": [
            [
             0,
             "#0d0887"
            ],
            [
             0.1111111111111111,
             "#46039f"
            ],
            [
             0.2222222222222222,
             "#7201a8"
            ],
            [
             0.3333333333333333,
             "#9c179e"
            ],
            [
             0.4444444444444444,
             "#bd3786"
            ],
            [
             0.5555555555555556,
             "#d8576b"
            ],
            [
             0.6666666666666666,
             "#ed7953"
            ],
            [
             0.7777777777777778,
             "#fb9f3a"
            ],
            [
             0.8888888888888888,
             "#fdca26"
            ],
            [
             1,
             "#f0f921"
            ]
           ],
           "sequentialminus": [
            [
             0,
             "#0d0887"
            ],
            [
             0.1111111111111111,
             "#46039f"
            ],
            [
             0.2222222222222222,
             "#7201a8"
            ],
            [
             0.3333333333333333,
             "#9c179e"
            ],
            [
             0.4444444444444444,
             "#bd3786"
            ],
            [
             0.5555555555555556,
             "#d8576b"
            ],
            [
             0.6666666666666666,
             "#ed7953"
            ],
            [
             0.7777777777777778,
             "#fb9f3a"
            ],
            [
             0.8888888888888888,
             "#fdca26"
            ],
            [
             1,
             "#f0f921"
            ]
           ]
          },
          "colorway": [
           "#636efa",
           "#EF553B",
           "#00cc96",
           "#ab63fa",
           "#FFA15A",
           "#19d3f3",
           "#FF6692",
           "#B6E880",
           "#FF97FF",
           "#FECB52"
          ],
          "font": {
           "color": "#2a3f5f"
          },
          "geo": {
           "bgcolor": "white",
           "lakecolor": "white",
           "landcolor": "#E5ECF6",
           "showlakes": true,
           "showland": true,
           "subunitcolor": "white"
          },
          "hoverlabel": {
           "align": "left"
          },
          "hovermode": "closest",
          "mapbox": {
           "style": "light"
          },
          "paper_bgcolor": "white",
          "plot_bgcolor": "#E5ECF6",
          "polar": {
           "angularaxis": {
            "gridcolor": "white",
            "linecolor": "white",
            "ticks": ""
           },
           "bgcolor": "#E5ECF6",
           "radialaxis": {
            "gridcolor": "white",
            "linecolor": "white",
            "ticks": ""
           }
          },
          "scene": {
           "xaxis": {
            "backgroundcolor": "#E5ECF6",
            "gridcolor": "white",
            "gridwidth": 2,
            "linecolor": "white",
            "showbackground": true,
            "ticks": "",
            "zerolinecolor": "white"
           },
           "yaxis": {
            "backgroundcolor": "#E5ECF6",
            "gridcolor": "white",
            "gridwidth": 2,
            "linecolor": "white",
            "showbackground": true,
            "ticks": "",
            "zerolinecolor": "white"
           },
           "zaxis": {
            "backgroundcolor": "#E5ECF6",
            "gridcolor": "white",
            "gridwidth": 2,
            "linecolor": "white",
            "showbackground": true,
            "ticks": "",
            "zerolinecolor": "white"
           }
          },
          "shapedefaults": {
           "line": {
            "color": "#2a3f5f"
           }
          },
          "ternary": {
           "aaxis": {
            "gridcolor": "white",
            "linecolor": "white",
            "ticks": ""
           },
           "baxis": {
            "gridcolor": "white",
            "linecolor": "white",
            "ticks": ""
           },
           "bgcolor": "#E5ECF6",
           "caxis": {
            "gridcolor": "white",
            "linecolor": "white",
            "ticks": ""
           }
          },
          "title": {
           "x": 0.05
          },
          "xaxis": {
           "automargin": true,
           "gridcolor": "white",
           "linecolor": "white",
           "ticks": "",
           "title": {
            "standoff": 15
           },
           "zerolinecolor": "white",
           "zerolinewidth": 2
          },
          "yaxis": {
           "automargin": true,
           "gridcolor": "white",
           "linecolor": "white",
           "ticks": "",
           "title": {
            "standoff": 15
           },
           "zerolinecolor": "white",
           "zerolinewidth": 2
          }
         }
        },
        "title": {
         "text": "Portfolio Returns OOS"
        },
        "xaxis": {
         "anchor": "y",
         "domain": [
          0,
          1
         ],
         "title": {
          "text": "Date"
         }
        },
        "yaxis": {
         "anchor": "x",
         "domain": [
          0,
          1
         ],
         "title": {
          "text": "value"
         }
        }
       }
      }
     },
     "metadata": {},
     "output_type": "display_data"
    }
   ],
   "source": [
    "fig = px.line(weighted_ret['portfolio_return'], facet_col_wrap=1)\n",
    "fig.update_layout(\n",
    "    title={\n",
    "        'text': \"Portfolio Returns OOS\"})\n",
    "fig.update_yaxes(matches=None)"
   ]
  },
  {
   "cell_type": "code",
   "execution_count": 46,
   "metadata": {},
   "outputs": [
    {
     "data": {
      "application/vnd.plotly.v1+json": {
       "config": {
        "plotlyServerURL": "https://plot.ly"
       },
       "data": [
        {
         "hovertemplate": "variable=cumulative_return<br>Date=%{x}<br>value=%{y}<extra></extra>",
         "legendgroup": "cumulative_return",
         "line": {
          "color": "#636efa",
          "dash": "solid"
         },
         "marker": {
          "symbol": "circle"
         },
         "mode": "lines",
         "name": "cumulative_return",
         "orientation": "v",
         "showlegend": true,
         "type": "scatter",
         "x": [
          "2023-01-03T00:00:00",
          "2023-01-04T00:00:00",
          "2023-01-05T00:00:00",
          "2023-01-06T00:00:00",
          "2023-01-09T00:00:00",
          "2023-01-10T00:00:00",
          "2023-01-11T00:00:00"
         ],
         "xaxis": "x",
         "y": [
          -0.03238048547509664,
          -0.020631029137384238,
          0.003940039859253508,
          0.019307620173671713,
          0.02339162689152441,
          0.03656330948449216,
          0.07355510105216023
         ],
         "yaxis": "y"
        }
       ],
       "layout": {
        "legend": {
         "title": {
          "text": "variable"
         },
         "tracegroupgap": 0
        },
        "margin": {
         "t": 60
        },
        "template": {
         "data": {
          "bar": [
           {
            "error_x": {
             "color": "#2a3f5f"
            },
            "error_y": {
             "color": "#2a3f5f"
            },
            "marker": {
             "line": {
              "color": "#E5ECF6",
              "width": 0.5
             },
             "pattern": {
              "fillmode": "overlay",
              "size": 10,
              "solidity": 0.2
             }
            },
            "type": "bar"
           }
          ],
          "barpolar": [
           {
            "marker": {
             "line": {
              "color": "#E5ECF6",
              "width": 0.5
             },
             "pattern": {
              "fillmode": "overlay",
              "size": 10,
              "solidity": 0.2
             }
            },
            "type": "barpolar"
           }
          ],
          "carpet": [
           {
            "aaxis": {
             "endlinecolor": "#2a3f5f",
             "gridcolor": "white",
             "linecolor": "white",
             "minorgridcolor": "white",
             "startlinecolor": "#2a3f5f"
            },
            "baxis": {
             "endlinecolor": "#2a3f5f",
             "gridcolor": "white",
             "linecolor": "white",
             "minorgridcolor": "white",
             "startlinecolor": "#2a3f5f"
            },
            "type": "carpet"
           }
          ],
          "choropleth": [
           {
            "colorbar": {
             "outlinewidth": 0,
             "ticks": ""
            },
            "type": "choropleth"
           }
          ],
          "contour": [
           {
            "colorbar": {
             "outlinewidth": 0,
             "ticks": ""
            },
            "colorscale": [
             [
              0,
              "#0d0887"
             ],
             [
              0.1111111111111111,
              "#46039f"
             ],
             [
              0.2222222222222222,
              "#7201a8"
             ],
             [
              0.3333333333333333,
              "#9c179e"
             ],
             [
              0.4444444444444444,
              "#bd3786"
             ],
             [
              0.5555555555555556,
              "#d8576b"
             ],
             [
              0.6666666666666666,
              "#ed7953"
             ],
             [
              0.7777777777777778,
              "#fb9f3a"
             ],
             [
              0.8888888888888888,
              "#fdca26"
             ],
             [
              1,
              "#f0f921"
             ]
            ],
            "type": "contour"
           }
          ],
          "contourcarpet": [
           {
            "colorbar": {
             "outlinewidth": 0,
             "ticks": ""
            },
            "type": "contourcarpet"
           }
          ],
          "heatmap": [
           {
            "colorbar": {
             "outlinewidth": 0,
             "ticks": ""
            },
            "colorscale": [
             [
              0,
              "#0d0887"
             ],
             [
              0.1111111111111111,
              "#46039f"
             ],
             [
              0.2222222222222222,
              "#7201a8"
             ],
             [
              0.3333333333333333,
              "#9c179e"
             ],
             [
              0.4444444444444444,
              "#bd3786"
             ],
             [
              0.5555555555555556,
              "#d8576b"
             ],
             [
              0.6666666666666666,
              "#ed7953"
             ],
             [
              0.7777777777777778,
              "#fb9f3a"
             ],
             [
              0.8888888888888888,
              "#fdca26"
             ],
             [
              1,
              "#f0f921"
             ]
            ],
            "type": "heatmap"
           }
          ],
          "heatmapgl": [
           {
            "colorbar": {
             "outlinewidth": 0,
             "ticks": ""
            },
            "colorscale": [
             [
              0,
              "#0d0887"
             ],
             [
              0.1111111111111111,
              "#46039f"
             ],
             [
              0.2222222222222222,
              "#7201a8"
             ],
             [
              0.3333333333333333,
              "#9c179e"
             ],
             [
              0.4444444444444444,
              "#bd3786"
             ],
             [
              0.5555555555555556,
              "#d8576b"
             ],
             [
              0.6666666666666666,
              "#ed7953"
             ],
             [
              0.7777777777777778,
              "#fb9f3a"
             ],
             [
              0.8888888888888888,
              "#fdca26"
             ],
             [
              1,
              "#f0f921"
             ]
            ],
            "type": "heatmapgl"
           }
          ],
          "histogram": [
           {
            "marker": {
             "pattern": {
              "fillmode": "overlay",
              "size": 10,
              "solidity": 0.2
             }
            },
            "type": "histogram"
           }
          ],
          "histogram2d": [
           {
            "colorbar": {
             "outlinewidth": 0,
             "ticks": ""
            },
            "colorscale": [
             [
              0,
              "#0d0887"
             ],
             [
              0.1111111111111111,
              "#46039f"
             ],
             [
              0.2222222222222222,
              "#7201a8"
             ],
             [
              0.3333333333333333,
              "#9c179e"
             ],
             [
              0.4444444444444444,
              "#bd3786"
             ],
             [
              0.5555555555555556,
              "#d8576b"
             ],
             [
              0.6666666666666666,
              "#ed7953"
             ],
             [
              0.7777777777777778,
              "#fb9f3a"
             ],
             [
              0.8888888888888888,
              "#fdca26"
             ],
             [
              1,
              "#f0f921"
             ]
            ],
            "type": "histogram2d"
           }
          ],
          "histogram2dcontour": [
           {
            "colorbar": {
             "outlinewidth": 0,
             "ticks": ""
            },
            "colorscale": [
             [
              0,
              "#0d0887"
             ],
             [
              0.1111111111111111,
              "#46039f"
             ],
             [
              0.2222222222222222,
              "#7201a8"
             ],
             [
              0.3333333333333333,
              "#9c179e"
             ],
             [
              0.4444444444444444,
              "#bd3786"
             ],
             [
              0.5555555555555556,
              "#d8576b"
             ],
             [
              0.6666666666666666,
              "#ed7953"
             ],
             [
              0.7777777777777778,
              "#fb9f3a"
             ],
             [
              0.8888888888888888,
              "#fdca26"
             ],
             [
              1,
              "#f0f921"
             ]
            ],
            "type": "histogram2dcontour"
           }
          ],
          "mesh3d": [
           {
            "colorbar": {
             "outlinewidth": 0,
             "ticks": ""
            },
            "type": "mesh3d"
           }
          ],
          "parcoords": [
           {
            "line": {
             "colorbar": {
              "outlinewidth": 0,
              "ticks": ""
             }
            },
            "type": "parcoords"
           }
          ],
          "pie": [
           {
            "automargin": true,
            "type": "pie"
           }
          ],
          "scatter": [
           {
            "fillpattern": {
             "fillmode": "overlay",
             "size": 10,
             "solidity": 0.2
            },
            "type": "scatter"
           }
          ],
          "scatter3d": [
           {
            "line": {
             "colorbar": {
              "outlinewidth": 0,
              "ticks": ""
             }
            },
            "marker": {
             "colorbar": {
              "outlinewidth": 0,
              "ticks": ""
             }
            },
            "type": "scatter3d"
           }
          ],
          "scattercarpet": [
           {
            "marker": {
             "colorbar": {
              "outlinewidth": 0,
              "ticks": ""
             }
            },
            "type": "scattercarpet"
           }
          ],
          "scattergeo": [
           {
            "marker": {
             "colorbar": {
              "outlinewidth": 0,
              "ticks": ""
             }
            },
            "type": "scattergeo"
           }
          ],
          "scattergl": [
           {
            "marker": {
             "colorbar": {
              "outlinewidth": 0,
              "ticks": ""
             }
            },
            "type": "scattergl"
           }
          ],
          "scattermapbox": [
           {
            "marker": {
             "colorbar": {
              "outlinewidth": 0,
              "ticks": ""
             }
            },
            "type": "scattermapbox"
           }
          ],
          "scatterpolar": [
           {
            "marker": {
             "colorbar": {
              "outlinewidth": 0,
              "ticks": ""
             }
            },
            "type": "scatterpolar"
           }
          ],
          "scatterpolargl": [
           {
            "marker": {
             "colorbar": {
              "outlinewidth": 0,
              "ticks": ""
             }
            },
            "type": "scatterpolargl"
           }
          ],
          "scatterternary": [
           {
            "marker": {
             "colorbar": {
              "outlinewidth": 0,
              "ticks": ""
             }
            },
            "type": "scatterternary"
           }
          ],
          "surface": [
           {
            "colorbar": {
             "outlinewidth": 0,
             "ticks": ""
            },
            "colorscale": [
             [
              0,
              "#0d0887"
             ],
             [
              0.1111111111111111,
              "#46039f"
             ],
             [
              0.2222222222222222,
              "#7201a8"
             ],
             [
              0.3333333333333333,
              "#9c179e"
             ],
             [
              0.4444444444444444,
              "#bd3786"
             ],
             [
              0.5555555555555556,
              "#d8576b"
             ],
             [
              0.6666666666666666,
              "#ed7953"
             ],
             [
              0.7777777777777778,
              "#fb9f3a"
             ],
             [
              0.8888888888888888,
              "#fdca26"
             ],
             [
              1,
              "#f0f921"
             ]
            ],
            "type": "surface"
           }
          ],
          "table": [
           {
            "cells": {
             "fill": {
              "color": "#EBF0F8"
             },
             "line": {
              "color": "white"
             }
            },
            "header": {
             "fill": {
              "color": "#C8D4E3"
             },
             "line": {
              "color": "white"
             }
            },
            "type": "table"
           }
          ]
         },
         "layout": {
          "annotationdefaults": {
           "arrowcolor": "#2a3f5f",
           "arrowhead": 0,
           "arrowwidth": 1
          },
          "autotypenumbers": "strict",
          "coloraxis": {
           "colorbar": {
            "outlinewidth": 0,
            "ticks": ""
           }
          },
          "colorscale": {
           "diverging": [
            [
             0,
             "#8e0152"
            ],
            [
             0.1,
             "#c51b7d"
            ],
            [
             0.2,
             "#de77ae"
            ],
            [
             0.3,
             "#f1b6da"
            ],
            [
             0.4,
             "#fde0ef"
            ],
            [
             0.5,
             "#f7f7f7"
            ],
            [
             0.6,
             "#e6f5d0"
            ],
            [
             0.7,
             "#b8e186"
            ],
            [
             0.8,
             "#7fbc41"
            ],
            [
             0.9,
             "#4d9221"
            ],
            [
             1,
             "#276419"
            ]
           ],
           "sequential": [
            [
             0,
             "#0d0887"
            ],
            [
             0.1111111111111111,
             "#46039f"
            ],
            [
             0.2222222222222222,
             "#7201a8"
            ],
            [
             0.3333333333333333,
             "#9c179e"
            ],
            [
             0.4444444444444444,
             "#bd3786"
            ],
            [
             0.5555555555555556,
             "#d8576b"
            ],
            [
             0.6666666666666666,
             "#ed7953"
            ],
            [
             0.7777777777777778,
             "#fb9f3a"
            ],
            [
             0.8888888888888888,
             "#fdca26"
            ],
            [
             1,
             "#f0f921"
            ]
           ],
           "sequentialminus": [
            [
             0,
             "#0d0887"
            ],
            [
             0.1111111111111111,
             "#46039f"
            ],
            [
             0.2222222222222222,
             "#7201a8"
            ],
            [
             0.3333333333333333,
             "#9c179e"
            ],
            [
             0.4444444444444444,
             "#bd3786"
            ],
            [
             0.5555555555555556,
             "#d8576b"
            ],
            [
             0.6666666666666666,
             "#ed7953"
            ],
            [
             0.7777777777777778,
             "#fb9f3a"
            ],
            [
             0.8888888888888888,
             "#fdca26"
            ],
            [
             1,
             "#f0f921"
            ]
           ]
          },
          "colorway": [
           "#636efa",
           "#EF553B",
           "#00cc96",
           "#ab63fa",
           "#FFA15A",
           "#19d3f3",
           "#FF6692",
           "#B6E880",
           "#FF97FF",
           "#FECB52"
          ],
          "font": {
           "color": "#2a3f5f"
          },
          "geo": {
           "bgcolor": "white",
           "lakecolor": "white",
           "landcolor": "#E5ECF6",
           "showlakes": true,
           "showland": true,
           "subunitcolor": "white"
          },
          "hoverlabel": {
           "align": "left"
          },
          "hovermode": "closest",
          "mapbox": {
           "style": "light"
          },
          "paper_bgcolor": "white",
          "plot_bgcolor": "#E5ECF6",
          "polar": {
           "angularaxis": {
            "gridcolor": "white",
            "linecolor": "white",
            "ticks": ""
           },
           "bgcolor": "#E5ECF6",
           "radialaxis": {
            "gridcolor": "white",
            "linecolor": "white",
            "ticks": ""
           }
          },
          "scene": {
           "xaxis": {
            "backgroundcolor": "#E5ECF6",
            "gridcolor": "white",
            "gridwidth": 2,
            "linecolor": "white",
            "showbackground": true,
            "ticks": "",
            "zerolinecolor": "white"
           },
           "yaxis": {
            "backgroundcolor": "#E5ECF6",
            "gridcolor": "white",
            "gridwidth": 2,
            "linecolor": "white",
            "showbackground": true,
            "ticks": "",
            "zerolinecolor": "white"
           },
           "zaxis": {
            "backgroundcolor": "#E5ECF6",
            "gridcolor": "white",
            "gridwidth": 2,
            "linecolor": "white",
            "showbackground": true,
            "ticks": "",
            "zerolinecolor": "white"
           }
          },
          "shapedefaults": {
           "line": {
            "color": "#2a3f5f"
           }
          },
          "ternary": {
           "aaxis": {
            "gridcolor": "white",
            "linecolor": "white",
            "ticks": ""
           },
           "baxis": {
            "gridcolor": "white",
            "linecolor": "white",
            "ticks": ""
           },
           "bgcolor": "#E5ECF6",
           "caxis": {
            "gridcolor": "white",
            "linecolor": "white",
            "ticks": ""
           }
          },
          "title": {
           "x": 0.05
          },
          "xaxis": {
           "automargin": true,
           "gridcolor": "white",
           "linecolor": "white",
           "ticks": "",
           "title": {
            "standoff": 15
           },
           "zerolinecolor": "white",
           "zerolinewidth": 2
          },
          "yaxis": {
           "automargin": true,
           "gridcolor": "white",
           "linecolor": "white",
           "ticks": "",
           "title": {
            "standoff": 15
           },
           "zerolinecolor": "white",
           "zerolinewidth": 2
          }
         }
        },
        "title": {
         "text": "Portfolio Cumulative Returns OOS"
        },
        "xaxis": {
         "anchor": "y",
         "domain": [
          0,
          1
         ],
         "title": {
          "text": "Date"
         }
        },
        "yaxis": {
         "anchor": "x",
         "domain": [
          0,
          1
         ],
         "title": {
          "text": "value"
         }
        }
       }
      }
     },
     "metadata": {},
     "output_type": "display_data"
    }
   ],
   "source": [
    "fig = px.line(weighted_ret['cumulative_return'], facet_col_wrap=1)\n",
    "fig.update_layout(\n",
    "    title={\n",
    "        'text': \"Portfolio Cumulative Returns OOS\"})\n",
    "fig.update_yaxes(matches=None)\n",
    "fig.show()\n",
    "\n",
    "\n"
   ]
  },
  {
   "cell_type": "markdown",
   "metadata": {},
   "source": [
    "#### Benchmark ?? - Sharpe Ratio (Porém sozinho não significa muita coisa)"
   ]
  },
  {
   "cell_type": "markdown",
   "metadata": {},
   "source": [
    "- https://ibmdecisionoptimization.github.io/tutorials/html/Beyond_Linear_Programming.html"
   ]
  },
  {
   "cell_type": "markdown",
   "metadata": {},
   "source": []
  }
 ],
 "metadata": {
  "kernelspec": {
   "display_name": "Python 3",
   "language": "python",
   "name": "python3"
  },
  "language_info": {
   "codemirror_mode": {
    "name": "ipython",
    "version": 3
   },
   "file_extension": ".py",
   "mimetype": "text/x-python",
   "name": "python",
   "nbconvert_exporter": "python",
   "pygments_lexer": "ipython3",
   "version": "3.8.19"
  }
 },
 "nbformat": 4,
 "nbformat_minor": 2
}
