{
 "cells": [
  {
   "cell_type": "markdown",
   "metadata": {},
   "source": [
    "# Investment Portfolio Analysis\n",
    "\n",
    "### Author: Toni Esteves\n",
    "This Project is from the coursera course: Investment Strategies and Portfolio Analysis, from Rice University\n",
    "\n",
    "## Week 2: Quantitative Risk Assessment\n",
    "\n",
    "In this module, we focus on constructing return-to-risk measures in order to compare investments in terms of their desirability. You are going to learn several different ways to calculate Risk-Adjusted Return Measures for an actively managed fund and understand how these measures differ from each other.\n",
    "\n",
    "### Lecture Notes\n",
    "\n",
    "#### General Notation\n",
    "$$r_i-r_f = \\alpha_i + \\beta_i (r_b - r_f) + \\epsilon_i$$\n",
    "- $r_i$: return on asset i\n",
    "- $r_f$: risk-free rate\n",
    "- $r_b$: return on benchmark portfolio (in CAPM = market portfolio)\n",
    "- $\\alpha_i,\\beta_i$: wrt the benchmark portfolio\n",
    "- $\\epsilon_i$: residual return on asset i\n",
    "- $\\sigma_i = \\sigma(r_i-r_f)$\n",
    "- $\\sigma_b = \\sigma(r_b-r_f)$\n",
    "- $\\sigma_\\epsilon = \\sigma(\\epsilon_i)$\n",
    "\n",
    "#### 1. Sharp Ratio \n",
    "$$SR = {\\sf sharp\\ ratio} = \\frac{{\\sf risk\\ premium}}{\\sigma_p} = \\frac{E(r_p-r_f)}{\\sigma_p} = \\frac{\\bar{r_p}-\\bar{r_f}}{\\sigma_p}$$\n",
    "- In the hypothetical world of CAPM, the maximum Sharpe ratio is that of the market portfolio. \n",
    "- In the real world, Sharpe ratio provides a basis to rank portfolios.\n",
    "- Sharpe ratio is generally not used to evaluate the performance individual securities because it does not account for correlation between securities.\n",
    "- Sharpe ratio is a measure of reward to variability. \n",
    "- $SR_{annual} = SR_{month} * \\sqrt{12}$\n",
    "\n",
    "#### 2. Sortino Ratio\n",
    "$$SR_{down} = {\\sf sortino\\ ratio} = \\frac{E(r_p-\\tau)}{\\sigma_{down}}$$\n",
    "- Sortino ratio is an extension of the Sharpe ratio that focuses on the downside risk.\n",
    "\n",
    "#### 3. Treynor’s Measure\n",
    "$$TR_{p} = {\\sf treynor\\ ratio} = \\frac{E(r_p-r_f)}{\\beta_p}$$\n",
    "- Like the Sharpe ratio, Treynor’s measure gives the excess return per unit of risk, but it uses systematic risk instead of total risk.\n",
    "- Not clear how to apply if there are multiple risk factors.\n",
    "- Treynor measure is a better measure for comparing assets that may be combined into portfolios.\n",
    "\n",
    "#### 4. Jensen’s alpha\n",
    "- Alpha is a measure of the risk-adjusted excess return: Benchmark alpha, CAPM alpha, Multi-factor alpha\n",
    " \n",
    "- Jensen’s alpha is the maximum you should be willing to compensate a portfolio manager. For example, if a fund has a pre-expense alpha of 0.0015 (monthly), this means we should be willing to pay up to 0.15% per month, or 1.8% per year. Alternatively, were you to compensate the manager this much, your after-expense alpha would be zero.\n",
    " \n",
    "- Jensen’s alpha is the excess return not explained by the CAPM (or your favorite risk-based model). To generate outperformance, we must have positive alpha’s.\n",
    "\n",
    "#### 5. Appraisal Ratio\n",
    "$$AR = {\\sf appraisal\\ ratio} = \\frac{\\alpha_p}{\\sigma_{p,\\epsilon}}$$\n",
    "- $\\alpha_p$: Jensen’s alpha; $\\sigma_{p,\\epsilon}$ = residual risk = idiosyncratic risk of the portfolio\n",
    "- Jensen’s alpha does not adjust for the amount of idiosnycratic risk in the portfolio.\n",
    "- Appraisal ratio represents the expected abnormal return per unit of systematic risk taken.\n",
    "\n",
    "#### 6. Information Ratio\n",
    "$$IR = {\\sf information\\ ratio} = \\frac{E(\\bar{r}_p-\\bar{r}_b)}{\\sigma(\\bar{r}_p-\\bar{r}_b)} $$\n",
    "- $\\bar{r}_p$: average return on the portfolio\n",
    "- $\\bar{r}_b$: average return on the benchmark\n",
    "- $\\sigma(\\bar{r}_p-\\bar{r}_b)$ = volatility of the difference = Tracking Error\n",
    "- The appraisal ratio and information ratio are both measures of benefit and cost – how much abnormal return for how much residual risk, where residual risk is $\\sigma(\\epsilon_i)$\n",
    "\n",
    "#### 7. When are these measures appropriate to use?\n",
    "- **Sharpe Ratio is more appropriate for evaluating entire portfolios, rather than sub-portfolios or individual stocks**. Suppose the investor can choose only one fund and choosing among different funds, then choose the one with the highest Sharpe ratio.\n",
    " \n",
    "- **The appraisal ratio and the information ratio are informative if the focus is on active management relative to a benchmark** – effectively they are measures of active reward to active risk. The basis for the risk adjustment is residual risk or tracking error.\n",
    " \n",
    "- **Jensen’s alpha and Treynor measure are better suited for evaluating individual stocks or sub-portfolios**. They use systematic risk as the basis for adjusting returns.\n",
    "\n",
    "- If the **underlying return distribution is asymmetric or skewed, or if the investor has a particular return target that defines downside risk**, then **Sortino ratio** is a good alternative to **Sharpe ratio**.\n",
    "\n",
    "#### 8. Important Caveat and Summary\n",
    "- Beware of estimation error!\n",
    "- Averages, standard deviations, and regressions are notoriously susceptible to outliers.\n",
    "- Distribution of future returns might not be the same as past returns.\n",
    "- It is advisable that you use more than one single measure.\n",
    "- The objective is to separate excess returns due to stock selection/asset allocation skill from higher returns due to compensation for risk."
   ]
  },
  {
   "cell_type": "code",
   "execution_count": 20,
   "metadata": {},
   "outputs": [],
   "source": [
    "import pandas as pd\n",
    "import numpy as np\n",
    "import scipy\n",
    "import matplotlib.pyplot as plt"
   ]
  },
  {
   "cell_type": "code",
   "execution_count": 75,
   "metadata": {},
   "outputs": [
    {
     "data": {
      "text/html": [
       "<div>\n",
       "<style scoped>\n",
       "    .dataframe tbody tr th:only-of-type {\n",
       "        vertical-align: middle;\n",
       "    }\n",
       "\n",
       "    .dataframe tbody tr th {\n",
       "        vertical-align: top;\n",
       "    }\n",
       "\n",
       "    .dataframe thead th {\n",
       "        text-align: right;\n",
       "    }\n",
       "</style>\n",
       "<table border=\"1\" class=\"dataframe\">\n",
       "  <thead>\n",
       "    <tr style=\"text-align: right;\">\n",
       "      <th></th>\n",
       "      <th>Month</th>\n",
       "      <th>A</th>\n",
       "      <th>B</th>\n",
       "      <th>M</th>\n",
       "    </tr>\n",
       "  </thead>\n",
       "  <tbody>\n",
       "    <tr>\n",
       "      <th>0</th>\n",
       "      <td>1</td>\n",
       "      <td>0.67</td>\n",
       "      <td>3.72</td>\n",
       "      <td>-1.56</td>\n",
       "    </tr>\n",
       "    <tr>\n",
       "      <th>1</th>\n",
       "      <td>2</td>\n",
       "      <td>1.69</td>\n",
       "      <td>3.31</td>\n",
       "      <td>-2.08</td>\n",
       "    </tr>\n",
       "    <tr>\n",
       "      <th>2</th>\n",
       "      <td>3</td>\n",
       "      <td>12.37</td>\n",
       "      <td>7.26</td>\n",
       "      <td>3.67</td>\n",
       "    </tr>\n",
       "    <tr>\n",
       "      <th>3</th>\n",
       "      <td>4</td>\n",
       "      <td>0.32</td>\n",
       "      <td>0.15</td>\n",
       "      <td>-6.14</td>\n",
       "    </tr>\n",
       "    <tr>\n",
       "      <th>4</th>\n",
       "      <td>5</td>\n",
       "      <td>3.65</td>\n",
       "      <td>4.17</td>\n",
       "      <td>-0.91</td>\n",
       "    </tr>\n",
       "  </tbody>\n",
       "</table>\n",
       "</div>"
      ],
      "text/plain": [
       "   Month      A     B     M\n",
       "0      1   0.67  3.72 -1.56\n",
       "1      2   1.69  3.31 -2.08\n",
       "2      3  12.37  7.26  3.67\n",
       "3      4   0.32  0.15 -6.14\n",
       "4      5   3.65  4.17 -0.91"
      ]
     },
     "execution_count": 75,
     "metadata": {},
     "output_type": "execute_result"
    }
   ],
   "source": [
    "# A: Returns on Portfolio A\n",
    "# B: Returns on Portfolio B\n",
    "# M: Market Returns\n",
    "data = pd.read_csv(\"../data/quiz_data_3.csv\", sep=';')\n",
    "data.head()"
   ]
  },
  {
   "cell_type": "code",
   "execution_count": 76,
   "metadata": {},
   "outputs": [
    {
     "data": {
      "text/html": [
       "<div>\n",
       "<style scoped>\n",
       "    .dataframe tbody tr th:only-of-type {\n",
       "        vertical-align: middle;\n",
       "    }\n",
       "\n",
       "    .dataframe tbody tr th {\n",
       "        vertical-align: top;\n",
       "    }\n",
       "\n",
       "    .dataframe thead th {\n",
       "        text-align: right;\n",
       "    }\n",
       "</style>\n",
       "<table border=\"1\" class=\"dataframe\">\n",
       "  <thead>\n",
       "    <tr style=\"text-align: right;\">\n",
       "      <th></th>\n",
       "      <th>Month</th>\n",
       "      <th>A</th>\n",
       "      <th>B</th>\n",
       "      <th>M</th>\n",
       "    </tr>\n",
       "  </thead>\n",
       "  <tbody>\n",
       "    <tr>\n",
       "      <th>count</th>\n",
       "      <td>36.000000</td>\n",
       "      <td>36.000000</td>\n",
       "      <td>36.000000</td>\n",
       "      <td>36.000000</td>\n",
       "    </tr>\n",
       "    <tr>\n",
       "      <th>mean</th>\n",
       "      <td>18.500000</td>\n",
       "      <td>1.561667</td>\n",
       "      <td>4.660000</td>\n",
       "      <td>0.243333</td>\n",
       "    </tr>\n",
       "    <tr>\n",
       "      <th>std</th>\n",
       "      <td>10.535654</td>\n",
       "      <td>6.563269</td>\n",
       "      <td>3.021299</td>\n",
       "      <td>4.339112</td>\n",
       "    </tr>\n",
       "    <tr>\n",
       "      <th>min</th>\n",
       "      <td>1.000000</td>\n",
       "      <td>-14.550000</td>\n",
       "      <td>-3.520000</td>\n",
       "      <td>-11.000000</td>\n",
       "    </tr>\n",
       "    <tr>\n",
       "      <th>25%</th>\n",
       "      <td>9.750000</td>\n",
       "      <td>-1.337500</td>\n",
       "      <td>3.287500</td>\n",
       "      <td>-1.685000</td>\n",
       "    </tr>\n",
       "    <tr>\n",
       "      <th>50%</th>\n",
       "      <td>18.500000</td>\n",
       "      <td>1.615000</td>\n",
       "      <td>4.870000</td>\n",
       "      <td>0.890000</td>\n",
       "    </tr>\n",
       "    <tr>\n",
       "      <th>75%</th>\n",
       "      <td>27.250000</td>\n",
       "      <td>4.547500</td>\n",
       "      <td>6.297500</td>\n",
       "      <td>2.162500</td>\n",
       "    </tr>\n",
       "    <tr>\n",
       "      <th>max</th>\n",
       "      <td>36.000000</td>\n",
       "      <td>16.910000</td>\n",
       "      <td>10.460000</td>\n",
       "      <td>8.640000</td>\n",
       "    </tr>\n",
       "  </tbody>\n",
       "</table>\n",
       "</div>"
      ],
      "text/plain": [
       "           Month          A          B          M\n",
       "count  36.000000  36.000000  36.000000  36.000000\n",
       "mean   18.500000   1.561667   4.660000   0.243333\n",
       "std    10.535654   6.563269   3.021299   4.339112\n",
       "min     1.000000 -14.550000  -3.520000 -11.000000\n",
       "25%     9.750000  -1.337500   3.287500  -1.685000\n",
       "50%    18.500000   1.615000   4.870000   0.890000\n",
       "75%    27.250000   4.547500   6.297500   2.162500\n",
       "max    36.000000  16.910000  10.460000   8.640000"
      ]
     },
     "execution_count": 76,
     "metadata": {},
     "output_type": "execute_result"
    }
   ],
   "source": [
    "# Excess Returns over the risk free rate!\n",
    "data.describe()"
   ]
  },
  {
   "cell_type": "code",
   "execution_count": 77,
   "metadata": {},
   "outputs": [],
   "source": [
    "def risk_assessment(x, y):\n",
    "    ''' \n",
    "    x is market return, \n",
    "    y is portfolio return\n",
    "    '''\n",
    "    sharp_ratio = y.mean() / y.std()\n",
    "    corr        = np.corrcoef(x, y)[0][1]\n",
    "    slope, intercept, r_value, p_value, std_err = scipy.stats.linregress(x, y)\n",
    "\n",
    "    alpha           = intercept\n",
    "    beta            = slope\n",
    "    r2              = r_value**2\n",
    "    treynor_measure = y.mean() / beta\n",
    "\n",
    "    epsilon         = y - (beta*x + alpha)\n",
    "    residual_risk   = epsilon.std()\n",
    "    appraisal_ratio = alpha / residual_risk\n",
    "\n",
    "    excess_return_over_market = y - x\n",
    "    tracking_error            = excess_return_over_market.std()\n",
    "    information_ratio         = excess_return_over_market.mean() / tracking_error\n",
    "    \n",
    "    print(f\"Average Return:                             {y.mean():.3f}\")\n",
    "    print(f\"Return Volatility:                          {y.std():.3f}\")\n",
    "    print(f\"Sharp Ratio:                                {sharp_ratio:.3f}\")\n",
    "    print(f\"CAPM Alpha:                                 {alpha:.3f}\")\n",
    "    print(f\"CAPM Beta:                                  {beta:.3f}\")\n",
    "    print(f\"corr:                                       {corr:.3f}\")\n",
    "    print(f\"r2:                                         {r2:.3f}\")\n",
    "    print(f\"Treynor's measure:                          {treynor_measure:.3f}\")\n",
    "    print(f\"Residual Risk (measure idiosyncratic risk): {residual_risk:.3f}\")\n",
    "    print(f\"Appraisal Ratio:                            {appraisal_ratio:.3f}\")\n",
    "    print(f\"Information Ratio:                          {information_ratio:.3f}\")\n",
    "\n",
    "    _ = plt.plot(x, y, 'o', label='Original data', markersize=5)\n",
    "    _ = plt.grid()\n",
    "    _ = plt.plot(x, beta*x + alpha, 'r', label='Fitted line')\n",
    "    _ = plt.legend()\n",
    "    plt.show()\n",
    "\n",
    "## alternative methods\n",
    "# A = np.vstack([x, np.ones(len(x))]).T\n",
    "# beta, alpha = np.linalg.lstsq(A, y, rcond=None)[0]\n",
    "#\n",
    "# corr = np.corrcoef(x, y)[0][1]\n",
    "# std_a = y.std()\n",
    "# std_m = x.std()\n",
    "# beta = corr * std_a / std_m\n",
    "# treynor_measure = y.mean() / beta"
   ]
  },
  {
   "cell_type": "code",
   "execution_count": 78,
   "metadata": {},
   "outputs": [
    {
     "data": {
      "text/plain": [
       "<Axes: >"
      ]
     },
     "execution_count": 78,
     "metadata": {},
     "output_type": "execute_result"
    },
    {
     "data": {
      "image/png": "[encoded data removed]",
      "text/plain": [
       "<Figure size 640x480 with 1 Axes>"
      ]
     },
     "metadata": {},
     "output_type": "display_data"
    }
   ],
   "source": [
    "data['A'].hist()"
   ]
  },
  {
   "cell_type": "code",
   "execution_count": 79,
   "metadata": {},
   "outputs": [
    {
     "data": {
      "text/plain": [
       "<Axes: >"
      ]
     },
     "execution_count": 79,
     "metadata": {},
     "output_type": "execute_result"
    },
    {
     "data": {
      "image/png": "[encoded data removed]",
      "text/plain": [
       "<Figure size 640x480 with 1 Axes>"
      ]
     },
     "metadata": {},
     "output_type": "display_data"
    }
   ],
   "source": [
    "data['B'].hist()"
   ]
  },
  {
   "cell_type": "code",
   "execution_count": 80,
   "metadata": {},
   "outputs": [
    {
     "name": "stdout",
     "output_type": "stream",
     "text": [
      "Average Return:                             1.562\n",
      "Return Volatility:                          6.563\n",
      "Sharp Ratio:                                0.238\n",
      "CAPM Alpha:                                 1.247\n",
      "CAPM Beta:                                  1.295\n",
      "corr:                                       0.856\n",
      "r2:                                         0.732\n",
      "Treynor's measure:                          1.206\n",
      "Residual Risk (measure idiosyncratic risk): 3.395\n",
      "Appraisal Ratio:                            0.367\n",
      "Information Ratio:                          0.363\n"
     ]
    },
    {
     "data": {
      "image/png": "[encoded data removed]",
      "text/plain": [
       "<Figure size 640x480 with 1 Axes>"
      ]
     },
     "metadata": {},
     "output_type": "display_data"
    }
   ],
   "source": [
    "risk_assessment(data['M'], data['A'])"
   ]
  },
  {
   "cell_type": "code",
   "execution_count": 81,
   "metadata": {},
   "outputs": [
    {
     "name": "stdout",
     "output_type": "stream",
     "text": [
      "Average Return:                             4.660\n",
      "Return Volatility:                          3.021\n",
      "Sharp Ratio:                                1.542\n",
      "CAPM Alpha:                                 4.491\n",
      "CAPM Beta:                                  0.694\n",
      "corr:                                       0.996\n",
      "r2:                                         0.993\n",
      "Treynor's measure:                          6.718\n",
      "Residual Risk (measure idiosyncratic risk): 0.260\n",
      "Appraisal Ratio:                            17.251\n",
      "Information Ratio:                          3.261\n"
     ]
    },
    {
     "data": {
      "image/png": "[encoded data removed]",
      "text/plain": [
       "<Figure size 640x480 with 1 Axes>"
      ]
     },
     "metadata": {},
     "output_type": "display_data"
    }
   ],
   "source": [
    "risk_assessment(data['M'], data['B'])"
   ]
  },
  {
   "cell_type": "markdown",
   "metadata": {},
   "source": [
    "### Conclusion\n",
    "- **Q:** Which portfolio is considered more aggressive? \n",
    "- **A:** B\n",
    "\n",
    "- **Q:** Which portfolio is more diversified? In other words, which portfolio has less idiosyncratic risk? \n",
    "- **A:** A\n",
    "\n",
    "- **Q:** If you were to choose one single portfolio to invest all of your wealth in, which one would you choose? \n",
    "- **A:** A\n",
    "\n",
    "- **Q:** Suppose you are already holding a passive index fund, and you are choosing between A and B to add to your portfolio. Which portfolio is more attractive? \n",
    "- **A:** A"
   ]
  },
  {
   "cell_type": "markdown",
   "metadata": {},
   "source": []
  }
 ],
 "metadata": {
  "kernelspec": {
   "display_name": "quant-lab",
   "language": "python",
   "name": "python3"
  },
  "language_info": {
   "codemirror_mode": {
    "name": "ipython",
    "version": 3
   },
   "file_extension": ".py",
   "mimetype": "text/x-python",
   "name": "python",
   "nbconvert_exporter": "python",
   "pygments_lexer": "ipython3",
   "version": "3.8.19"
  }
 },
 "nbformat": 4,
 "nbformat_minor": 2
}
